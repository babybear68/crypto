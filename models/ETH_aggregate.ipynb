{
 "cells": [
  {
   "cell_type": "code",
   "execution_count": 1,
   "metadata": {},
   "outputs": [
    {
     "name": "stdout",
     "output_type": "stream",
     "text": [
      "Interactive namespace is empty.\n"
     ]
    }
   ],
   "source": [
    "%who"
   ]
  },
  {
   "cell_type": "code",
   "execution_count": 2,
   "metadata": {},
   "outputs": [
    {
     "name": "stderr",
     "output_type": "stream",
     "text": [
      "/Users/hanlinzhuang/anaconda3/lib/python3.6/site-packages/sklearn/ensemble/weight_boosting.py:29: DeprecationWarning: numpy.core.umath_tests is an internal NumPy module and should not be imported. It will be removed in a future NumPy release.\n",
      "  from numpy.core.umath_tests import inner1d\n"
     ]
    }
   ],
   "source": [
    "import pandas as pd\n",
    "import numpy as np\n",
    "from sklearn.linear_model import LinearRegression\n",
    "from sklearn.model_selection import cross_val_score\n",
    "from sklearn.model_selection import train_test_split\n",
    "from sklearn.metrics import mean_squared_error\n",
    "from sklearn.ensemble import RandomForestClassifier\n",
    "from sklearn.metrics import confusion_matrix\n",
    "from sklearn.ensemble import GradientBoostingRegressor\n",
    "from sklearn.ensemble import AdaBoostClassifier\n",
    "from sklearn.metrics import precision_score\n",
    "from sklearn.metrics import recall_score\n",
    "import warnings\n",
    "warnings.filterwarnings(\"ignore\")"
   ]
  },
  {
   "cell_type": "code",
   "execution_count": 3,
   "metadata": {},
   "outputs": [],
   "source": [
    "data = pd.read_csv('../../raw data/new/eth_hourly.csv')"
   ]
  },
  {
   "cell_type": "code",
   "execution_count": 4,
   "metadata": {},
   "outputs": [],
   "source": [
    "data['vol_per_count'] = data['volume_traded']/data['trades_count']\n",
    "data['roi'] = np.log(data['price_close']/data['price_close'].shift())*100\n",
    "data['price_close_lag1'] = data['price_close'].shift(1)\n",
    "data['price_close_lag2'] = data['price_close'].shift(2)\n",
    "data['price_close_lag3'] = data['price_close'].shift(3)\n",
    "data['volume_traded_lag1'] = data['volume_traded'].shift(1)\n",
    "data['trades_count_lag1'] = data['trades_count'].shift(1)\n",
    "data['vol_per_count_lag1'] = data['vol_per_count'].shift(1)\n",
    "data['roi_lag1'] = data['roi'].shift(1)\n",
    "data['roi_lag2'] = data['roi'].shift(2)\n",
    "data['roi_lag3'] = data['roi'].shift(3)"
   ]
  },
  {
   "cell_type": "code",
   "execution_count": 5,
   "metadata": {},
   "outputs": [
    {
     "data": {
      "text/plain": [
       "count    2135.000000\n",
       "mean        0.022361\n",
       "std         2.050317\n",
       "min       -12.726184\n",
       "25%        -0.575787\n",
       "50%        -0.003578\n",
       "75%         0.618430\n",
       "max        10.254219\n",
       "Name: roi, dtype: float64"
      ]
     },
     "execution_count": 5,
     "metadata": {},
     "output_type": "execute_result"
    }
   ],
   "source": [
    "data['roi'].describe()"
   ]
  },
  {
   "cell_type": "code",
   "execution_count": 6,
   "metadata": {},
   "outputs": [],
   "source": [
    "std = data['roi'].std()\n",
    "data['cut'] = pd.cut(data['roi'], \n",
    "                     bins=[-100, -3*std, -2*std, -std, 0, std, 2*std, 3*std, 100], \n",
    "                    labels=['-4', '-3', '-2', '-1', '+1', '+2', '+3', '+4'])\n",
    "data['cut_lag1'] = data['cut'].shift(1)\n",
    "data['cut_lag2'] = data['cut'].shift(2)\n",
    "data['cut_lag3'] = data['cut'].shift(3)"
   ]
  },
  {
   "cell_type": "code",
   "execution_count": 7,
   "metadata": {},
   "outputs": [
    {
     "data": {
      "text/html": [
       "<div>\n",
       "<style scoped>\n",
       "    .dataframe tbody tr th:only-of-type {\n",
       "        vertical-align: middle;\n",
       "    }\n",
       "\n",
       "    .dataframe tbody tr th {\n",
       "        vertical-align: top;\n",
       "    }\n",
       "\n",
       "    .dataframe thead th {\n",
       "        text-align: right;\n",
       "    }\n",
       "</style>\n",
       "<table border=\"1\" class=\"dataframe\">\n",
       "  <thead>\n",
       "    <tr style=\"text-align: right;\">\n",
       "      <th></th>\n",
       "      <th>time_period_start</th>\n",
       "      <th>time_period_end</th>\n",
       "      <th>time_open</th>\n",
       "      <th>time_close</th>\n",
       "      <th>price_open</th>\n",
       "      <th>price_high</th>\n",
       "      <th>price_low</th>\n",
       "      <th>price_close</th>\n",
       "      <th>volume_traded</th>\n",
       "      <th>trades_count</th>\n",
       "      <th>...</th>\n",
       "      <th>volume_traded_lag1</th>\n",
       "      <th>trades_count_lag1</th>\n",
       "      <th>vol_per_count_lag1</th>\n",
       "      <th>roi_lag1</th>\n",
       "      <th>roi_lag2</th>\n",
       "      <th>roi_lag3</th>\n",
       "      <th>cut</th>\n",
       "      <th>cut_lag1</th>\n",
       "      <th>cut_lag2</th>\n",
       "      <th>cut_lag3</th>\n",
       "    </tr>\n",
       "  </thead>\n",
       "  <tbody>\n",
       "    <tr>\n",
       "      <th>0</th>\n",
       "      <td>2019-02-01T00:00:00.0000000Z</td>\n",
       "      <td>2019-02-01T01:00:00.0000000Z</td>\n",
       "      <td>2019-02-01T00:00:00.0000000Z</td>\n",
       "      <td>2019-02-01T00:59:56.8440000Z</td>\n",
       "      <td>105.84</td>\n",
       "      <td>115.898980</td>\n",
       "      <td>103.34642</td>\n",
       "      <td>105.250000</td>\n",
       "      <td>15306.01465</td>\n",
       "      <td>2118</td>\n",
       "      <td>...</td>\n",
       "      <td>NaN</td>\n",
       "      <td>NaN</td>\n",
       "      <td>NaN</td>\n",
       "      <td>NaN</td>\n",
       "      <td>NaN</td>\n",
       "      <td>NaN</td>\n",
       "      <td>NaN</td>\n",
       "      <td>NaN</td>\n",
       "      <td>NaN</td>\n",
       "      <td>NaN</td>\n",
       "    </tr>\n",
       "    <tr>\n",
       "      <th>1</th>\n",
       "      <td>2019-02-01T01:00:00.0000000Z</td>\n",
       "      <td>2019-02-01T02:00:00.0000000Z</td>\n",
       "      <td>2019-02-01T01:00:01.4630000Z</td>\n",
       "      <td>2019-02-01T01:59:59.3180000Z</td>\n",
       "      <td>105.31</td>\n",
       "      <td>115.010000</td>\n",
       "      <td>101.56001</td>\n",
       "      <td>103.260000</td>\n",
       "      <td>76449.76249</td>\n",
       "      <td>8277</td>\n",
       "      <td>...</td>\n",
       "      <td>15306.01465</td>\n",
       "      <td>2118.0</td>\n",
       "      <td>7.226636</td>\n",
       "      <td>NaN</td>\n",
       "      <td>NaN</td>\n",
       "      <td>NaN</td>\n",
       "      <td>-1</td>\n",
       "      <td>NaN</td>\n",
       "      <td>NaN</td>\n",
       "      <td>NaN</td>\n",
       "    </tr>\n",
       "    <tr>\n",
       "      <th>2</th>\n",
       "      <td>2019-02-01T02:00:00.0000000Z</td>\n",
       "      <td>2019-02-01T03:00:00.0000000Z</td>\n",
       "      <td>2019-02-01T02:00:00.1500000Z</td>\n",
       "      <td>2019-02-01T02:59:51.1550000Z</td>\n",
       "      <td>103.23</td>\n",
       "      <td>115.000000</td>\n",
       "      <td>101.30185</td>\n",
       "      <td>103.730000</td>\n",
       "      <td>24897.83393</td>\n",
       "      <td>3262</td>\n",
       "      <td>...</td>\n",
       "      <td>76449.76249</td>\n",
       "      <td>8277.0</td>\n",
       "      <td>9.236410</td>\n",
       "      <td>-1.908839</td>\n",
       "      <td>NaN</td>\n",
       "      <td>NaN</td>\n",
       "      <td>+1</td>\n",
       "      <td>-1</td>\n",
       "      <td>NaN</td>\n",
       "      <td>NaN</td>\n",
       "    </tr>\n",
       "    <tr>\n",
       "      <th>3</th>\n",
       "      <td>2019-02-01T03:00:00.0000000Z</td>\n",
       "      <td>2019-02-01T04:00:00.0000000Z</td>\n",
       "      <td>2019-02-01T03:00:03.0000000Z</td>\n",
       "      <td>2019-02-01T03:59:58.9570000Z</td>\n",
       "      <td>106.38</td>\n",
       "      <td>114.908412</td>\n",
       "      <td>103.66946</td>\n",
       "      <td>104.200000</td>\n",
       "      <td>13256.61415</td>\n",
       "      <td>2030</td>\n",
       "      <td>...</td>\n",
       "      <td>24897.83393</td>\n",
       "      <td>3262.0</td>\n",
       "      <td>7.632690</td>\n",
       "      <td>0.454129</td>\n",
       "      <td>-1.908839</td>\n",
       "      <td>NaN</td>\n",
       "      <td>+1</td>\n",
       "      <td>+1</td>\n",
       "      <td>-1</td>\n",
       "      <td>NaN</td>\n",
       "    </tr>\n",
       "    <tr>\n",
       "      <th>4</th>\n",
       "      <td>2019-02-01T04:00:00.0000000Z</td>\n",
       "      <td>2019-02-01T05:00:00.0000000Z</td>\n",
       "      <td>2019-02-01T04:00:00.4540000Z</td>\n",
       "      <td>2019-02-01T04:59:57.0000000Z</td>\n",
       "      <td>104.08</td>\n",
       "      <td>115.499880</td>\n",
       "      <td>103.33000</td>\n",
       "      <td>113.846545</td>\n",
       "      <td>10376.78714</td>\n",
       "      <td>2148</td>\n",
       "      <td>...</td>\n",
       "      <td>13256.61415</td>\n",
       "      <td>2030.0</td>\n",
       "      <td>6.530352</td>\n",
       "      <td>0.452076</td>\n",
       "      <td>0.454129</td>\n",
       "      <td>-1.908839</td>\n",
       "      <td>+4</td>\n",
       "      <td>+1</td>\n",
       "      <td>+1</td>\n",
       "      <td>-1</td>\n",
       "    </tr>\n",
       "  </tbody>\n",
       "</table>\n",
       "<p>5 rows × 25 columns</p>\n",
       "</div>"
      ],
      "text/plain": [
       "              time_period_start               time_period_end  \\\n",
       "0  2019-02-01T00:00:00.0000000Z  2019-02-01T01:00:00.0000000Z   \n",
       "1  2019-02-01T01:00:00.0000000Z  2019-02-01T02:00:00.0000000Z   \n",
       "2  2019-02-01T02:00:00.0000000Z  2019-02-01T03:00:00.0000000Z   \n",
       "3  2019-02-01T03:00:00.0000000Z  2019-02-01T04:00:00.0000000Z   \n",
       "4  2019-02-01T04:00:00.0000000Z  2019-02-01T05:00:00.0000000Z   \n",
       "\n",
       "                      time_open                    time_close  price_open  \\\n",
       "0  2019-02-01T00:00:00.0000000Z  2019-02-01T00:59:56.8440000Z      105.84   \n",
       "1  2019-02-01T01:00:01.4630000Z  2019-02-01T01:59:59.3180000Z      105.31   \n",
       "2  2019-02-01T02:00:00.1500000Z  2019-02-01T02:59:51.1550000Z      103.23   \n",
       "3  2019-02-01T03:00:03.0000000Z  2019-02-01T03:59:58.9570000Z      106.38   \n",
       "4  2019-02-01T04:00:00.4540000Z  2019-02-01T04:59:57.0000000Z      104.08   \n",
       "\n",
       "   price_high  price_low  price_close  volume_traded  trades_count    ...     \\\n",
       "0  115.898980  103.34642   105.250000    15306.01465          2118    ...      \n",
       "1  115.010000  101.56001   103.260000    76449.76249          8277    ...      \n",
       "2  115.000000  101.30185   103.730000    24897.83393          3262    ...      \n",
       "3  114.908412  103.66946   104.200000    13256.61415          2030    ...      \n",
       "4  115.499880  103.33000   113.846545    10376.78714          2148    ...      \n",
       "\n",
       "   volume_traded_lag1  trades_count_lag1  vol_per_count_lag1  roi_lag1  \\\n",
       "0                 NaN                NaN                 NaN       NaN   \n",
       "1         15306.01465             2118.0            7.226636       NaN   \n",
       "2         76449.76249             8277.0            9.236410 -1.908839   \n",
       "3         24897.83393             3262.0            7.632690  0.454129   \n",
       "4         13256.61415             2030.0            6.530352  0.452076   \n",
       "\n",
       "   roi_lag2  roi_lag3  cut  cut_lag1  cut_lag2  cut_lag3  \n",
       "0       NaN       NaN  NaN       NaN       NaN       NaN  \n",
       "1       NaN       NaN   -1       NaN       NaN       NaN  \n",
       "2       NaN       NaN   +1        -1       NaN       NaN  \n",
       "3 -1.908839       NaN   +1        +1        -1       NaN  \n",
       "4  0.454129 -1.908839   +4        +1        +1        -1  \n",
       "\n",
       "[5 rows x 25 columns]"
      ]
     },
     "execution_count": 7,
     "metadata": {},
     "output_type": "execute_result"
    }
   ],
   "source": [
    "data.head()"
   ]
  },
  {
   "cell_type": "code",
   "execution_count": 8,
   "metadata": {},
   "outputs": [
    {
     "data": {
      "text/plain": [
       "Index(['time_period_start', 'time_period_end', 'time_open', 'time_close',\n",
       "       'price_open', 'price_high', 'price_low', 'price_close', 'volume_traded',\n",
       "       'trades_count', 'vol_per_count', 'roi', 'price_close_lag1',\n",
       "       'price_close_lag2', 'price_close_lag3', 'volume_traded_lag1',\n",
       "       'trades_count_lag1', 'vol_per_count_lag1', 'roi_lag1', 'roi_lag2',\n",
       "       'roi_lag3', 'cut', 'cut_lag1', 'cut_lag2', 'cut_lag3'],\n",
       "      dtype='object')"
      ]
     },
     "execution_count": 8,
     "metadata": {},
     "output_type": "execute_result"
    }
   ],
   "source": [
    "data.columns"
   ]
  },
  {
   "cell_type": "code",
   "execution_count": 9,
   "metadata": {},
   "outputs": [
    {
     "data": {
      "text/html": [
       "<div>\n",
       "<style scoped>\n",
       "    .dataframe tbody tr th:only-of-type {\n",
       "        vertical-align: middle;\n",
       "    }\n",
       "\n",
       "    .dataframe tbody tr th {\n",
       "        vertical-align: top;\n",
       "    }\n",
       "\n",
       "    .dataframe thead th {\n",
       "        text-align: right;\n",
       "    }\n",
       "</style>\n",
       "<table border=\"1\" class=\"dataframe\">\n",
       "  <thead>\n",
       "    <tr style=\"text-align: right;\">\n",
       "      <th></th>\n",
       "      <th>time_period_start</th>\n",
       "      <th>time_period_end</th>\n",
       "      <th>time_open</th>\n",
       "      <th>time_close</th>\n",
       "      <th>price_open</th>\n",
       "      <th>price_high</th>\n",
       "      <th>price_low</th>\n",
       "      <th>price_close</th>\n",
       "      <th>volume_traded</th>\n",
       "      <th>trades_count</th>\n",
       "      <th>...</th>\n",
       "      <th>volume_traded_lag1</th>\n",
       "      <th>trades_count_lag1</th>\n",
       "      <th>vol_per_count_lag1</th>\n",
       "      <th>roi_lag1</th>\n",
       "      <th>roi_lag2</th>\n",
       "      <th>roi_lag3</th>\n",
       "      <th>cut</th>\n",
       "      <th>cut_lag1</th>\n",
       "      <th>cut_lag2</th>\n",
       "      <th>cut_lag3</th>\n",
       "    </tr>\n",
       "  </thead>\n",
       "  <tbody>\n",
       "    <tr>\n",
       "      <th>4</th>\n",
       "      <td>2019-02-01T04:00:00.0000000Z</td>\n",
       "      <td>2019-02-01T05:00:00.0000000Z</td>\n",
       "      <td>2019-02-01T04:00:00.4540000Z</td>\n",
       "      <td>2019-02-01T04:59:57.0000000Z</td>\n",
       "      <td>104.08000</td>\n",
       "      <td>115.499880</td>\n",
       "      <td>103.33000</td>\n",
       "      <td>113.846545</td>\n",
       "      <td>10376.787140</td>\n",
       "      <td>2148</td>\n",
       "      <td>...</td>\n",
       "      <td>13256.614150</td>\n",
       "      <td>2030.0</td>\n",
       "      <td>6.530352</td>\n",
       "      <td>0.452076</td>\n",
       "      <td>0.454129</td>\n",
       "      <td>-1.908839</td>\n",
       "      <td>+4</td>\n",
       "      <td>+1</td>\n",
       "      <td>+1</td>\n",
       "      <td>-1</td>\n",
       "    </tr>\n",
       "    <tr>\n",
       "      <th>5</th>\n",
       "      <td>2019-02-01T05:00:00.0000000Z</td>\n",
       "      <td>2019-02-01T06:00:00.0000000Z</td>\n",
       "      <td>2019-02-01T05:00:03.0000000Z</td>\n",
       "      <td>2019-02-01T05:59:51.1920000Z</td>\n",
       "      <td>106.50000</td>\n",
       "      <td>114.000000</td>\n",
       "      <td>102.15319</td>\n",
       "      <td>103.940000</td>\n",
       "      <td>6840.788744</td>\n",
       "      <td>1669</td>\n",
       "      <td>...</td>\n",
       "      <td>10376.787140</td>\n",
       "      <td>2148.0</td>\n",
       "      <td>4.830906</td>\n",
       "      <td>8.853931</td>\n",
       "      <td>0.452076</td>\n",
       "      <td>0.454129</td>\n",
       "      <td>-4</td>\n",
       "      <td>+4</td>\n",
       "      <td>+1</td>\n",
       "      <td>+1</td>\n",
       "    </tr>\n",
       "    <tr>\n",
       "      <th>6</th>\n",
       "      <td>2019-02-01T06:00:00.0000000Z</td>\n",
       "      <td>2019-02-01T07:00:00.0000000Z</td>\n",
       "      <td>2019-02-01T06:00:00.0000000Z</td>\n",
       "      <td>2019-02-01T06:59:59.0000000Z</td>\n",
       "      <td>106.72000</td>\n",
       "      <td>114.699990</td>\n",
       "      <td>101.49483</td>\n",
       "      <td>104.190000</td>\n",
       "      <td>7856.088726</td>\n",
       "      <td>1585</td>\n",
       "      <td>...</td>\n",
       "      <td>6840.788744</td>\n",
       "      <td>1669.0</td>\n",
       "      <td>4.098735</td>\n",
       "      <td>-9.103763</td>\n",
       "      <td>8.853931</td>\n",
       "      <td>0.452076</td>\n",
       "      <td>+1</td>\n",
       "      <td>-4</td>\n",
       "      <td>+4</td>\n",
       "      <td>+1</td>\n",
       "    </tr>\n",
       "    <tr>\n",
       "      <th>7</th>\n",
       "      <td>2019-02-01T07:00:00.0000000Z</td>\n",
       "      <td>2019-02-01T08:00:00.0000000Z</td>\n",
       "      <td>2019-02-01T07:00:00.0000000Z</td>\n",
       "      <td>2019-02-01T07:59:58.0000000Z</td>\n",
       "      <td>106.92000</td>\n",
       "      <td>114.531990</td>\n",
       "      <td>101.30200</td>\n",
       "      <td>106.150000</td>\n",
       "      <td>30112.397610</td>\n",
       "      <td>3842</td>\n",
       "      <td>...</td>\n",
       "      <td>7856.088726</td>\n",
       "      <td>1585.0</td>\n",
       "      <td>4.956523</td>\n",
       "      <td>0.240235</td>\n",
       "      <td>-9.103763</td>\n",
       "      <td>8.853931</td>\n",
       "      <td>+1</td>\n",
       "      <td>+1</td>\n",
       "      <td>-4</td>\n",
       "      <td>+4</td>\n",
       "    </tr>\n",
       "    <tr>\n",
       "      <th>8</th>\n",
       "      <td>2019-02-01T08:00:00.0000000Z</td>\n",
       "      <td>2019-02-01T09:00:00.0000000Z</td>\n",
       "      <td>2019-02-01T08:00:00.0000000Z</td>\n",
       "      <td>2019-02-01T08:59:56.6300000Z</td>\n",
       "      <td>106.14144</td>\n",
       "      <td>114.531994</td>\n",
       "      <td>101.24071</td>\n",
       "      <td>104.540000</td>\n",
       "      <td>32759.219620</td>\n",
       "      <td>3039</td>\n",
       "      <td>...</td>\n",
       "      <td>30112.397610</td>\n",
       "      <td>3842.0</td>\n",
       "      <td>7.837688</td>\n",
       "      <td>1.863703</td>\n",
       "      <td>0.240235</td>\n",
       "      <td>-9.103763</td>\n",
       "      <td>-1</td>\n",
       "      <td>+1</td>\n",
       "      <td>+1</td>\n",
       "      <td>-4</td>\n",
       "    </tr>\n",
       "  </tbody>\n",
       "</table>\n",
       "<p>5 rows × 25 columns</p>\n",
       "</div>"
      ],
      "text/plain": [
       "              time_period_start               time_period_end  \\\n",
       "4  2019-02-01T04:00:00.0000000Z  2019-02-01T05:00:00.0000000Z   \n",
       "5  2019-02-01T05:00:00.0000000Z  2019-02-01T06:00:00.0000000Z   \n",
       "6  2019-02-01T06:00:00.0000000Z  2019-02-01T07:00:00.0000000Z   \n",
       "7  2019-02-01T07:00:00.0000000Z  2019-02-01T08:00:00.0000000Z   \n",
       "8  2019-02-01T08:00:00.0000000Z  2019-02-01T09:00:00.0000000Z   \n",
       "\n",
       "                      time_open                    time_close  price_open  \\\n",
       "4  2019-02-01T04:00:00.4540000Z  2019-02-01T04:59:57.0000000Z   104.08000   \n",
       "5  2019-02-01T05:00:03.0000000Z  2019-02-01T05:59:51.1920000Z   106.50000   \n",
       "6  2019-02-01T06:00:00.0000000Z  2019-02-01T06:59:59.0000000Z   106.72000   \n",
       "7  2019-02-01T07:00:00.0000000Z  2019-02-01T07:59:58.0000000Z   106.92000   \n",
       "8  2019-02-01T08:00:00.0000000Z  2019-02-01T08:59:56.6300000Z   106.14144   \n",
       "\n",
       "   price_high  price_low  price_close  volume_traded  trades_count    ...     \\\n",
       "4  115.499880  103.33000   113.846545   10376.787140          2148    ...      \n",
       "5  114.000000  102.15319   103.940000    6840.788744          1669    ...      \n",
       "6  114.699990  101.49483   104.190000    7856.088726          1585    ...      \n",
       "7  114.531990  101.30200   106.150000   30112.397610          3842    ...      \n",
       "8  114.531994  101.24071   104.540000   32759.219620          3039    ...      \n",
       "\n",
       "   volume_traded_lag1  trades_count_lag1  vol_per_count_lag1  roi_lag1  \\\n",
       "4        13256.614150             2030.0            6.530352  0.452076   \n",
       "5        10376.787140             2148.0            4.830906  8.853931   \n",
       "6         6840.788744             1669.0            4.098735 -9.103763   \n",
       "7         7856.088726             1585.0            4.956523  0.240235   \n",
       "8        30112.397610             3842.0            7.837688  1.863703   \n",
       "\n",
       "   roi_lag2  roi_lag3  cut  cut_lag1  cut_lag2  cut_lag3  \n",
       "4  0.454129 -1.908839   +4        +1        +1        -1  \n",
       "5  0.452076  0.454129   -4        +4        +1        +1  \n",
       "6  8.853931  0.452076   +1        -4        +4        +1  \n",
       "7 -9.103763  8.853931   +1        +1        -4        +4  \n",
       "8  0.240235 -9.103763   -1        +1        +1        -4  \n",
       "\n",
       "[5 rows x 25 columns]"
      ]
     },
     "execution_count": 9,
     "metadata": {},
     "output_type": "execute_result"
    }
   ],
   "source": [
    "data_ = data.dropna()\n",
    "data_.head()"
   ]
  },
  {
   "cell_type": "code",
   "execution_count": 10,
   "metadata": {},
   "outputs": [],
   "source": [
    "y = data_['price_close']\n",
    "X = data_[['price_close_lag1', 'price_close_lag2', 'price_close_lag3', \n",
    "           'roi_lag1', \n",
    "           'volume_traded_lag1', 'trades_count_lag1', 'vol_per_count_lag1']]"
   ]
  },
  {
   "cell_type": "code",
   "execution_count": 11,
   "metadata": {},
   "outputs": [],
   "source": [
    "X_train, X_test, y_train, y_test = train_test_split(X, y, test_size=0.2, shuffle=False)"
   ]
  },
  {
   "cell_type": "code",
   "execution_count": 12,
   "metadata": {},
   "outputs": [],
   "source": [
    "mod_linear = LinearRegression()\n",
    "mod_linear.fit(X_train, y_train);"
   ]
  },
  {
   "cell_type": "code",
   "execution_count": 13,
   "metadata": {},
   "outputs": [
    {
     "name": "stdout",
     "output_type": "stream",
     "text": [
      "coefficients:\n",
      "price_close_lag1: 0.9785345125006797\n",
      "price_close_lag2: -0.2068197459178823\n",
      "price_close_lag3: 0.22250272430295054\n",
      "roi_lag1: -0.6775798647002288\n",
      "volume_traded_lag1: 1.2551435292362411e-05\n",
      "trades_count_lag1: -0.00010317279630834032\n",
      "vol_per_count_lag1: -0.10344943405607836\n"
     ]
    }
   ],
   "source": [
    "print('coefficients:')\n",
    "for i in range(len(X.columns)):\n",
    "    print('{}: {}'.format(X.columns[i], mod_linear.coef_[i]))"
   ]
  },
  {
   "cell_type": "code",
   "execution_count": 14,
   "metadata": {},
   "outputs": [
    {
     "name": "stdout",
     "output_type": "stream",
     "text": [
      "mse:\n",
      "6.331828002729407\n"
     ]
    }
   ],
   "source": [
    "y_predicted = mod_linear.predict(X_test)\n",
    "print('mse:')\n",
    "print(mean_squared_error(y_test, y_predicted))"
   ]
  },
  {
   "cell_type": "code",
   "execution_count": 15,
   "metadata": {},
   "outputs": [
    {
     "name": "stdout",
     "output_type": "stream",
     "text": [
      "accuracy:\n",
      "0.8736404265966291\n"
     ]
    }
   ],
   "source": [
    "print('accuracy:')\n",
    "print(mod_linear.score(X_test, y_test))"
   ]
  },
  {
   "cell_type": "markdown",
   "metadata": {},
   "source": [
    "### clf"
   ]
  },
  {
   "cell_type": "code",
   "execution_count": 16,
   "metadata": {},
   "outputs": [],
   "source": [
    "# y_clf = data_['cut']\n",
    "# X_clf = data_[['roi_lag1', 'roi_lag2', 'roi_lag3', \n",
    "#                'price_close_lag1', \n",
    "#                'volume_traded_lag1', 'trades_count_lag1', 'vol_per_count_lag1']]"
   ]
  },
  {
   "cell_type": "code",
   "execution_count": 17,
   "metadata": {},
   "outputs": [],
   "source": [
    "y_clf = data_['cut']\n",
    "X_clf = data_[['roi_lag1',  \n",
    "               'price_close_lag1', \n",
    "               'volume_traded_lag1', 'trades_count_lag1', 'vol_per_count_lag1']]"
   ]
  },
  {
   "cell_type": "code",
   "execution_count": 18,
   "metadata": {},
   "outputs": [],
   "source": [
    "X_clf_train, X_clf_test, y_clf_train, y_clf_test = train_test_split(X_clf, y_clf, test_size=0.2, random_state=0)"
   ]
  },
  {
   "cell_type": "code",
   "execution_count": 19,
   "metadata": {},
   "outputs": [],
   "source": [
    "# random forest"
   ]
  },
  {
   "cell_type": "code",
   "execution_count": 20,
   "metadata": {},
   "outputs": [
    {
     "data": {
      "text/plain": [
       "RandomForestClassifier(bootstrap=True, class_weight=None, criterion='gini',\n",
       "            max_depth=5, max_features='auto', max_leaf_nodes=None,\n",
       "            min_impurity_decrease=0.0, min_impurity_split=None,\n",
       "            min_samples_leaf=1, min_samples_split=2,\n",
       "            min_weight_fraction_leaf=0.0, n_estimators=1000, n_jobs=1,\n",
       "            oob_score=False, random_state=0, verbose=0, warm_start=False)"
      ]
     },
     "execution_count": 20,
     "metadata": {},
     "output_type": "execute_result"
    }
   ],
   "source": [
    "clf_rf = RandomForestClassifier(n_estimators=1000, max_depth=5, bootstrap=True, random_state=0)\n",
    "clf_rf.fit(X_clf_train, y_clf_train)"
   ]
  },
  {
   "cell_type": "code",
   "execution_count": 21,
   "metadata": {},
   "outputs": [
    {
     "name": "stdout",
     "output_type": "stream",
     "text": [
      "accuracy:\n",
      "0.4613583138173302\n"
     ]
    }
   ],
   "source": [
    "print('accuracy:')\n",
    "print(clf_rf.score(X_clf_test, y_clf_test))"
   ]
  },
  {
   "cell_type": "code",
   "execution_count": 22,
   "metadata": {},
   "outputs": [
    {
     "data": {
      "text/html": [
       "<div>\n",
       "<style scoped>\n",
       "    .dataframe tbody tr th:only-of-type {\n",
       "        vertical-align: middle;\n",
       "    }\n",
       "\n",
       "    .dataframe tbody tr th {\n",
       "        vertical-align: top;\n",
       "    }\n",
       "\n",
       "    .dataframe thead th {\n",
       "        text-align: right;\n",
       "    }\n",
       "</style>\n",
       "<table border=\"1\" class=\"dataframe\">\n",
       "  <thead>\n",
       "    <tr style=\"text-align: right;\">\n",
       "      <th></th>\n",
       "      <th>Pred -4</th>\n",
       "      <th>Pred -3</th>\n",
       "      <th>Pred -2</th>\n",
       "      <th>Pred -1</th>\n",
       "      <th>Pred +1</th>\n",
       "      <th>Pred +2</th>\n",
       "      <th>Pred +3</th>\n",
       "      <th>Pred +4</th>\n",
       "    </tr>\n",
       "  </thead>\n",
       "  <tbody>\n",
       "    <tr>\n",
       "      <th>Actual -4</th>\n",
       "      <td>6</td>\n",
       "      <td>0</td>\n",
       "      <td>0</td>\n",
       "      <td>0</td>\n",
       "      <td>1</td>\n",
       "      <td>0</td>\n",
       "      <td>0</td>\n",
       "      <td>0</td>\n",
       "    </tr>\n",
       "    <tr>\n",
       "      <th>Actual -3</th>\n",
       "      <td>1</td>\n",
       "      <td>2</td>\n",
       "      <td>1</td>\n",
       "      <td>0</td>\n",
       "      <td>1</td>\n",
       "      <td>0</td>\n",
       "      <td>0</td>\n",
       "      <td>0</td>\n",
       "    </tr>\n",
       "    <tr>\n",
       "      <th>Actual -2</th>\n",
       "      <td>0</td>\n",
       "      <td>0</td>\n",
       "      <td>18</td>\n",
       "      <td>15</td>\n",
       "      <td>11</td>\n",
       "      <td>0</td>\n",
       "      <td>0</td>\n",
       "      <td>0</td>\n",
       "    </tr>\n",
       "    <tr>\n",
       "      <th>Actual -1</th>\n",
       "      <td>0</td>\n",
       "      <td>0</td>\n",
       "      <td>4</td>\n",
       "      <td>71</td>\n",
       "      <td>86</td>\n",
       "      <td>0</td>\n",
       "      <td>0</td>\n",
       "      <td>0</td>\n",
       "    </tr>\n",
       "    <tr>\n",
       "      <th>Actual +1</th>\n",
       "      <td>0</td>\n",
       "      <td>0</td>\n",
       "      <td>7</td>\n",
       "      <td>49</td>\n",
       "      <td>100</td>\n",
       "      <td>0</td>\n",
       "      <td>0</td>\n",
       "      <td>0</td>\n",
       "    </tr>\n",
       "    <tr>\n",
       "      <th>Actual +2</th>\n",
       "      <td>0</td>\n",
       "      <td>0</td>\n",
       "      <td>0</td>\n",
       "      <td>12</td>\n",
       "      <td>32</td>\n",
       "      <td>0</td>\n",
       "      <td>0</td>\n",
       "      <td>0</td>\n",
       "    </tr>\n",
       "    <tr>\n",
       "      <th>Actual +3</th>\n",
       "      <td>0</td>\n",
       "      <td>0</td>\n",
       "      <td>1</td>\n",
       "      <td>0</td>\n",
       "      <td>6</td>\n",
       "      <td>0</td>\n",
       "      <td>0</td>\n",
       "      <td>0</td>\n",
       "    </tr>\n",
       "    <tr>\n",
       "      <th>Actual +4</th>\n",
       "      <td>0</td>\n",
       "      <td>0</td>\n",
       "      <td>0</td>\n",
       "      <td>1</td>\n",
       "      <td>2</td>\n",
       "      <td>0</td>\n",
       "      <td>0</td>\n",
       "      <td>0</td>\n",
       "    </tr>\n",
       "  </tbody>\n",
       "</table>\n",
       "</div>"
      ],
      "text/plain": [
       "           Pred -4  Pred -3  Pred -2  Pred -1  Pred +1  Pred +2  Pred +3  \\\n",
       "Actual -4        6        0        0        0        1        0        0   \n",
       "Actual -3        1        2        1        0        1        0        0   \n",
       "Actual -2        0        0       18       15       11        0        0   \n",
       "Actual -1        0        0        4       71       86        0        0   \n",
       "Actual +1        0        0        7       49      100        0        0   \n",
       "Actual +2        0        0        0       12       32        0        0   \n",
       "Actual +3        0        0        1        0        6        0        0   \n",
       "Actual +4        0        0        0        1        2        0        0   \n",
       "\n",
       "           Pred +4  \n",
       "Actual -4        0  \n",
       "Actual -3        0  \n",
       "Actual -2        0  \n",
       "Actual -1        0  \n",
       "Actual +1        0  \n",
       "Actual +2        0  \n",
       "Actual +3        0  \n",
       "Actual +4        0  "
      ]
     },
     "execution_count": 22,
     "metadata": {},
     "output_type": "execute_result"
    }
   ],
   "source": [
    "y_clf_predicted = clf_rf.predict(X_clf_test)\n",
    "confusionmatrix = pd.DataFrame(confusion_matrix(y_clf_test, y_clf_predicted, labels=['-4', '-3', '-2', '-1', '+1', '+2', '+3', '+4']), columns\n",
    "=['Pred -4', 'Pred -3', 'Pred -2', 'Pred -1', 'Pred +1', 'Pred +2', 'Pred +3', 'Pred +4'],\n",
    "index=['Actual -4', 'Actual -3', 'Actual -2', 'Actual -1', 'Actual +1', 'Actual +2', 'Actual +3', 'Actual +4'])\n",
    "confusionmatrix"
   ]
  },
  {
   "cell_type": "code",
   "execution_count": 23,
   "metadata": {},
   "outputs": [
    {
     "name": "stdout",
     "output_type": "stream",
     "text": [
      "Average precision for the 8 intervals is -  [0.41841004 0.         0.         0.         0.47972973 0.58064516\n",
      " 1.         0.85714286]\n"
     ]
    }
   ],
   "source": [
    "print(\"Average precision for the 8 intervals is - \", precision_score(y_clf_test, y_clf_predicted, average = None))"
   ]
  },
  {
   "cell_type": "code",
   "execution_count": 24,
   "metadata": {},
   "outputs": [
    {
     "name": "stdout",
     "output_type": "stream",
     "text": [
      "Average recall for the 8 intervals is -  [0.64102564 0.         0.         0.         0.44099379 0.40909091\n",
      " 0.4        0.85714286]\n"
     ]
    }
   ],
   "source": [
    "print(\"Average recall for the 8 intervals is - \", recall_score(y_clf_test, y_clf_predicted, average = None))"
   ]
  },
  {
   "cell_type": "code",
   "execution_count": 25,
   "metadata": {},
   "outputs": [],
   "source": [
    "# boosting"
   ]
  },
  {
   "cell_type": "code",
   "execution_count": 26,
   "metadata": {},
   "outputs": [
    {
     "data": {
      "text/plain": [
       "GradientBoostingRegressor(alpha=0.9, criterion='friedman_mse', init=None,\n",
       "             learning_rate=0.01, loss='ls', max_depth=1, max_features=None,\n",
       "             max_leaf_nodes=None, min_impurity_decrease=0.0,\n",
       "             min_impurity_split=None, min_samples_leaf=1,\n",
       "             min_samples_split=2, min_weight_fraction_leaf=0.0,\n",
       "             n_estimators=1000, presort='auto', random_state=0,\n",
       "             subsample=1.0, verbose=0, warm_start=False)"
      ]
     },
     "execution_count": 26,
     "metadata": {},
     "output_type": "execute_result"
    }
   ],
   "source": [
    "clf_gb = GradientBoostingRegressor(n_estimators=1000, learning_rate=0.01, \n",
    "                                            max_depth=1, random_state=0)\n",
    "clf_gb.fit(X_clf_train, y_clf_train)"
   ]
  },
  {
   "cell_type": "code",
   "execution_count": 27,
   "metadata": {},
   "outputs": [
    {
     "name": "stdout",
     "output_type": "stream",
     "text": [
      "accuracy:\n",
      "0.207444333345001\n"
     ]
    }
   ],
   "source": [
    "print('accuracy:')\n",
    "print(clf_gb.score(X_clf_test, y_clf_test))"
   ]
  },
  {
   "cell_type": "code",
   "execution_count": 28,
   "metadata": {},
   "outputs": [],
   "source": [
    "y_clf_predicted = clf_gb.predict(X_clf_test)\n",
    "y_clf_predicted = pd.DataFrame(y_clf_predicted)\n",
    "y_clf_predicted['cut'] = pd.cut(y_clf_predicted[0], \n",
    "                     bins=[-100, -3*std, -2*std, -std, 0, std, 2*std, 3*std, 100], \n",
    "                    labels=['-4', '-3', '-2', '-1', '+1', '+2', '+3', '+4'])"
   ]
  },
  {
   "cell_type": "code",
   "execution_count": 29,
   "metadata": {},
   "outputs": [
    {
     "data": {
      "text/html": [
       "<div>\n",
       "<style scoped>\n",
       "    .dataframe tbody tr th:only-of-type {\n",
       "        vertical-align: middle;\n",
       "    }\n",
       "\n",
       "    .dataframe tbody tr th {\n",
       "        vertical-align: top;\n",
       "    }\n",
       "\n",
       "    .dataframe thead th {\n",
       "        text-align: right;\n",
       "    }\n",
       "</style>\n",
       "<table border=\"1\" class=\"dataframe\">\n",
       "  <thead>\n",
       "    <tr style=\"text-align: right;\">\n",
       "      <th></th>\n",
       "      <th>Pred -4</th>\n",
       "      <th>Pred -3</th>\n",
       "      <th>Pred -2</th>\n",
       "      <th>Pred -1</th>\n",
       "      <th>Pred +1</th>\n",
       "      <th>Pred +2</th>\n",
       "      <th>Pred +3</th>\n",
       "      <th>Pred +4</th>\n",
       "    </tr>\n",
       "  </thead>\n",
       "  <tbody>\n",
       "    <tr>\n",
       "      <th>Actual -4</th>\n",
       "      <td>0</td>\n",
       "      <td>0</td>\n",
       "      <td>6</td>\n",
       "      <td>0</td>\n",
       "      <td>1</td>\n",
       "      <td>0</td>\n",
       "      <td>0</td>\n",
       "      <td>0</td>\n",
       "    </tr>\n",
       "    <tr>\n",
       "      <th>Actual -3</th>\n",
       "      <td>0</td>\n",
       "      <td>0</td>\n",
       "      <td>3</td>\n",
       "      <td>1</td>\n",
       "      <td>1</td>\n",
       "      <td>0</td>\n",
       "      <td>0</td>\n",
       "      <td>0</td>\n",
       "    </tr>\n",
       "    <tr>\n",
       "      <th>Actual -2</th>\n",
       "      <td>0</td>\n",
       "      <td>0</td>\n",
       "      <td>0</td>\n",
       "      <td>31</td>\n",
       "      <td>13</td>\n",
       "      <td>0</td>\n",
       "      <td>0</td>\n",
       "      <td>0</td>\n",
       "    </tr>\n",
       "    <tr>\n",
       "      <th>Actual -1</th>\n",
       "      <td>0</td>\n",
       "      <td>0</td>\n",
       "      <td>0</td>\n",
       "      <td>47</td>\n",
       "      <td>114</td>\n",
       "      <td>0</td>\n",
       "      <td>0</td>\n",
       "      <td>0</td>\n",
       "    </tr>\n",
       "    <tr>\n",
       "      <th>Actual +1</th>\n",
       "      <td>0</td>\n",
       "      <td>0</td>\n",
       "      <td>0</td>\n",
       "      <td>38</td>\n",
       "      <td>118</td>\n",
       "      <td>0</td>\n",
       "      <td>0</td>\n",
       "      <td>0</td>\n",
       "    </tr>\n",
       "    <tr>\n",
       "      <th>Actual +2</th>\n",
       "      <td>0</td>\n",
       "      <td>0</td>\n",
       "      <td>0</td>\n",
       "      <td>8</td>\n",
       "      <td>36</td>\n",
       "      <td>0</td>\n",
       "      <td>0</td>\n",
       "      <td>0</td>\n",
       "    </tr>\n",
       "    <tr>\n",
       "      <th>Actual +3</th>\n",
       "      <td>0</td>\n",
       "      <td>0</td>\n",
       "      <td>0</td>\n",
       "      <td>2</td>\n",
       "      <td>5</td>\n",
       "      <td>0</td>\n",
       "      <td>0</td>\n",
       "      <td>0</td>\n",
       "    </tr>\n",
       "    <tr>\n",
       "      <th>Actual +4</th>\n",
       "      <td>0</td>\n",
       "      <td>0</td>\n",
       "      <td>0</td>\n",
       "      <td>0</td>\n",
       "      <td>3</td>\n",
       "      <td>0</td>\n",
       "      <td>0</td>\n",
       "      <td>0</td>\n",
       "    </tr>\n",
       "  </tbody>\n",
       "</table>\n",
       "</div>"
      ],
      "text/plain": [
       "           Pred -4  Pred -3  Pred -2  Pred -1  Pred +1  Pred +2  Pred +3  \\\n",
       "Actual -4        0        0        6        0        1        0        0   \n",
       "Actual -3        0        0        3        1        1        0        0   \n",
       "Actual -2        0        0        0       31       13        0        0   \n",
       "Actual -1        0        0        0       47      114        0        0   \n",
       "Actual +1        0        0        0       38      118        0        0   \n",
       "Actual +2        0        0        0        8       36        0        0   \n",
       "Actual +3        0        0        0        2        5        0        0   \n",
       "Actual +4        0        0        0        0        3        0        0   \n",
       "\n",
       "           Pred +4  \n",
       "Actual -4        0  \n",
       "Actual -3        0  \n",
       "Actual -2        0  \n",
       "Actual -1        0  \n",
       "Actual +1        0  \n",
       "Actual +2        0  \n",
       "Actual +3        0  \n",
       "Actual +4        0  "
      ]
     },
     "execution_count": 29,
     "metadata": {},
     "output_type": "execute_result"
    }
   ],
   "source": [
    "confusionmatrix = pd.DataFrame(confusion_matrix(y_clf_test, y_clf_predicted['cut'], labels=['-4', '-3', '-2', '-1', '+1', '+2', '+3', '+4']), columns\n",
    "=['Pred -4', 'Pred -3', 'Pred -2', 'Pred -1', 'Pred +1', 'Pred +2', 'Pred +3', 'Pred +4'],\n",
    "index=['Actual -4', 'Actual -3', 'Actual -2', 'Actual -1', 'Actual +1', 'Actual +2', 'Actual +3', 'Actual +4'])\n",
    "confusionmatrix"
   ]
  },
  {
   "cell_type": "code",
   "execution_count": 30,
   "metadata": {},
   "outputs": [
    {
     "name": "stdout",
     "output_type": "stream",
     "text": [
      "Average precision for the 8 intervals is -  [0.40549828 0.         0.         0.         0.37007874 0.\n",
      " 0.         0.        ]\n"
     ]
    }
   ],
   "source": [
    "print(\"Average precision for the 8 intervals is - \", precision_score(y_clf_test, y_clf_predicted['cut'], average = None))"
   ]
  },
  {
   "cell_type": "code",
   "execution_count": 31,
   "metadata": {},
   "outputs": [
    {
     "name": "stdout",
     "output_type": "stream",
     "text": [
      "Average recall for the 8 intervals is -  [0.75641026 0.         0.         0.         0.29192547 0.\n",
      " 0.         0.        ]\n"
     ]
    }
   ],
   "source": [
    "print(\"Average recall for the 8 intervals is - \", recall_score(y_clf_test, y_clf_predicted['cut'], average = None))"
   ]
  },
  {
   "cell_type": "code",
   "execution_count": 32,
   "metadata": {},
   "outputs": [],
   "source": [
    "# Adaboosting"
   ]
  },
  {
   "cell_type": "code",
   "execution_count": 33,
   "metadata": {},
   "outputs": [
    {
     "data": {
      "text/plain": [
       "AdaBoostClassifier(algorithm='SAMME', base_estimator=None, learning_rate=1,\n",
       "          n_estimators=1000, random_state=None)"
      ]
     },
     "execution_count": 33,
     "metadata": {},
     "output_type": "execute_result"
    }
   ],
   "source": [
    "clf_adab = AdaBoostClassifier(n_estimators=1000, learning_rate=1, algorithm='SAMME')\n",
    "clf_adab.fit(X_clf_train,y_clf_train)"
   ]
  },
  {
   "cell_type": "code",
   "execution_count": 34,
   "metadata": {},
   "outputs": [
    {
     "name": "stdout",
     "output_type": "stream",
     "text": [
      "accuracy:\n",
      "0.3911007025761124\n"
     ]
    }
   ],
   "source": [
    "print('accuracy:')\n",
    "print(clf_adab.score(X_clf_test, y_clf_test))"
   ]
  },
  {
   "cell_type": "code",
   "execution_count": 35,
   "metadata": {},
   "outputs": [
    {
     "data": {
      "text/html": [
       "<div>\n",
       "<style scoped>\n",
       "    .dataframe tbody tr th:only-of-type {\n",
       "        vertical-align: middle;\n",
       "    }\n",
       "\n",
       "    .dataframe tbody tr th {\n",
       "        vertical-align: top;\n",
       "    }\n",
       "\n",
       "    .dataframe thead th {\n",
       "        text-align: right;\n",
       "    }\n",
       "</style>\n",
       "<table border=\"1\" class=\"dataframe\">\n",
       "  <thead>\n",
       "    <tr style=\"text-align: right;\">\n",
       "      <th></th>\n",
       "      <th>Pred -4</th>\n",
       "      <th>Pred -3</th>\n",
       "      <th>Pred -2</th>\n",
       "      <th>Pred -1</th>\n",
       "      <th>Pred +1</th>\n",
       "      <th>Pred +2</th>\n",
       "      <th>Pred +3</th>\n",
       "      <th>Pred +4</th>\n",
       "    </tr>\n",
       "  </thead>\n",
       "  <tbody>\n",
       "    <tr>\n",
       "      <th>Actual -4</th>\n",
       "      <td>1</td>\n",
       "      <td>2</td>\n",
       "      <td>1</td>\n",
       "      <td>2</td>\n",
       "      <td>1</td>\n",
       "      <td>0</td>\n",
       "      <td>0</td>\n",
       "      <td>0</td>\n",
       "    </tr>\n",
       "    <tr>\n",
       "      <th>Actual -3</th>\n",
       "      <td>0</td>\n",
       "      <td>3</td>\n",
       "      <td>0</td>\n",
       "      <td>1</td>\n",
       "      <td>1</td>\n",
       "      <td>0</td>\n",
       "      <td>0</td>\n",
       "      <td>0</td>\n",
       "    </tr>\n",
       "    <tr>\n",
       "      <th>Actual -2</th>\n",
       "      <td>0</td>\n",
       "      <td>4</td>\n",
       "      <td>9</td>\n",
       "      <td>23</td>\n",
       "      <td>8</td>\n",
       "      <td>0</td>\n",
       "      <td>0</td>\n",
       "      <td>0</td>\n",
       "    </tr>\n",
       "    <tr>\n",
       "      <th>Actual -1</th>\n",
       "      <td>0</td>\n",
       "      <td>1</td>\n",
       "      <td>4</td>\n",
       "      <td>51</td>\n",
       "      <td>98</td>\n",
       "      <td>5</td>\n",
       "      <td>2</td>\n",
       "      <td>0</td>\n",
       "    </tr>\n",
       "    <tr>\n",
       "      <th>Actual +1</th>\n",
       "      <td>0</td>\n",
       "      <td>0</td>\n",
       "      <td>6</td>\n",
       "      <td>41</td>\n",
       "      <td>102</td>\n",
       "      <td>7</td>\n",
       "      <td>0</td>\n",
       "      <td>0</td>\n",
       "    </tr>\n",
       "    <tr>\n",
       "      <th>Actual +2</th>\n",
       "      <td>0</td>\n",
       "      <td>0</td>\n",
       "      <td>1</td>\n",
       "      <td>9</td>\n",
       "      <td>32</td>\n",
       "      <td>0</td>\n",
       "      <td>2</td>\n",
       "      <td>0</td>\n",
       "    </tr>\n",
       "    <tr>\n",
       "      <th>Actual +3</th>\n",
       "      <td>0</td>\n",
       "      <td>0</td>\n",
       "      <td>0</td>\n",
       "      <td>4</td>\n",
       "      <td>2</td>\n",
       "      <td>0</td>\n",
       "      <td>1</td>\n",
       "      <td>0</td>\n",
       "    </tr>\n",
       "    <tr>\n",
       "      <th>Actual +4</th>\n",
       "      <td>0</td>\n",
       "      <td>0</td>\n",
       "      <td>0</td>\n",
       "      <td>0</td>\n",
       "      <td>3</td>\n",
       "      <td>0</td>\n",
       "      <td>0</td>\n",
       "      <td>0</td>\n",
       "    </tr>\n",
       "  </tbody>\n",
       "</table>\n",
       "</div>"
      ],
      "text/plain": [
       "           Pred -4  Pred -3  Pred -2  Pred -1  Pred +1  Pred +2  Pred +3  \\\n",
       "Actual -4        1        2        1        2        1        0        0   \n",
       "Actual -3        0        3        0        1        1        0        0   \n",
       "Actual -2        0        4        9       23        8        0        0   \n",
       "Actual -1        0        1        4       51       98        5        2   \n",
       "Actual +1        0        0        6       41      102        7        0   \n",
       "Actual +2        0        0        1        9       32        0        2   \n",
       "Actual +3        0        0        0        4        2        0        1   \n",
       "Actual +4        0        0        0        0        3        0        0   \n",
       "\n",
       "           Pred +4  \n",
       "Actual -4        0  \n",
       "Actual -3        0  \n",
       "Actual -2        0  \n",
       "Actual -1        0  \n",
       "Actual +1        0  \n",
       "Actual +2        0  \n",
       "Actual +3        0  \n",
       "Actual +4        0  "
      ]
     },
     "execution_count": 35,
     "metadata": {},
     "output_type": "execute_result"
    }
   ],
   "source": [
    "y_clf_predicted = clf_adab.predict(X_clf_test)\n",
    "confusionmatrix = pd.DataFrame(confusion_matrix(y_clf_test, y_clf_predicted, labels=['-4', '-3', '-2', '-1', '+1', '+2', '+3', '+4']), columns\n",
    "=['Pred -4', 'Pred -3', 'Pred -2', 'Pred -1', 'Pred +1', 'Pred +2', 'Pred +3', 'Pred +4'],\n",
    "index=['Actual -4', 'Actual -3', 'Actual -2', 'Actual -1', 'Actual +1', 'Actual +2', 'Actual +3', 'Actual +4'])\n",
    "confusionmatrix"
   ]
  },
  {
   "cell_type": "code",
   "execution_count": 36,
   "metadata": {},
   "outputs": [
    {
     "name": "stdout",
     "output_type": "stream",
     "text": [
      "Average precision for the 8 intervals is -  [0.41295547 0.         0.2        0.         0.38931298 0.42857143\n",
      " 0.3        1.        ]\n"
     ]
    }
   ],
   "source": [
    "print(\"Average precision for the 8 intervals is - \", precision_score(y_clf_test, y_clf_predicted, average = None))"
   ]
  },
  {
   "cell_type": "code",
   "execution_count": 37,
   "metadata": {},
   "outputs": [
    {
     "name": "stdout",
     "output_type": "stream",
     "text": [
      "Average recall for the 8 intervals is -  [0.65384615 0.         0.14285714 0.         0.31677019 0.20454545\n",
      " 0.6        0.14285714]\n"
     ]
    }
   ],
   "source": [
    "print(\"Average recall for the 8 intervals is - \", recall_score(y_clf_test, y_clf_predicted, average = None))"
   ]
  },
  {
   "cell_type": "code",
   "execution_count": null,
   "metadata": {},
   "outputs": [],
   "source": []
  }
 ],
 "metadata": {
  "kernelspec": {
   "display_name": "Python 3",
   "language": "python",
   "name": "python3"
  },
  "language_info": {
   "codemirror_mode": {
    "name": "ipython",
    "version": 3
   },
   "file_extension": ".py",
   "mimetype": "text/x-python",
   "name": "python",
   "nbconvert_exporter": "python",
   "pygments_lexer": "ipython3",
   "version": "3.6.5"
  }
 },
 "nbformat": 4,
 "nbformat_minor": 2
}
