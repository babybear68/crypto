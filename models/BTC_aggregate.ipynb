{
 "cells": [
  {
   "cell_type": "code",
   "execution_count": 1,
   "metadata": {},
   "outputs": [
    {
     "name": "stdout",
     "output_type": "stream",
     "text": [
      "Interactive namespace is empty.\n"
     ]
    }
   ],
   "source": [
    "%who"
   ]
  },
  {
   "cell_type": "code",
   "execution_count": 2,
   "metadata": {},
   "outputs": [
    {
     "name": "stderr",
     "output_type": "stream",
     "text": [
      "/Users/hanlinzhuang/anaconda3/lib/python3.6/site-packages/sklearn/ensemble/weight_boosting.py:29: DeprecationWarning: numpy.core.umath_tests is an internal NumPy module and should not be imported. It will be removed in a future NumPy release.\n",
      "  from numpy.core.umath_tests import inner1d\n"
     ]
    }
   ],
   "source": [
    "import pandas as pd\n",
    "import numpy as np\n",
    "from sklearn.linear_model import LinearRegression\n",
    "from sklearn.model_selection import cross_val_score\n",
    "from sklearn.model_selection import train_test_split\n",
    "from sklearn.metrics import mean_squared_error\n",
    "from sklearn.ensemble import RandomForestClassifier\n",
    "from sklearn.metrics import confusion_matrix\n",
    "from sklearn.ensemble import GradientBoostingRegressor\n",
    "from sklearn.ensemble import AdaBoostClassifier\n",
    "from sklearn.metrics import precision_score\n",
    "from sklearn.metrics import recall_score\n",
    "import warnings\n",
    "warnings.filterwarnings(\"ignore\")"
   ]
  },
  {
   "cell_type": "code",
   "execution_count": 3,
   "metadata": {},
   "outputs": [],
   "source": [
    "data = pd.read_csv('../../raw data/new/btc_hourly.csv')"
   ]
  },
  {
   "cell_type": "code",
   "execution_count": 4,
   "metadata": {},
   "outputs": [],
   "source": [
    "data['vol_per_count'] = data['volume_traded']/data['trades_count']\n",
    "data['roi'] = np.log(data['price_close']/data['price_close'].shift())*100\n",
    "data['price_close_lag1'] = data['price_close'].shift(1)\n",
    "data['price_close_lag2'] = data['price_close'].shift(2)\n",
    "data['price_close_lag3'] = data['price_close'].shift(3)\n",
    "data['volume_traded_lag1'] = data['volume_traded'].shift(1)\n",
    "data['trades_count_lag1'] = data['trades_count'].shift(1)\n",
    "data['vol_per_count_lag1'] = data['vol_per_count'].shift(1)\n",
    "data['roi_lag1'] = data['roi'].shift(1)\n",
    "data['roi_lag2'] = data['roi'].shift(2)\n",
    "data['roi_lag3'] = data['roi'].shift(3)"
   ]
  },
  {
   "cell_type": "code",
   "execution_count": 5,
   "metadata": {},
   "outputs": [
    {
     "data": {
      "text/plain": [
       "count    2135.000000\n",
       "mean        0.020387\n",
       "std         3.020823\n",
       "min       -17.963276\n",
       "25%        -0.292303\n",
       "50%         0.022231\n",
       "75%         0.346353\n",
       "max        17.713383\n",
       "Name: roi, dtype: float64"
      ]
     },
     "execution_count": 5,
     "metadata": {},
     "output_type": "execute_result"
    }
   ],
   "source": [
    "data['roi'].describe()"
   ]
  },
  {
   "cell_type": "code",
   "execution_count": 6,
   "metadata": {},
   "outputs": [],
   "source": [
    "std = data['roi'].std()\n",
    "data['cut'] = pd.cut(data['roi'], \n",
    "                     bins=[-100, -3*std, -2*std, -std, 0, std, 2*std, 3*std, 100], \n",
    "                    labels=['-4', '-3', '-2', '-1', '+1', '+2', '+3', '+4'])\n",
    "data['cut_lag1'] = data['cut'].shift(1)\n",
    "data['cut_lag2'] = data['cut'].shift(2)\n",
    "data['cut_lag3'] = data['cut'].shift(3)"
   ]
  },
  {
   "cell_type": "code",
   "execution_count": 7,
   "metadata": {},
   "outputs": [
    {
     "data": {
      "text/html": [
       "<div>\n",
       "<style scoped>\n",
       "    .dataframe tbody tr th:only-of-type {\n",
       "        vertical-align: middle;\n",
       "    }\n",
       "\n",
       "    .dataframe tbody tr th {\n",
       "        vertical-align: top;\n",
       "    }\n",
       "\n",
       "    .dataframe thead th {\n",
       "        text-align: right;\n",
       "    }\n",
       "</style>\n",
       "<table border=\"1\" class=\"dataframe\">\n",
       "  <thead>\n",
       "    <tr style=\"text-align: right;\">\n",
       "      <th></th>\n",
       "      <th>time_period_start</th>\n",
       "      <th>time_period_end</th>\n",
       "      <th>time_open</th>\n",
       "      <th>time_close</th>\n",
       "      <th>price_open</th>\n",
       "      <th>price_high</th>\n",
       "      <th>price_low</th>\n",
       "      <th>price_close</th>\n",
       "      <th>volume_traded</th>\n",
       "      <th>trades_count</th>\n",
       "      <th>...</th>\n",
       "      <th>volume_traded_lag1</th>\n",
       "      <th>trades_count_lag1</th>\n",
       "      <th>vol_per_count_lag1</th>\n",
       "      <th>roi_lag1</th>\n",
       "      <th>roi_lag2</th>\n",
       "      <th>roi_lag3</th>\n",
       "      <th>cut</th>\n",
       "      <th>cut_lag1</th>\n",
       "      <th>cut_lag2</th>\n",
       "      <th>cut_lag3</th>\n",
       "    </tr>\n",
       "  </thead>\n",
       "  <tbody>\n",
       "    <tr>\n",
       "      <th>0</th>\n",
       "      <td>2019-02-01T00:00:00.0000000Z</td>\n",
       "      <td>2019-02-01T01:00:00.0000000Z</td>\n",
       "      <td>2019-02-01T00:00:00.0000000Z</td>\n",
       "      <td>2019-02-01T00:59:58.6240000Z</td>\n",
       "      <td>3413.69</td>\n",
       "      <td>4801.89</td>\n",
       "      <td>3302.01111</td>\n",
       "      <td>3410.62</td>\n",
       "      <td>16176.11220</td>\n",
       "      <td>5239</td>\n",
       "      <td>...</td>\n",
       "      <td>NaN</td>\n",
       "      <td>NaN</td>\n",
       "      <td>NaN</td>\n",
       "      <td>NaN</td>\n",
       "      <td>NaN</td>\n",
       "      <td>NaN</td>\n",
       "      <td>NaN</td>\n",
       "      <td>NaN</td>\n",
       "      <td>NaN</td>\n",
       "      <td>NaN</td>\n",
       "    </tr>\n",
       "    <tr>\n",
       "      <th>1</th>\n",
       "      <td>2019-02-01T01:00:00.0000000Z</td>\n",
       "      <td>2019-02-01T02:00:00.0000000Z</td>\n",
       "      <td>2019-02-01T01:00:00.0000000Z</td>\n",
       "      <td>2019-02-01T01:59:58.0000000Z</td>\n",
       "      <td>3496.00</td>\n",
       "      <td>5575.47</td>\n",
       "      <td>2197.12000</td>\n",
       "      <td>3387.20</td>\n",
       "      <td>17787.21738</td>\n",
       "      <td>8078</td>\n",
       "      <td>...</td>\n",
       "      <td>16176.11220</td>\n",
       "      <td>5239.0</td>\n",
       "      <td>3.087634</td>\n",
       "      <td>NaN</td>\n",
       "      <td>NaN</td>\n",
       "      <td>NaN</td>\n",
       "      <td>-1</td>\n",
       "      <td>NaN</td>\n",
       "      <td>NaN</td>\n",
       "      <td>NaN</td>\n",
       "    </tr>\n",
       "    <tr>\n",
       "      <th>2</th>\n",
       "      <td>2019-02-01T02:00:00.0000000Z</td>\n",
       "      <td>2019-02-01T03:00:00.0000000Z</td>\n",
       "      <td>2019-02-01T02:00:00.0000000Z</td>\n",
       "      <td>2019-02-01T02:59:59.1200000Z</td>\n",
       "      <td>3476.00</td>\n",
       "      <td>4055.97</td>\n",
       "      <td>2191.11000</td>\n",
       "      <td>3388.21</td>\n",
       "      <td>14935.60829</td>\n",
       "      <td>4863</td>\n",
       "      <td>...</td>\n",
       "      <td>17787.21738</td>\n",
       "      <td>8078.0</td>\n",
       "      <td>2.201933</td>\n",
       "      <td>-0.689047</td>\n",
       "      <td>NaN</td>\n",
       "      <td>NaN</td>\n",
       "      <td>+1</td>\n",
       "      <td>-1</td>\n",
       "      <td>NaN</td>\n",
       "      <td>NaN</td>\n",
       "    </tr>\n",
       "    <tr>\n",
       "      <th>3</th>\n",
       "      <td>2019-02-01T03:00:00.0000000Z</td>\n",
       "      <td>2019-02-01T04:00:00.0000000Z</td>\n",
       "      <td>2019-02-01T03:00:00.0000000Z</td>\n",
       "      <td>2019-02-01T03:59:59.4890000Z</td>\n",
       "      <td>3480.70</td>\n",
       "      <td>5519.47</td>\n",
       "      <td>2175.06000</td>\n",
       "      <td>3395.34</td>\n",
       "      <td>15145.67548</td>\n",
       "      <td>4217</td>\n",
       "      <td>...</td>\n",
       "      <td>14935.60829</td>\n",
       "      <td>4863.0</td>\n",
       "      <td>3.071275</td>\n",
       "      <td>0.029814</td>\n",
       "      <td>-0.689047</td>\n",
       "      <td>NaN</td>\n",
       "      <td>+1</td>\n",
       "      <td>+1</td>\n",
       "      <td>-1</td>\n",
       "      <td>NaN</td>\n",
       "    </tr>\n",
       "    <tr>\n",
       "      <th>4</th>\n",
       "      <td>2019-02-01T04:00:00.0000000Z</td>\n",
       "      <td>2019-02-01T05:00:00.0000000Z</td>\n",
       "      <td>2019-02-01T04:00:00.0000000Z</td>\n",
       "      <td>2019-02-01T04:59:57.0000000Z</td>\n",
       "      <td>3394.48</td>\n",
       "      <td>4055.93</td>\n",
       "      <td>3302.00001</td>\n",
       "      <td>3388.19</td>\n",
       "      <td>14572.54123</td>\n",
       "      <td>3339</td>\n",
       "      <td>...</td>\n",
       "      <td>15145.67548</td>\n",
       "      <td>4217.0</td>\n",
       "      <td>3.591576</td>\n",
       "      <td>0.210214</td>\n",
       "      <td>0.029814</td>\n",
       "      <td>-0.689047</td>\n",
       "      <td>-1</td>\n",
       "      <td>+1</td>\n",
       "      <td>+1</td>\n",
       "      <td>-1</td>\n",
       "    </tr>\n",
       "  </tbody>\n",
       "</table>\n",
       "<p>5 rows × 25 columns</p>\n",
       "</div>"
      ],
      "text/plain": [
       "              time_period_start               time_period_end  \\\n",
       "0  2019-02-01T00:00:00.0000000Z  2019-02-01T01:00:00.0000000Z   \n",
       "1  2019-02-01T01:00:00.0000000Z  2019-02-01T02:00:00.0000000Z   \n",
       "2  2019-02-01T02:00:00.0000000Z  2019-02-01T03:00:00.0000000Z   \n",
       "3  2019-02-01T03:00:00.0000000Z  2019-02-01T04:00:00.0000000Z   \n",
       "4  2019-02-01T04:00:00.0000000Z  2019-02-01T05:00:00.0000000Z   \n",
       "\n",
       "                      time_open                    time_close  price_open  \\\n",
       "0  2019-02-01T00:00:00.0000000Z  2019-02-01T00:59:58.6240000Z     3413.69   \n",
       "1  2019-02-01T01:00:00.0000000Z  2019-02-01T01:59:58.0000000Z     3496.00   \n",
       "2  2019-02-01T02:00:00.0000000Z  2019-02-01T02:59:59.1200000Z     3476.00   \n",
       "3  2019-02-01T03:00:00.0000000Z  2019-02-01T03:59:59.4890000Z     3480.70   \n",
       "4  2019-02-01T04:00:00.0000000Z  2019-02-01T04:59:57.0000000Z     3394.48   \n",
       "\n",
       "   price_high   price_low  price_close  volume_traded  trades_count    ...     \\\n",
       "0     4801.89  3302.01111      3410.62    16176.11220          5239    ...      \n",
       "1     5575.47  2197.12000      3387.20    17787.21738          8078    ...      \n",
       "2     4055.97  2191.11000      3388.21    14935.60829          4863    ...      \n",
       "3     5519.47  2175.06000      3395.34    15145.67548          4217    ...      \n",
       "4     4055.93  3302.00001      3388.19    14572.54123          3339    ...      \n",
       "\n",
       "   volume_traded_lag1  trades_count_lag1  vol_per_count_lag1  roi_lag1  \\\n",
       "0                 NaN                NaN                 NaN       NaN   \n",
       "1         16176.11220             5239.0            3.087634       NaN   \n",
       "2         17787.21738             8078.0            2.201933 -0.689047   \n",
       "3         14935.60829             4863.0            3.071275  0.029814   \n",
       "4         15145.67548             4217.0            3.591576  0.210214   \n",
       "\n",
       "   roi_lag2  roi_lag3  cut  cut_lag1  cut_lag2  cut_lag3  \n",
       "0       NaN       NaN  NaN       NaN       NaN       NaN  \n",
       "1       NaN       NaN   -1       NaN       NaN       NaN  \n",
       "2       NaN       NaN   +1        -1       NaN       NaN  \n",
       "3 -0.689047       NaN   +1        +1        -1       NaN  \n",
       "4  0.029814 -0.689047   -1        +1        +1        -1  \n",
       "\n",
       "[5 rows x 25 columns]"
      ]
     },
     "execution_count": 7,
     "metadata": {},
     "output_type": "execute_result"
    }
   ],
   "source": [
    "data.head()"
   ]
  },
  {
   "cell_type": "code",
   "execution_count": 8,
   "metadata": {},
   "outputs": [
    {
     "data": {
      "text/plain": [
       "Index(['time_period_start', 'time_period_end', 'time_open', 'time_close',\n",
       "       'price_open', 'price_high', 'price_low', 'price_close', 'volume_traded',\n",
       "       'trades_count', 'vol_per_count', 'roi', 'price_close_lag1',\n",
       "       'price_close_lag2', 'price_close_lag3', 'volume_traded_lag1',\n",
       "       'trades_count_lag1', 'vol_per_count_lag1', 'roi_lag1', 'roi_lag2',\n",
       "       'roi_lag3', 'cut', 'cut_lag1', 'cut_lag2', 'cut_lag3'],\n",
       "      dtype='object')"
      ]
     },
     "execution_count": 8,
     "metadata": {},
     "output_type": "execute_result"
    }
   ],
   "source": [
    "data.columns"
   ]
  },
  {
   "cell_type": "code",
   "execution_count": 9,
   "metadata": {},
   "outputs": [
    {
     "data": {
      "text/html": [
       "<div>\n",
       "<style scoped>\n",
       "    .dataframe tbody tr th:only-of-type {\n",
       "        vertical-align: middle;\n",
       "    }\n",
       "\n",
       "    .dataframe tbody tr th {\n",
       "        vertical-align: top;\n",
       "    }\n",
       "\n",
       "    .dataframe thead th {\n",
       "        text-align: right;\n",
       "    }\n",
       "</style>\n",
       "<table border=\"1\" class=\"dataframe\">\n",
       "  <thead>\n",
       "    <tr style=\"text-align: right;\">\n",
       "      <th></th>\n",
       "      <th>time_period_start</th>\n",
       "      <th>time_period_end</th>\n",
       "      <th>time_open</th>\n",
       "      <th>time_close</th>\n",
       "      <th>price_open</th>\n",
       "      <th>price_high</th>\n",
       "      <th>price_low</th>\n",
       "      <th>price_close</th>\n",
       "      <th>volume_traded</th>\n",
       "      <th>trades_count</th>\n",
       "      <th>...</th>\n",
       "      <th>volume_traded_lag1</th>\n",
       "      <th>trades_count_lag1</th>\n",
       "      <th>vol_per_count_lag1</th>\n",
       "      <th>roi_lag1</th>\n",
       "      <th>roi_lag2</th>\n",
       "      <th>roi_lag3</th>\n",
       "      <th>cut</th>\n",
       "      <th>cut_lag1</th>\n",
       "      <th>cut_lag2</th>\n",
       "      <th>cut_lag3</th>\n",
       "    </tr>\n",
       "  </thead>\n",
       "  <tbody>\n",
       "    <tr>\n",
       "      <th>4</th>\n",
       "      <td>2019-02-01T04:00:00.0000000Z</td>\n",
       "      <td>2019-02-01T05:00:00.0000000Z</td>\n",
       "      <td>2019-02-01T04:00:00.0000000Z</td>\n",
       "      <td>2019-02-01T04:59:57.0000000Z</td>\n",
       "      <td>3394.48</td>\n",
       "      <td>4055.93</td>\n",
       "      <td>3302.00001</td>\n",
       "      <td>3388.19</td>\n",
       "      <td>14572.54123</td>\n",
       "      <td>3339</td>\n",
       "      <td>...</td>\n",
       "      <td>15145.67548</td>\n",
       "      <td>4217.0</td>\n",
       "      <td>3.591576</td>\n",
       "      <td>0.210214</td>\n",
       "      <td>0.029814</td>\n",
       "      <td>-0.689047</td>\n",
       "      <td>-1</td>\n",
       "      <td>+1</td>\n",
       "      <td>+1</td>\n",
       "      <td>-1</td>\n",
       "    </tr>\n",
       "    <tr>\n",
       "      <th>5</th>\n",
       "      <td>2019-02-01T05:00:00.0000000Z</td>\n",
       "      <td>2019-02-01T06:00:00.0000000Z</td>\n",
       "      <td>2019-02-01T05:00:02.0000000Z</td>\n",
       "      <td>2019-02-01T05:59:59.4910000Z</td>\n",
       "      <td>3478.40</td>\n",
       "      <td>4056.33</td>\n",
       "      <td>3322.40003</td>\n",
       "      <td>3394.02</td>\n",
       "      <td>12988.44231</td>\n",
       "      <td>3028</td>\n",
       "      <td>...</td>\n",
       "      <td>14572.54123</td>\n",
       "      <td>3339.0</td>\n",
       "      <td>4.364343</td>\n",
       "      <td>-0.210805</td>\n",
       "      <td>0.210214</td>\n",
       "      <td>0.029814</td>\n",
       "      <td>+1</td>\n",
       "      <td>-1</td>\n",
       "      <td>+1</td>\n",
       "      <td>+1</td>\n",
       "    </tr>\n",
       "    <tr>\n",
       "      <th>6</th>\n",
       "      <td>2019-02-01T06:00:00.0000000Z</td>\n",
       "      <td>2019-02-01T07:00:00.0000000Z</td>\n",
       "      <td>2019-02-01T06:00:00.3530000Z</td>\n",
       "      <td>2019-02-01T06:59:59.0000000Z</td>\n",
       "      <td>3394.02</td>\n",
       "      <td>4053.97</td>\n",
       "      <td>3302.56000</td>\n",
       "      <td>4051.75</td>\n",
       "      <td>11399.31467</td>\n",
       "      <td>3099</td>\n",
       "      <td>...</td>\n",
       "      <td>12988.44231</td>\n",
       "      <td>3028.0</td>\n",
       "      <td>4.289446</td>\n",
       "      <td>0.171920</td>\n",
       "      <td>-0.210805</td>\n",
       "      <td>0.210214</td>\n",
       "      <td>+4</td>\n",
       "      <td>+1</td>\n",
       "      <td>-1</td>\n",
       "      <td>+1</td>\n",
       "    </tr>\n",
       "    <tr>\n",
       "      <th>7</th>\n",
       "      <td>2019-02-01T07:00:00.0000000Z</td>\n",
       "      <td>2019-02-01T08:00:00.0000000Z</td>\n",
       "      <td>2019-02-01T07:00:00.0000000Z</td>\n",
       "      <td>2019-02-01T07:59:59.0000000Z</td>\n",
       "      <td>3698.00</td>\n",
       "      <td>4053.22</td>\n",
       "      <td>2952.63000</td>\n",
       "      <td>3712.00</td>\n",
       "      <td>17215.16712</td>\n",
       "      <td>6224</td>\n",
       "      <td>...</td>\n",
       "      <td>11399.31467</td>\n",
       "      <td>3099.0</td>\n",
       "      <td>3.678385</td>\n",
       "      <td>17.713383</td>\n",
       "      <td>0.171920</td>\n",
       "      <td>-0.210805</td>\n",
       "      <td>-3</td>\n",
       "      <td>+4</td>\n",
       "      <td>+1</td>\n",
       "      <td>-1</td>\n",
       "    </tr>\n",
       "    <tr>\n",
       "      <th>8</th>\n",
       "      <td>2019-02-01T08:00:00.0000000Z</td>\n",
       "      <td>2019-02-01T09:00:00.0000000Z</td>\n",
       "      <td>2019-02-01T08:00:02.0000000Z</td>\n",
       "      <td>2019-02-01T08:59:59.0000000Z</td>\n",
       "      <td>3470.80</td>\n",
       "      <td>4467.20</td>\n",
       "      <td>3210.80000</td>\n",
       "      <td>3354.49</td>\n",
       "      <td>14957.96840</td>\n",
       "      <td>4368</td>\n",
       "      <td>...</td>\n",
       "      <td>17215.16712</td>\n",
       "      <td>6224.0</td>\n",
       "      <td>2.765933</td>\n",
       "      <td>-8.757807</td>\n",
       "      <td>17.713383</td>\n",
       "      <td>0.171920</td>\n",
       "      <td>-4</td>\n",
       "      <td>-3</td>\n",
       "      <td>+4</td>\n",
       "      <td>+1</td>\n",
       "    </tr>\n",
       "  </tbody>\n",
       "</table>\n",
       "<p>5 rows × 25 columns</p>\n",
       "</div>"
      ],
      "text/plain": [
       "              time_period_start               time_period_end  \\\n",
       "4  2019-02-01T04:00:00.0000000Z  2019-02-01T05:00:00.0000000Z   \n",
       "5  2019-02-01T05:00:00.0000000Z  2019-02-01T06:00:00.0000000Z   \n",
       "6  2019-02-01T06:00:00.0000000Z  2019-02-01T07:00:00.0000000Z   \n",
       "7  2019-02-01T07:00:00.0000000Z  2019-02-01T08:00:00.0000000Z   \n",
       "8  2019-02-01T08:00:00.0000000Z  2019-02-01T09:00:00.0000000Z   \n",
       "\n",
       "                      time_open                    time_close  price_open  \\\n",
       "4  2019-02-01T04:00:00.0000000Z  2019-02-01T04:59:57.0000000Z     3394.48   \n",
       "5  2019-02-01T05:00:02.0000000Z  2019-02-01T05:59:59.4910000Z     3478.40   \n",
       "6  2019-02-01T06:00:00.3530000Z  2019-02-01T06:59:59.0000000Z     3394.02   \n",
       "7  2019-02-01T07:00:00.0000000Z  2019-02-01T07:59:59.0000000Z     3698.00   \n",
       "8  2019-02-01T08:00:02.0000000Z  2019-02-01T08:59:59.0000000Z     3470.80   \n",
       "\n",
       "   price_high   price_low  price_close  volume_traded  trades_count    ...     \\\n",
       "4     4055.93  3302.00001      3388.19    14572.54123          3339    ...      \n",
       "5     4056.33  3322.40003      3394.02    12988.44231          3028    ...      \n",
       "6     4053.97  3302.56000      4051.75    11399.31467          3099    ...      \n",
       "7     4053.22  2952.63000      3712.00    17215.16712          6224    ...      \n",
       "8     4467.20  3210.80000      3354.49    14957.96840          4368    ...      \n",
       "\n",
       "   volume_traded_lag1  trades_count_lag1  vol_per_count_lag1   roi_lag1  \\\n",
       "4         15145.67548             4217.0            3.591576   0.210214   \n",
       "5         14572.54123             3339.0            4.364343  -0.210805   \n",
       "6         12988.44231             3028.0            4.289446   0.171920   \n",
       "7         11399.31467             3099.0            3.678385  17.713383   \n",
       "8         17215.16712             6224.0            2.765933  -8.757807   \n",
       "\n",
       "    roi_lag2  roi_lag3  cut  cut_lag1  cut_lag2  cut_lag3  \n",
       "4   0.029814 -0.689047   -1        +1        +1        -1  \n",
       "5   0.210214  0.029814   +1        -1        +1        +1  \n",
       "6  -0.210805  0.210214   +4        +1        -1        +1  \n",
       "7   0.171920 -0.210805   -3        +4        +1        -1  \n",
       "8  17.713383  0.171920   -4        -3        +4        +1  \n",
       "\n",
       "[5 rows x 25 columns]"
      ]
     },
     "execution_count": 9,
     "metadata": {},
     "output_type": "execute_result"
    }
   ],
   "source": [
    "data_ = data.dropna()\n",
    "data_.head()"
   ]
  },
  {
   "cell_type": "code",
   "execution_count": 10,
   "metadata": {},
   "outputs": [
    {
     "data": {
      "text/plain": [
       "cut\n",
       "-4      35\n",
       "-3      17\n",
       "-2      45\n",
       "-1     919\n",
       "+1    1010\n",
       "+2      60\n",
       "+3       9\n",
       "+4      37\n",
       "Name: cut, dtype: int64"
      ]
     },
     "execution_count": 10,
     "metadata": {},
     "output_type": "execute_result"
    }
   ],
   "source": [
    "data_['cut'].groupby(data_['cut']).count()"
   ]
  },
  {
   "cell_type": "code",
   "execution_count": 11,
   "metadata": {},
   "outputs": [
    {
     "data": {
      "text/plain": [
       "(2132, 25)"
      ]
     },
     "execution_count": 11,
     "metadata": {},
     "output_type": "execute_result"
    }
   ],
   "source": [
    "data_.shape"
   ]
  },
  {
   "cell_type": "code",
   "execution_count": 12,
   "metadata": {},
   "outputs": [],
   "source": [
    "y = data_['price_close']\n",
    "X = data_[['price_close_lag1', 'price_close_lag2', 'price_close_lag3', \n",
    "           'roi_lag1', \n",
    "           'volume_traded_lag1', 'trades_count_lag1', 'vol_per_count_lag1']]"
   ]
  },
  {
   "cell_type": "code",
   "execution_count": 13,
   "metadata": {},
   "outputs": [],
   "source": [
    "X_train, X_test, y_train, y_test = train_test_split(X, y, test_size=0.2, shuffle=False)"
   ]
  },
  {
   "cell_type": "code",
   "execution_count": 14,
   "metadata": {},
   "outputs": [],
   "source": [
    "mod_linear = LinearRegression()\n",
    "mod_linear.fit(X_train, y_train);"
   ]
  },
  {
   "cell_type": "code",
   "execution_count": 15,
   "metadata": {},
   "outputs": [
    {
     "name": "stdout",
     "output_type": "stream",
     "text": [
      "coefficients:\n",
      "price_close_lag1: 0.35716442815247873\n",
      "price_close_lag2: 0.3304178594183203\n",
      "price_close_lag3: 0.29576350476879615\n",
      "roi_lag1: 0.7774691989418128\n",
      "volume_traded_lag1: -0.0005278698074646435\n",
      "trades_count_lag1: 0.0010965415600147862\n",
      "vol_per_count_lag1: -0.5201979355786112\n"
     ]
    }
   ],
   "source": [
    "print('coefficients:')\n",
    "for i in range(len(X.columns)):\n",
    "    print('{}: {}'.format(X.columns[i], mod_linear.coef_[i]))"
   ]
  },
  {
   "cell_type": "code",
   "execution_count": 16,
   "metadata": {},
   "outputs": [
    {
     "name": "stdout",
     "output_type": "stream",
     "text": [
      "mse:\n",
      "17818.638218153206\n"
     ]
    }
   ],
   "source": [
    "y_predicted = mod_linear.predict(X_test)\n",
    "print('mse:')\n",
    "print(mean_squared_error(y_test, y_predicted))"
   ]
  },
  {
   "cell_type": "code",
   "execution_count": 17,
   "metadata": {},
   "outputs": [
    {
     "name": "stdout",
     "output_type": "stream",
     "text": [
      "accuracy:\n",
      "0.40047864488691404\n"
     ]
    }
   ],
   "source": [
    "print('accuracy:')\n",
    "print(mod_linear.score(X_test, y_test))"
   ]
  },
  {
   "cell_type": "markdown",
   "metadata": {},
   "source": [
    "### clf"
   ]
  },
  {
   "cell_type": "code",
   "execution_count": 18,
   "metadata": {},
   "outputs": [],
   "source": [
    "# y_clf = data_['cut']\n",
    "# X_clf = data_[['roi_lag1', 'roi_lag2', 'roi_lag3', \n",
    "#                'price_close_lag1', \n",
    "#                'volume_traded_lag1', 'trades_count_lag1', 'vol_per_count_lag1']]"
   ]
  },
  {
   "cell_type": "code",
   "execution_count": 19,
   "metadata": {},
   "outputs": [],
   "source": [
    "y_clf = data_['cut']\n",
    "X_clf = data_[['roi_lag1',  \n",
    "               'price_close_lag1', \n",
    "               'volume_traded_lag1', 'trades_count_lag1', 'vol_per_count_lag1']]"
   ]
  },
  {
   "cell_type": "code",
   "execution_count": 20,
   "metadata": {},
   "outputs": [
    {
     "data": {
      "text/html": [
       "<div>\n",
       "<style scoped>\n",
       "    .dataframe tbody tr th:only-of-type {\n",
       "        vertical-align: middle;\n",
       "    }\n",
       "\n",
       "    .dataframe tbody tr th {\n",
       "        vertical-align: top;\n",
       "    }\n",
       "\n",
       "    .dataframe thead th {\n",
       "        text-align: right;\n",
       "    }\n",
       "</style>\n",
       "<table border=\"1\" class=\"dataframe\">\n",
       "  <thead>\n",
       "    <tr style=\"text-align: right;\">\n",
       "      <th></th>\n",
       "      <th>cut</th>\n",
       "      <th>roi_lag1</th>\n",
       "      <th>price_close_lag1</th>\n",
       "      <th>volume_traded_lag1</th>\n",
       "      <th>trades_count_lag1</th>\n",
       "      <th>vol_per_count_lag1</th>\n",
       "    </tr>\n",
       "  </thead>\n",
       "  <tbody>\n",
       "    <tr>\n",
       "      <th>4</th>\n",
       "      <td>-1</td>\n",
       "      <td>0.210214</td>\n",
       "      <td>3395.34</td>\n",
       "      <td>15145.67548</td>\n",
       "      <td>4217.0</td>\n",
       "      <td>3.591576</td>\n",
       "    </tr>\n",
       "    <tr>\n",
       "      <th>5</th>\n",
       "      <td>+1</td>\n",
       "      <td>-0.210805</td>\n",
       "      <td>3388.19</td>\n",
       "      <td>14572.54123</td>\n",
       "      <td>3339.0</td>\n",
       "      <td>4.364343</td>\n",
       "    </tr>\n",
       "    <tr>\n",
       "      <th>6</th>\n",
       "      <td>+4</td>\n",
       "      <td>0.171920</td>\n",
       "      <td>3394.02</td>\n",
       "      <td>12988.44231</td>\n",
       "      <td>3028.0</td>\n",
       "      <td>4.289446</td>\n",
       "    </tr>\n",
       "    <tr>\n",
       "      <th>7</th>\n",
       "      <td>-3</td>\n",
       "      <td>17.713383</td>\n",
       "      <td>4051.75</td>\n",
       "      <td>11399.31467</td>\n",
       "      <td>3099.0</td>\n",
       "      <td>3.678385</td>\n",
       "    </tr>\n",
       "    <tr>\n",
       "      <th>8</th>\n",
       "      <td>-4</td>\n",
       "      <td>-8.757807</td>\n",
       "      <td>3712.00</td>\n",
       "      <td>17215.16712</td>\n",
       "      <td>6224.0</td>\n",
       "      <td>2.765933</td>\n",
       "    </tr>\n",
       "  </tbody>\n",
       "</table>\n",
       "</div>"
      ],
      "text/plain": [
       "  cut   roi_lag1  price_close_lag1  volume_traded_lag1  trades_count_lag1  \\\n",
       "4  -1   0.210214           3395.34         15145.67548             4217.0   \n",
       "5  +1  -0.210805           3388.19         14572.54123             3339.0   \n",
       "6  +4   0.171920           3394.02         12988.44231             3028.0   \n",
       "7  -3  17.713383           4051.75         11399.31467             3099.0   \n",
       "8  -4  -8.757807           3712.00         17215.16712             6224.0   \n",
       "\n",
       "   vol_per_count_lag1  \n",
       "4            3.591576  \n",
       "5            4.364343  \n",
       "6            4.289446  \n",
       "7            3.678385  \n",
       "8            2.765933  "
      ]
     },
     "execution_count": 20,
     "metadata": {},
     "output_type": "execute_result"
    }
   ],
   "source": [
    "data_[['cut', 'roi_lag1',  \n",
    "               'price_close_lag1', \n",
    "               'volume_traded_lag1', 'trades_count_lag1', 'vol_per_count_lag1']].head()"
   ]
  },
  {
   "cell_type": "code",
   "execution_count": 21,
   "metadata": {},
   "outputs": [],
   "source": [
    "X_clf_train, X_clf_test, y_clf_train, y_clf_test = train_test_split(X_clf, y_clf, test_size=0.2, random_state=0)"
   ]
  },
  {
   "cell_type": "code",
   "execution_count": 22,
   "metadata": {},
   "outputs": [
    {
     "data": {
      "text/plain": [
       "(427,)"
      ]
     },
     "execution_count": 22,
     "metadata": {},
     "output_type": "execute_result"
    }
   ],
   "source": [
    "y_clf_test.shape"
   ]
  },
  {
   "cell_type": "code",
   "execution_count": 23,
   "metadata": {},
   "outputs": [],
   "source": [
    "# random forest"
   ]
  },
  {
   "cell_type": "code",
   "execution_count": 24,
   "metadata": {},
   "outputs": [
    {
     "data": {
      "text/plain": [
       "RandomForestClassifier(bootstrap=True, class_weight=None, criterion='gini',\n",
       "            max_depth=5, max_features='auto', max_leaf_nodes=None,\n",
       "            min_impurity_decrease=0.0, min_impurity_split=None,\n",
       "            min_samples_leaf=1, min_samples_split=2,\n",
       "            min_weight_fraction_leaf=0.0, n_estimators=1000, n_jobs=1,\n",
       "            oob_score=False, random_state=0, verbose=0, warm_start=False)"
      ]
     },
     "execution_count": 24,
     "metadata": {},
     "output_type": "execute_result"
    }
   ],
   "source": [
    "clf_rf = RandomForestClassifier(n_estimators=1000, max_depth=5, bootstrap=True, random_state=0)\n",
    "clf_rf.fit(X_clf_train, y_clf_train)"
   ]
  },
  {
   "cell_type": "code",
   "execution_count": 25,
   "metadata": {},
   "outputs": [
    {
     "name": "stdout",
     "output_type": "stream",
     "text": [
      "accuracy:\n",
      "0.6182669789227166\n"
     ]
    }
   ],
   "source": [
    "print('accuracy:')\n",
    "print(clf_rf.score(X_clf_test, y_clf_test))"
   ]
  },
  {
   "cell_type": "code",
   "execution_count": 26,
   "metadata": {},
   "outputs": [
    {
     "data": {
      "text/html": [
       "<div>\n",
       "<style scoped>\n",
       "    .dataframe tbody tr th:only-of-type {\n",
       "        vertical-align: middle;\n",
       "    }\n",
       "\n",
       "    .dataframe tbody tr th {\n",
       "        vertical-align: top;\n",
       "    }\n",
       "\n",
       "    .dataframe thead th {\n",
       "        text-align: right;\n",
       "    }\n",
       "</style>\n",
       "<table border=\"1\" class=\"dataframe\">\n",
       "  <thead>\n",
       "    <tr style=\"text-align: right;\">\n",
       "      <th></th>\n",
       "      <th>Pred -4</th>\n",
       "      <th>Pred -3</th>\n",
       "      <th>Pred -2</th>\n",
       "      <th>Pred -1</th>\n",
       "      <th>Pred +1</th>\n",
       "      <th>Pred +2</th>\n",
       "      <th>Pred +3</th>\n",
       "      <th>Pred +4</th>\n",
       "    </tr>\n",
       "  </thead>\n",
       "  <tbody>\n",
       "    <tr>\n",
       "      <th>Actual -4</th>\n",
       "      <td>7</td>\n",
       "      <td>0</td>\n",
       "      <td>0</td>\n",
       "      <td>0</td>\n",
       "      <td>0</td>\n",
       "      <td>0</td>\n",
       "      <td>0</td>\n",
       "      <td>0</td>\n",
       "    </tr>\n",
       "    <tr>\n",
       "      <th>Actual -3</th>\n",
       "      <td>0</td>\n",
       "      <td>0</td>\n",
       "      <td>1</td>\n",
       "      <td>2</td>\n",
       "      <td>1</td>\n",
       "      <td>0</td>\n",
       "      <td>0</td>\n",
       "      <td>0</td>\n",
       "    </tr>\n",
       "    <tr>\n",
       "      <th>Actual -2</th>\n",
       "      <td>0</td>\n",
       "      <td>0</td>\n",
       "      <td>5</td>\n",
       "      <td>3</td>\n",
       "      <td>1</td>\n",
       "      <td>0</td>\n",
       "      <td>0</td>\n",
       "      <td>0</td>\n",
       "    </tr>\n",
       "    <tr>\n",
       "      <th>Actual -1</th>\n",
       "      <td>0</td>\n",
       "      <td>0</td>\n",
       "      <td>0</td>\n",
       "      <td>78</td>\n",
       "      <td>103</td>\n",
       "      <td>0</td>\n",
       "      <td>0</td>\n",
       "      <td>0</td>\n",
       "    </tr>\n",
       "    <tr>\n",
       "      <th>Actual +1</th>\n",
       "      <td>0</td>\n",
       "      <td>0</td>\n",
       "      <td>0</td>\n",
       "      <td>31</td>\n",
       "      <td>174</td>\n",
       "      <td>0</td>\n",
       "      <td>0</td>\n",
       "      <td>0</td>\n",
       "    </tr>\n",
       "    <tr>\n",
       "      <th>Actual +2</th>\n",
       "      <td>0</td>\n",
       "      <td>0</td>\n",
       "      <td>0</td>\n",
       "      <td>1</td>\n",
       "      <td>12</td>\n",
       "      <td>0</td>\n",
       "      <td>0</td>\n",
       "      <td>0</td>\n",
       "    </tr>\n",
       "    <tr>\n",
       "      <th>Actual +3</th>\n",
       "      <td>0</td>\n",
       "      <td>0</td>\n",
       "      <td>0</td>\n",
       "      <td>0</td>\n",
       "      <td>2</td>\n",
       "      <td>0</td>\n",
       "      <td>0</td>\n",
       "      <td>0</td>\n",
       "    </tr>\n",
       "    <tr>\n",
       "      <th>Actual +4</th>\n",
       "      <td>0</td>\n",
       "      <td>0</td>\n",
       "      <td>0</td>\n",
       "      <td>1</td>\n",
       "      <td>5</td>\n",
       "      <td>0</td>\n",
       "      <td>0</td>\n",
       "      <td>0</td>\n",
       "    </tr>\n",
       "  </tbody>\n",
       "</table>\n",
       "</div>"
      ],
      "text/plain": [
       "           Pred -4  Pred -3  Pred -2  Pred -1  Pred +1  Pred +2  Pred +3  \\\n",
       "Actual -4        7        0        0        0        0        0        0   \n",
       "Actual -3        0        0        1        2        1        0        0   \n",
       "Actual -2        0        0        5        3        1        0        0   \n",
       "Actual -1        0        0        0       78      103        0        0   \n",
       "Actual +1        0        0        0       31      174        0        0   \n",
       "Actual +2        0        0        0        1       12        0        0   \n",
       "Actual +3        0        0        0        0        2        0        0   \n",
       "Actual +4        0        0        0        1        5        0        0   \n",
       "\n",
       "           Pred +4  \n",
       "Actual -4        0  \n",
       "Actual -3        0  \n",
       "Actual -2        0  \n",
       "Actual -1        0  \n",
       "Actual +1        0  \n",
       "Actual +2        0  \n",
       "Actual +3        0  \n",
       "Actual +4        0  "
      ]
     },
     "execution_count": 26,
     "metadata": {},
     "output_type": "execute_result"
    }
   ],
   "source": [
    "y_clf_predicted = clf_rf.predict(X_clf_test)\n",
    "confusionmatrix = pd.DataFrame(confusion_matrix(y_clf_test, y_clf_predicted, labels=['-4', '-3', '-2', '-1', '+1', '+2', '+3', '+4']), columns\n",
    "=['Pred -4', 'Pred -3', 'Pred -2', 'Pred -1', 'Pred +1', 'Pred +2', 'Pred +3', 'Pred +4'],\n",
    "index=['Actual -4', 'Actual -3', 'Actual -2', 'Actual -1', 'Actual +1', 'Actual +2', 'Actual +3', 'Actual +4'])\n",
    "confusionmatrix"
   ]
  },
  {
   "cell_type": "code",
   "execution_count": 27,
   "metadata": {},
   "outputs": [
    {
     "data": {
      "text/plain": [
       "(427,)"
      ]
     },
     "execution_count": 27,
     "metadata": {},
     "output_type": "execute_result"
    }
   ],
   "source": [
    "y_clf_test.shape"
   ]
  },
  {
   "cell_type": "code",
   "execution_count": 28,
   "metadata": {},
   "outputs": [
    {
     "name": "stdout",
     "output_type": "stream",
     "text": [
      "Average precision for the 8 intervals is -  [0.58389262 0.         0.         0.         0.67241379 0.83333333\n",
      " 0.         1.        ]\n"
     ]
    }
   ],
   "source": [
    "print(\"Average precision for the 8 intervals is - \", precision_score(y_clf_test, y_clf_predicted, average = None))"
   ]
  },
  {
   "cell_type": "code",
   "execution_count": 29,
   "metadata": {},
   "outputs": [
    {
     "name": "stdout",
     "output_type": "stream",
     "text": [
      "Average recall for the 8 intervals is -  [0.84878049 0.         0.         0.         0.43093923 0.55555556\n",
      " 0.         1.        ]\n"
     ]
    }
   ],
   "source": [
    "print(\"Average recall for the 8 intervals is - \", recall_score(y_clf_test, y_clf_predicted, average = None))"
   ]
  },
  {
   "cell_type": "code",
   "execution_count": 30,
   "metadata": {},
   "outputs": [],
   "source": [
    "# boosting"
   ]
  },
  {
   "cell_type": "code",
   "execution_count": 31,
   "metadata": {},
   "outputs": [
    {
     "data": {
      "text/plain": [
       "GradientBoostingRegressor(alpha=0.9, criterion='friedman_mse', init=None,\n",
       "             learning_rate=0.01, loss='ls', max_depth=1, max_features=None,\n",
       "             max_leaf_nodes=None, min_impurity_decrease=0.0,\n",
       "             min_impurity_split=None, min_samples_leaf=1,\n",
       "             min_samples_split=2, min_weight_fraction_leaf=0.0,\n",
       "             n_estimators=1000, presort='auto', random_state=0,\n",
       "             subsample=1.0, verbose=0, warm_start=False)"
      ]
     },
     "execution_count": 31,
     "metadata": {},
     "output_type": "execute_result"
    }
   ],
   "source": [
    "clf_gb = GradientBoostingRegressor(n_estimators=1000, learning_rate=0.01, \n",
    "                                            max_depth=1, random_state=0)\n",
    "clf_gb.fit(X_clf_train, y_clf_train)"
   ]
  },
  {
   "cell_type": "code",
   "execution_count": 32,
   "metadata": {},
   "outputs": [
    {
     "name": "stdout",
     "output_type": "stream",
     "text": [
      "accuracy:\n",
      "0.2873626739943522\n"
     ]
    }
   ],
   "source": [
    "print('accuracy:')\n",
    "print(clf_gb.score(X_clf_test, y_clf_test))"
   ]
  },
  {
   "cell_type": "code",
   "execution_count": 33,
   "metadata": {},
   "outputs": [],
   "source": [
    "y_clf_predicted = clf_gb.predict(X_clf_test)\n",
    "y_clf_predicted = pd.DataFrame(y_clf_predicted)\n",
    "y_clf_predicted['cut'] = pd.cut(y_clf_predicted[0], \n",
    "                     bins=[-100, -3*std, -2*std, -std, 0, std, 2*std, 3*std, 100], \n",
    "                    labels=['-4', '-3', '-2', '-1', '+1', '+2', '+3', '+4'])"
   ]
  },
  {
   "cell_type": "code",
   "execution_count": 34,
   "metadata": {},
   "outputs": [],
   "source": [
    "# ____________"
   ]
  },
  {
   "cell_type": "code",
   "execution_count": null,
   "metadata": {},
   "outputs": [],
   "source": []
  },
  {
   "cell_type": "code",
   "execution_count": 35,
   "metadata": {},
   "outputs": [
    {
     "data": {
      "text/html": [
       "<div>\n",
       "<style scoped>\n",
       "    .dataframe tbody tr th:only-of-type {\n",
       "        vertical-align: middle;\n",
       "    }\n",
       "\n",
       "    .dataframe tbody tr th {\n",
       "        vertical-align: top;\n",
       "    }\n",
       "\n",
       "    .dataframe thead th {\n",
       "        text-align: right;\n",
       "    }\n",
       "</style>\n",
       "<table border=\"1\" class=\"dataframe\">\n",
       "  <thead>\n",
       "    <tr style=\"text-align: right;\">\n",
       "      <th></th>\n",
       "      <th>Pred -4</th>\n",
       "      <th>Pred -3</th>\n",
       "      <th>Pred -2</th>\n",
       "      <th>Pred -1</th>\n",
       "      <th>Pred +1</th>\n",
       "      <th>Pred +2</th>\n",
       "      <th>Pred +3</th>\n",
       "      <th>Pred +4</th>\n",
       "    </tr>\n",
       "  </thead>\n",
       "  <tbody>\n",
       "    <tr>\n",
       "      <th>Actual -4</th>\n",
       "      <td>0</td>\n",
       "      <td>0</td>\n",
       "      <td>7</td>\n",
       "      <td>0</td>\n",
       "      <td>0</td>\n",
       "      <td>0</td>\n",
       "      <td>0</td>\n",
       "      <td>0</td>\n",
       "    </tr>\n",
       "    <tr>\n",
       "      <th>Actual -3</th>\n",
       "      <td>0</td>\n",
       "      <td>0</td>\n",
       "      <td>0</td>\n",
       "      <td>3</td>\n",
       "      <td>1</td>\n",
       "      <td>0</td>\n",
       "      <td>0</td>\n",
       "      <td>0</td>\n",
       "    </tr>\n",
       "    <tr>\n",
       "      <th>Actual -2</th>\n",
       "      <td>0</td>\n",
       "      <td>0</td>\n",
       "      <td>0</td>\n",
       "      <td>8</td>\n",
       "      <td>1</td>\n",
       "      <td>0</td>\n",
       "      <td>0</td>\n",
       "      <td>0</td>\n",
       "    </tr>\n",
       "    <tr>\n",
       "      <th>Actual -1</th>\n",
       "      <td>0</td>\n",
       "      <td>0</td>\n",
       "      <td>0</td>\n",
       "      <td>67</td>\n",
       "      <td>114</td>\n",
       "      <td>0</td>\n",
       "      <td>0</td>\n",
       "      <td>0</td>\n",
       "    </tr>\n",
       "    <tr>\n",
       "      <th>Actual +1</th>\n",
       "      <td>0</td>\n",
       "      <td>0</td>\n",
       "      <td>0</td>\n",
       "      <td>23</td>\n",
       "      <td>182</td>\n",
       "      <td>0</td>\n",
       "      <td>0</td>\n",
       "      <td>0</td>\n",
       "    </tr>\n",
       "    <tr>\n",
       "      <th>Actual +2</th>\n",
       "      <td>0</td>\n",
       "      <td>0</td>\n",
       "      <td>0</td>\n",
       "      <td>1</td>\n",
       "      <td>12</td>\n",
       "      <td>0</td>\n",
       "      <td>0</td>\n",
       "      <td>0</td>\n",
       "    </tr>\n",
       "    <tr>\n",
       "      <th>Actual +3</th>\n",
       "      <td>0</td>\n",
       "      <td>0</td>\n",
       "      <td>0</td>\n",
       "      <td>0</td>\n",
       "      <td>2</td>\n",
       "      <td>0</td>\n",
       "      <td>0</td>\n",
       "      <td>0</td>\n",
       "    </tr>\n",
       "    <tr>\n",
       "      <th>Actual +4</th>\n",
       "      <td>0</td>\n",
       "      <td>0</td>\n",
       "      <td>0</td>\n",
       "      <td>1</td>\n",
       "      <td>5</td>\n",
       "      <td>0</td>\n",
       "      <td>0</td>\n",
       "      <td>0</td>\n",
       "    </tr>\n",
       "  </tbody>\n",
       "</table>\n",
       "</div>"
      ],
      "text/plain": [
       "           Pred -4  Pred -3  Pred -2  Pred -1  Pred +1  Pred +2  Pred +3  \\\n",
       "Actual -4        0        0        7        0        0        0        0   \n",
       "Actual -3        0        0        0        3        1        0        0   \n",
       "Actual -2        0        0        0        8        1        0        0   \n",
       "Actual -1        0        0        0       67      114        0        0   \n",
       "Actual +1        0        0        0       23      182        0        0   \n",
       "Actual +2        0        0        0        1       12        0        0   \n",
       "Actual +3        0        0        0        0        2        0        0   \n",
       "Actual +4        0        0        0        1        5        0        0   \n",
       "\n",
       "           Pred +4  \n",
       "Actual -4        0  \n",
       "Actual -3        0  \n",
       "Actual -2        0  \n",
       "Actual -1        0  \n",
       "Actual +1        0  \n",
       "Actual +2        0  \n",
       "Actual +3        0  \n",
       "Actual +4        0  "
      ]
     },
     "execution_count": 35,
     "metadata": {},
     "output_type": "execute_result"
    }
   ],
   "source": [
    "confusionmatrix = pd.DataFrame(confusion_matrix(y_clf_test, y_clf_predicted['cut'], labels=['-4', '-3', '-2', '-1', '+1', '+2', '+3', '+4']), columns\n",
    "=['Pred -4', 'Pred -3', 'Pred -2', 'Pred -1', 'Pred +1', 'Pred +2', 'Pred +3', 'Pred +4'],\n",
    "index=['Actual -4', 'Actual -3', 'Actual -2', 'Actual -1', 'Actual +1', 'Actual +2', 'Actual +3', 'Actual +4'])\n",
    "confusionmatrix"
   ]
  },
  {
   "cell_type": "code",
   "execution_count": 36,
   "metadata": {},
   "outputs": [
    {
     "name": "stdout",
     "output_type": "stream",
     "text": [
      "Average precision for the 8 intervals is -  [0.57413249 0.         0.         0.         0.65048544 0.\n",
      " 0.         0.        ]\n"
     ]
    }
   ],
   "source": [
    "print(\"Average precision for the 8 intervals is - \", precision_score(y_clf_test, y_clf_predicted['cut'], average = None))"
   ]
  },
  {
   "cell_type": "code",
   "execution_count": 37,
   "metadata": {},
   "outputs": [
    {
     "name": "stdout",
     "output_type": "stream",
     "text": [
      "Average recall for the 8 intervals is -  [0.88780488 0.         0.         0.         0.37016575 0.\n",
      " 0.         0.        ]\n"
     ]
    }
   ],
   "source": [
    "print(\"Average recall for the 8 intervals is - \", recall_score(y_clf_test, y_clf_predicted['cut'], average = None))"
   ]
  },
  {
   "cell_type": "code",
   "execution_count": 38,
   "metadata": {},
   "outputs": [],
   "source": [
    "# Adaboosting"
   ]
  },
  {
   "cell_type": "code",
   "execution_count": 39,
   "metadata": {},
   "outputs": [
    {
     "data": {
      "text/plain": [
       "AdaBoostClassifier(algorithm='SAMME', base_estimator=None, learning_rate=1,\n",
       "          n_estimators=1000, random_state=None)"
      ]
     },
     "execution_count": 39,
     "metadata": {},
     "output_type": "execute_result"
    }
   ],
   "source": [
    "clf_adab = AdaBoostClassifier(n_estimators=1000, learning_rate=1, algorithm='SAMME')\n",
    "clf_adab.fit(X_clf_train,y_clf_train)"
   ]
  },
  {
   "cell_type": "code",
   "execution_count": 40,
   "metadata": {},
   "outputs": [
    {
     "name": "stdout",
     "output_type": "stream",
     "text": [
      "accuracy:\n",
      "0.5878220140515222\n"
     ]
    }
   ],
   "source": [
    "print('accuracy:')\n",
    "print(clf_adab.score(X_clf_test, y_clf_test))"
   ]
  },
  {
   "cell_type": "code",
   "execution_count": 41,
   "metadata": {},
   "outputs": [
    {
     "data": {
      "text/html": [
       "<div>\n",
       "<style scoped>\n",
       "    .dataframe tbody tr th:only-of-type {\n",
       "        vertical-align: middle;\n",
       "    }\n",
       "\n",
       "    .dataframe tbody tr th {\n",
       "        vertical-align: top;\n",
       "    }\n",
       "\n",
       "    .dataframe thead th {\n",
       "        text-align: right;\n",
       "    }\n",
       "</style>\n",
       "<table border=\"1\" class=\"dataframe\">\n",
       "  <thead>\n",
       "    <tr style=\"text-align: right;\">\n",
       "      <th></th>\n",
       "      <th>Pred -4</th>\n",
       "      <th>Pred -3</th>\n",
       "      <th>Pred -2</th>\n",
       "      <th>Pred -1</th>\n",
       "      <th>Pred +1</th>\n",
       "      <th>Pred +2</th>\n",
       "      <th>Pred +3</th>\n",
       "      <th>Pred +4</th>\n",
       "    </tr>\n",
       "  </thead>\n",
       "  <tbody>\n",
       "    <tr>\n",
       "      <th>Actual -4</th>\n",
       "      <td>6</td>\n",
       "      <td>1</td>\n",
       "      <td>0</td>\n",
       "      <td>0</td>\n",
       "      <td>0</td>\n",
       "      <td>0</td>\n",
       "      <td>0</td>\n",
       "      <td>0</td>\n",
       "    </tr>\n",
       "    <tr>\n",
       "      <th>Actual -3</th>\n",
       "      <td>0</td>\n",
       "      <td>2</td>\n",
       "      <td>1</td>\n",
       "      <td>0</td>\n",
       "      <td>1</td>\n",
       "      <td>0</td>\n",
       "      <td>0</td>\n",
       "      <td>0</td>\n",
       "    </tr>\n",
       "    <tr>\n",
       "      <th>Actual -2</th>\n",
       "      <td>0</td>\n",
       "      <td>2</td>\n",
       "      <td>4</td>\n",
       "      <td>1</td>\n",
       "      <td>2</td>\n",
       "      <td>0</td>\n",
       "      <td>0</td>\n",
       "      <td>0</td>\n",
       "    </tr>\n",
       "    <tr>\n",
       "      <th>Actual -1</th>\n",
       "      <td>0</td>\n",
       "      <td>0</td>\n",
       "      <td>1</td>\n",
       "      <td>75</td>\n",
       "      <td>101</td>\n",
       "      <td>1</td>\n",
       "      <td>3</td>\n",
       "      <td>0</td>\n",
       "    </tr>\n",
       "    <tr>\n",
       "      <th>Actual +1</th>\n",
       "      <td>0</td>\n",
       "      <td>0</td>\n",
       "      <td>1</td>\n",
       "      <td>38</td>\n",
       "      <td>164</td>\n",
       "      <td>1</td>\n",
       "      <td>1</td>\n",
       "      <td>0</td>\n",
       "    </tr>\n",
       "    <tr>\n",
       "      <th>Actual +2</th>\n",
       "      <td>0</td>\n",
       "      <td>0</td>\n",
       "      <td>0</td>\n",
       "      <td>4</td>\n",
       "      <td>9</td>\n",
       "      <td>0</td>\n",
       "      <td>0</td>\n",
       "      <td>0</td>\n",
       "    </tr>\n",
       "    <tr>\n",
       "      <th>Actual +3</th>\n",
       "      <td>0</td>\n",
       "      <td>0</td>\n",
       "      <td>0</td>\n",
       "      <td>0</td>\n",
       "      <td>2</td>\n",
       "      <td>0</td>\n",
       "      <td>0</td>\n",
       "      <td>0</td>\n",
       "    </tr>\n",
       "    <tr>\n",
       "      <th>Actual +4</th>\n",
       "      <td>0</td>\n",
       "      <td>0</td>\n",
       "      <td>0</td>\n",
       "      <td>1</td>\n",
       "      <td>5</td>\n",
       "      <td>0</td>\n",
       "      <td>0</td>\n",
       "      <td>0</td>\n",
       "    </tr>\n",
       "  </tbody>\n",
       "</table>\n",
       "</div>"
      ],
      "text/plain": [
       "           Pred -4  Pred -3  Pred -2  Pred -1  Pred +1  Pred +2  Pred +3  \\\n",
       "Actual -4        6        1        0        0        0        0        0   \n",
       "Actual -3        0        2        1        0        1        0        0   \n",
       "Actual -2        0        2        4        1        2        0        0   \n",
       "Actual -1        0        0        1       75      101        1        3   \n",
       "Actual +1        0        0        1       38      164        1        1   \n",
       "Actual +2        0        0        0        4        9        0        0   \n",
       "Actual +3        0        0        0        0        2        0        0   \n",
       "Actual +4        0        0        0        1        5        0        0   \n",
       "\n",
       "           Pred +4  \n",
       "Actual -4        0  \n",
       "Actual -3        0  \n",
       "Actual -2        0  \n",
       "Actual -1        0  \n",
       "Actual +1        0  \n",
       "Actual +2        0  \n",
       "Actual +3        0  \n",
       "Actual +4        0  "
      ]
     },
     "execution_count": 41,
     "metadata": {},
     "output_type": "execute_result"
    }
   ],
   "source": [
    "y_clf_predicted = clf_adab.predict(X_clf_test)\n",
    "confusionmatrix = pd.DataFrame(confusion_matrix(y_clf_test, y_clf_predicted, labels=['-4', '-3', '-2', '-1', '+1', '+2', '+3', '+4']), columns\n",
    "=['Pred -4', 'Pred -3', 'Pred -2', 'Pred -1', 'Pred +1', 'Pred +2', 'Pred +3', 'Pred +4'],\n",
    "index=['Actual -4', 'Actual -3', 'Actual -2', 'Actual -1', 'Actual +1', 'Actual +2', 'Actual +3', 'Actual +4'])\n",
    "confusionmatrix"
   ]
  },
  {
   "cell_type": "code",
   "execution_count": 42,
   "metadata": {},
   "outputs": [
    {
     "name": "stdout",
     "output_type": "stream",
     "text": [
      "Average precision for the 8 intervals is -  [0.57746479 0.         0.         0.         0.6302521  0.57142857\n",
      " 0.4        1.        ]\n"
     ]
    }
   ],
   "source": [
    "print(\"Average precision for the 8 intervals is - \", precision_score(y_clf_test, y_clf_predicted, average = None))"
   ]
  },
  {
   "cell_type": "code",
   "execution_count": 43,
   "metadata": {},
   "outputs": [
    {
     "name": "stdout",
     "output_type": "stream",
     "text": [
      "Average recall for the 8 intervals is -  [0.8        0.         0.         0.         0.41436464 0.44444444\n",
      " 0.5        0.85714286]\n"
     ]
    }
   ],
   "source": [
    "print(\"Average recall for the 8 intervals is - \", recall_score(y_clf_test, y_clf_predicted, average = None))"
   ]
  },
  {
   "cell_type": "code",
   "execution_count": null,
   "metadata": {},
   "outputs": [],
   "source": []
  }
 ],
 "metadata": {
  "kernelspec": {
   "display_name": "Python 3",
   "language": "python",
   "name": "python3"
  },
  "language_info": {
   "codemirror_mode": {
    "name": "ipython",
    "version": 3
   },
   "file_extension": ".py",
   "mimetype": "text/x-python",
   "name": "python",
   "nbconvert_exporter": "python",
   "pygments_lexer": "ipython3",
   "version": "3.6.5"
  }
 },
 "nbformat": 4,
 "nbformat_minor": 2
}
