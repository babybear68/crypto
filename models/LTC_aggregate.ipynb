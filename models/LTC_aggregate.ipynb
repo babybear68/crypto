{
 "cells": [
  {
   "cell_type": "code",
   "execution_count": 1,
   "metadata": {},
   "outputs": [
    {
     "name": "stdout",
     "output_type": "stream",
     "text": [
      "Interactive namespace is empty.\n"
     ]
    }
   ],
   "source": [
    "%who"
   ]
  },
  {
   "cell_type": "code",
   "execution_count": 2,
   "metadata": {},
   "outputs": [
    {
     "name": "stderr",
     "output_type": "stream",
     "text": [
      "/Users/hanlinzhuang/anaconda3/lib/python3.6/site-packages/sklearn/ensemble/weight_boosting.py:29: DeprecationWarning: numpy.core.umath_tests is an internal NumPy module and should not be imported. It will be removed in a future NumPy release.\n",
      "  from numpy.core.umath_tests import inner1d\n"
     ]
    }
   ],
   "source": [
    "import pandas as pd\n",
    "import numpy as np\n",
    "from sklearn.linear_model import LinearRegression\n",
    "from sklearn.model_selection import cross_val_score\n",
    "from sklearn.model_selection import train_test_split\n",
    "from sklearn.metrics import mean_squared_error\n",
    "from sklearn.ensemble import RandomForestClassifier\n",
    "from sklearn.metrics import confusion_matrix\n",
    "from sklearn.ensemble import GradientBoostingRegressor\n",
    "from sklearn.ensemble import AdaBoostClassifier\n",
    "from sklearn.metrics import precision_score\n",
    "from sklearn.metrics import recall_score\n",
    "import warnings\n",
    "warnings.filterwarnings(\"ignore\")"
   ]
  },
  {
   "cell_type": "code",
   "execution_count": 3,
   "metadata": {},
   "outputs": [],
   "source": [
    "data = pd.read_csv('../raw data/new/ltc_hourly.csv')"
   ]
  },
  {
   "cell_type": "code",
   "execution_count": 4,
   "metadata": {},
   "outputs": [],
   "source": [
    "data['vol_per_count'] = data['volume_traded']/data['trades_count']\n",
    "data['roi'] = np.log(data['price_close']/data['price_close'].shift())*100\n",
    "data['price_close_lag1'] = data['price_close'].shift(1)\n",
    "data['price_close_lag2'] = data['price_close'].shift(2)\n",
    "data['price_close_lag3'] = data['price_close'].shift(3)\n",
    "data['volume_traded_lag1'] = data['volume_traded'].shift(1)\n",
    "data['trades_count_lag1'] = data['trades_count'].shift(1)\n",
    "data['vol_per_count_lag1'] = data['vol_per_count'].shift(1)\n",
    "data['roi_lag1'] = data['roi'].shift(1)\n",
    "data['roi_lag2'] = data['roi'].shift(2)\n",
    "data['roi_lag3'] = data['roi'].shift(3)"
   ]
  },
  {
   "cell_type": "code",
   "execution_count": 5,
   "metadata": {},
   "outputs": [
    {
     "data": {
      "text/plain": [
       "count    2135.000000\n",
       "mean        0.038791\n",
       "std         2.186347\n",
       "min       -13.526729\n",
       "25%        -0.685337\n",
       "50%         0.035736\n",
       "75%         0.714396\n",
       "max        14.954936\n",
       "Name: roi, dtype: float64"
      ]
     },
     "execution_count": 5,
     "metadata": {},
     "output_type": "execute_result"
    }
   ],
   "source": [
    "data['roi'].describe()"
   ]
  },
  {
   "cell_type": "code",
   "execution_count": 6,
   "metadata": {},
   "outputs": [],
   "source": [
    "std = data['roi'].std()\n",
    "data['cut'] = pd.cut(data['roi'], \n",
    "                     bins=[-100, -3*std, -2*std, -std, 0, std, 2*std, 3*std, 100], \n",
    "                    labels=['-4', '-3', '-2', '-1', '+1', '+2', '+3', '+4'])\n",
    "data['cut_lag1'] = data['cut'].shift(1)\n",
    "data['cut_lag2'] = data['cut'].shift(2)\n",
    "data['cut_lag3'] = data['cut'].shift(3)"
   ]
  },
  {
   "cell_type": "code",
   "execution_count": 7,
   "metadata": {},
   "outputs": [
    {
     "data": {
      "text/html": [
       "<div>\n",
       "<style scoped>\n",
       "    .dataframe tbody tr th:only-of-type {\n",
       "        vertical-align: middle;\n",
       "    }\n",
       "\n",
       "    .dataframe tbody tr th {\n",
       "        vertical-align: top;\n",
       "    }\n",
       "\n",
       "    .dataframe thead th {\n",
       "        text-align: right;\n",
       "    }\n",
       "</style>\n",
       "<table border=\"1\" class=\"dataframe\">\n",
       "  <thead>\n",
       "    <tr style=\"text-align: right;\">\n",
       "      <th></th>\n",
       "      <th>time_period_start</th>\n",
       "      <th>time_period_end</th>\n",
       "      <th>time_open</th>\n",
       "      <th>time_close</th>\n",
       "      <th>price_open</th>\n",
       "      <th>price_high</th>\n",
       "      <th>price_low</th>\n",
       "      <th>price_close</th>\n",
       "      <th>volume_traded</th>\n",
       "      <th>trades_count</th>\n",
       "      <th>...</th>\n",
       "      <th>volume_traded_lag1</th>\n",
       "      <th>trades_count_lag1</th>\n",
       "      <th>vol_per_count_lag1</th>\n",
       "      <th>roi_lag1</th>\n",
       "      <th>roi_lag2</th>\n",
       "      <th>roi_lag3</th>\n",
       "      <th>cut</th>\n",
       "      <th>cut_lag1</th>\n",
       "      <th>cut_lag2</th>\n",
       "      <th>cut_lag3</th>\n",
       "    </tr>\n",
       "  </thead>\n",
       "  <tbody>\n",
       "    <tr>\n",
       "      <th>0</th>\n",
       "      <td>2019-02-01T00:00:00.0000000Z</td>\n",
       "      <td>2019-02-01T01:00:00.0000000Z</td>\n",
       "      <td>2019-02-01T00:00:00.0000000Z</td>\n",
       "      <td>2019-02-01T00:59:44.0000000Z</td>\n",
       "      <td>32.049</td>\n",
       "      <td>34.338460</td>\n",
       "      <td>30.559354</td>\n",
       "      <td>32.112</td>\n",
       "      <td>11136.474940</td>\n",
       "      <td>746</td>\n",
       "      <td>...</td>\n",
       "      <td>NaN</td>\n",
       "      <td>NaN</td>\n",
       "      <td>NaN</td>\n",
       "      <td>NaN</td>\n",
       "      <td>NaN</td>\n",
       "      <td>NaN</td>\n",
       "      <td>NaN</td>\n",
       "      <td>NaN</td>\n",
       "      <td>NaN</td>\n",
       "      <td>NaN</td>\n",
       "    </tr>\n",
       "    <tr>\n",
       "      <th>1</th>\n",
       "      <td>2019-02-01T01:00:00.0000000Z</td>\n",
       "      <td>2019-02-01T02:00:00.0000000Z</td>\n",
       "      <td>2019-02-01T01:00:12.9630000Z</td>\n",
       "      <td>2019-02-01T01:59:51.7170000Z</td>\n",
       "      <td>31.236</td>\n",
       "      <td>34.338460</td>\n",
       "      <td>30.500000</td>\n",
       "      <td>30.650</td>\n",
       "      <td>42135.142120</td>\n",
       "      <td>2220</td>\n",
       "      <td>...</td>\n",
       "      <td>11136.47494</td>\n",
       "      <td>746.0</td>\n",
       "      <td>14.928251</td>\n",
       "      <td>NaN</td>\n",
       "      <td>NaN</td>\n",
       "      <td>NaN</td>\n",
       "      <td>-3</td>\n",
       "      <td>NaN</td>\n",
       "      <td>NaN</td>\n",
       "      <td>NaN</td>\n",
       "    </tr>\n",
       "    <tr>\n",
       "      <th>2</th>\n",
       "      <td>2019-02-01T02:00:00.0000000Z</td>\n",
       "      <td>2019-02-01T03:00:00.0000000Z</td>\n",
       "      <td>2019-02-01T02:00:01.0000000Z</td>\n",
       "      <td>2019-02-01T02:59:50.0000000Z</td>\n",
       "      <td>31.417</td>\n",
       "      <td>33.779000</td>\n",
       "      <td>30.000000</td>\n",
       "      <td>31.615</td>\n",
       "      <td>17561.063430</td>\n",
       "      <td>1158</td>\n",
       "      <td>...</td>\n",
       "      <td>42135.14212</td>\n",
       "      <td>2220.0</td>\n",
       "      <td>18.979794</td>\n",
       "      <td>-4.659713</td>\n",
       "      <td>NaN</td>\n",
       "      <td>NaN</td>\n",
       "      <td>+2</td>\n",
       "      <td>-3</td>\n",
       "      <td>NaN</td>\n",
       "      <td>NaN</td>\n",
       "    </tr>\n",
       "    <tr>\n",
       "      <th>3</th>\n",
       "      <td>2019-02-01T03:00:00.0000000Z</td>\n",
       "      <td>2019-02-01T04:00:00.0000000Z</td>\n",
       "      <td>2019-02-01T03:00:07.4060000Z</td>\n",
       "      <td>2019-02-01T03:59:54.0000000Z</td>\n",
       "      <td>30.820</td>\n",
       "      <td>33.866176</td>\n",
       "      <td>30.030000</td>\n",
       "      <td>30.790</td>\n",
       "      <td>11725.014970</td>\n",
       "      <td>967</td>\n",
       "      <td>...</td>\n",
       "      <td>17561.06343</td>\n",
       "      <td>1158.0</td>\n",
       "      <td>15.164994</td>\n",
       "      <td>3.099903</td>\n",
       "      <td>-4.659713</td>\n",
       "      <td>NaN</td>\n",
       "      <td>-2</td>\n",
       "      <td>+2</td>\n",
       "      <td>-3</td>\n",
       "      <td>NaN</td>\n",
       "    </tr>\n",
       "    <tr>\n",
       "      <th>4</th>\n",
       "      <td>2019-02-01T04:00:00.0000000Z</td>\n",
       "      <td>2019-02-01T05:00:00.0000000Z</td>\n",
       "      <td>2019-02-01T04:00:00.0000000Z</td>\n",
       "      <td>2019-02-01T04:59:57.5170000Z</td>\n",
       "      <td>30.780</td>\n",
       "      <td>33.915000</td>\n",
       "      <td>29.927740</td>\n",
       "      <td>30.800</td>\n",
       "      <td>6848.357303</td>\n",
       "      <td>721</td>\n",
       "      <td>...</td>\n",
       "      <td>11725.01497</td>\n",
       "      <td>967.0</td>\n",
       "      <td>12.125145</td>\n",
       "      <td>-2.644173</td>\n",
       "      <td>3.099903</td>\n",
       "      <td>-4.659713</td>\n",
       "      <td>+1</td>\n",
       "      <td>-2</td>\n",
       "      <td>+2</td>\n",
       "      <td>-3</td>\n",
       "    </tr>\n",
       "  </tbody>\n",
       "</table>\n",
       "<p>5 rows × 25 columns</p>\n",
       "</div>"
      ],
      "text/plain": [
       "              time_period_start               time_period_end  \\\n",
       "0  2019-02-01T00:00:00.0000000Z  2019-02-01T01:00:00.0000000Z   \n",
       "1  2019-02-01T01:00:00.0000000Z  2019-02-01T02:00:00.0000000Z   \n",
       "2  2019-02-01T02:00:00.0000000Z  2019-02-01T03:00:00.0000000Z   \n",
       "3  2019-02-01T03:00:00.0000000Z  2019-02-01T04:00:00.0000000Z   \n",
       "4  2019-02-01T04:00:00.0000000Z  2019-02-01T05:00:00.0000000Z   \n",
       "\n",
       "                      time_open                    time_close  price_open  \\\n",
       "0  2019-02-01T00:00:00.0000000Z  2019-02-01T00:59:44.0000000Z      32.049   \n",
       "1  2019-02-01T01:00:12.9630000Z  2019-02-01T01:59:51.7170000Z      31.236   \n",
       "2  2019-02-01T02:00:01.0000000Z  2019-02-01T02:59:50.0000000Z      31.417   \n",
       "3  2019-02-01T03:00:07.4060000Z  2019-02-01T03:59:54.0000000Z      30.820   \n",
       "4  2019-02-01T04:00:00.0000000Z  2019-02-01T04:59:57.5170000Z      30.780   \n",
       "\n",
       "   price_high  price_low  price_close  volume_traded  trades_count    ...     \\\n",
       "0   34.338460  30.559354       32.112   11136.474940           746    ...      \n",
       "1   34.338460  30.500000       30.650   42135.142120          2220    ...      \n",
       "2   33.779000  30.000000       31.615   17561.063430          1158    ...      \n",
       "3   33.866176  30.030000       30.790   11725.014970           967    ...      \n",
       "4   33.915000  29.927740       30.800    6848.357303           721    ...      \n",
       "\n",
       "   volume_traded_lag1  trades_count_lag1  vol_per_count_lag1  roi_lag1  \\\n",
       "0                 NaN                NaN                 NaN       NaN   \n",
       "1         11136.47494              746.0           14.928251       NaN   \n",
       "2         42135.14212             2220.0           18.979794 -4.659713   \n",
       "3         17561.06343             1158.0           15.164994  3.099903   \n",
       "4         11725.01497              967.0           12.125145 -2.644173   \n",
       "\n",
       "   roi_lag2  roi_lag3  cut  cut_lag1  cut_lag2  cut_lag3  \n",
       "0       NaN       NaN  NaN       NaN       NaN       NaN  \n",
       "1       NaN       NaN   -3       NaN       NaN       NaN  \n",
       "2       NaN       NaN   +2        -3       NaN       NaN  \n",
       "3 -4.659713       NaN   -2        +2        -3       NaN  \n",
       "4  3.099903 -4.659713   +1        -2        +2        -3  \n",
       "\n",
       "[5 rows x 25 columns]"
      ]
     },
     "execution_count": 7,
     "metadata": {},
     "output_type": "execute_result"
    }
   ],
   "source": [
    "data.head()"
   ]
  },
  {
   "cell_type": "code",
   "execution_count": 8,
   "metadata": {},
   "outputs": [
    {
     "data": {
      "text/plain": [
       "Index(['time_period_start', 'time_period_end', 'time_open', 'time_close',\n",
       "       'price_open', 'price_high', 'price_low', 'price_close', 'volume_traded',\n",
       "       'trades_count', 'vol_per_count', 'roi', 'price_close_lag1',\n",
       "       'price_close_lag2', 'price_close_lag3', 'volume_traded_lag1',\n",
       "       'trades_count_lag1', 'vol_per_count_lag1', 'roi_lag1', 'roi_lag2',\n",
       "       'roi_lag3', 'cut', 'cut_lag1', 'cut_lag2', 'cut_lag3'],\n",
       "      dtype='object')"
      ]
     },
     "execution_count": 8,
     "metadata": {},
     "output_type": "execute_result"
    }
   ],
   "source": [
    "data.columns"
   ]
  },
  {
   "cell_type": "code",
   "execution_count": 9,
   "metadata": {},
   "outputs": [
    {
     "data": {
      "text/html": [
       "<div>\n",
       "<style scoped>\n",
       "    .dataframe tbody tr th:only-of-type {\n",
       "        vertical-align: middle;\n",
       "    }\n",
       "\n",
       "    .dataframe tbody tr th {\n",
       "        vertical-align: top;\n",
       "    }\n",
       "\n",
       "    .dataframe thead th {\n",
       "        text-align: right;\n",
       "    }\n",
       "</style>\n",
       "<table border=\"1\" class=\"dataframe\">\n",
       "  <thead>\n",
       "    <tr style=\"text-align: right;\">\n",
       "      <th></th>\n",
       "      <th>time_period_start</th>\n",
       "      <th>time_period_end</th>\n",
       "      <th>time_open</th>\n",
       "      <th>time_close</th>\n",
       "      <th>price_open</th>\n",
       "      <th>price_high</th>\n",
       "      <th>price_low</th>\n",
       "      <th>price_close</th>\n",
       "      <th>volume_traded</th>\n",
       "      <th>trades_count</th>\n",
       "      <th>...</th>\n",
       "      <th>volume_traded_lag1</th>\n",
       "      <th>trades_count_lag1</th>\n",
       "      <th>vol_per_count_lag1</th>\n",
       "      <th>roi_lag1</th>\n",
       "      <th>roi_lag2</th>\n",
       "      <th>roi_lag3</th>\n",
       "      <th>cut</th>\n",
       "      <th>cut_lag1</th>\n",
       "      <th>cut_lag2</th>\n",
       "      <th>cut_lag3</th>\n",
       "    </tr>\n",
       "  </thead>\n",
       "  <tbody>\n",
       "    <tr>\n",
       "      <th>4</th>\n",
       "      <td>2019-02-01T04:00:00.0000000Z</td>\n",
       "      <td>2019-02-01T05:00:00.0000000Z</td>\n",
       "      <td>2019-02-01T04:00:00.0000000Z</td>\n",
       "      <td>2019-02-01T04:59:57.5170000Z</td>\n",
       "      <td>30.780</td>\n",
       "      <td>33.915000</td>\n",
       "      <td>29.927740</td>\n",
       "      <td>30.800</td>\n",
       "      <td>6848.357303</td>\n",
       "      <td>721</td>\n",
       "      <td>...</td>\n",
       "      <td>11725.014970</td>\n",
       "      <td>967.0</td>\n",
       "      <td>12.125145</td>\n",
       "      <td>-2.644173</td>\n",
       "      <td>3.099903</td>\n",
       "      <td>-4.659713</td>\n",
       "      <td>+1</td>\n",
       "      <td>-2</td>\n",
       "      <td>+2</td>\n",
       "      <td>-3</td>\n",
       "    </tr>\n",
       "    <tr>\n",
       "      <th>5</th>\n",
       "      <td>2019-02-01T05:00:00.0000000Z</td>\n",
       "      <td>2019-02-01T06:00:00.0000000Z</td>\n",
       "      <td>2019-02-01T05:00:22.3400000Z</td>\n",
       "      <td>2019-02-01T05:59:55.0000000Z</td>\n",
       "      <td>30.800</td>\n",
       "      <td>33.932000</td>\n",
       "      <td>30.580000</td>\n",
       "      <td>30.800</td>\n",
       "      <td>12514.174980</td>\n",
       "      <td>861</td>\n",
       "      <td>...</td>\n",
       "      <td>6848.357303</td>\n",
       "      <td>721.0</td>\n",
       "      <td>9.498415</td>\n",
       "      <td>0.032473</td>\n",
       "      <td>-2.644173</td>\n",
       "      <td>3.099903</td>\n",
       "      <td>-1</td>\n",
       "      <td>+1</td>\n",
       "      <td>-2</td>\n",
       "      <td>+2</td>\n",
       "    </tr>\n",
       "    <tr>\n",
       "      <th>6</th>\n",
       "      <td>2019-02-01T06:00:00.0000000Z</td>\n",
       "      <td>2019-02-01T07:00:00.0000000Z</td>\n",
       "      <td>2019-02-01T06:00:30.7000000Z</td>\n",
       "      <td>2019-02-01T06:59:44.0000000Z</td>\n",
       "      <td>30.810</td>\n",
       "      <td>33.813000</td>\n",
       "      <td>30.094184</td>\n",
       "      <td>33.626</td>\n",
       "      <td>7663.742309</td>\n",
       "      <td>616</td>\n",
       "      <td>...</td>\n",
       "      <td>12514.174980</td>\n",
       "      <td>861.0</td>\n",
       "      <td>14.534466</td>\n",
       "      <td>0.000000</td>\n",
       "      <td>0.032473</td>\n",
       "      <td>-2.644173</td>\n",
       "      <td>+4</td>\n",
       "      <td>-1</td>\n",
       "      <td>+1</td>\n",
       "      <td>-2</td>\n",
       "    </tr>\n",
       "    <tr>\n",
       "      <th>7</th>\n",
       "      <td>2019-02-01T07:00:00.0000000Z</td>\n",
       "      <td>2019-02-01T08:00:00.0000000Z</td>\n",
       "      <td>2019-02-01T07:00:12.3660000Z</td>\n",
       "      <td>2019-02-01T07:59:58.0000000Z</td>\n",
       "      <td>30.900</td>\n",
       "      <td>33.560000</td>\n",
       "      <td>30.048215</td>\n",
       "      <td>30.750</td>\n",
       "      <td>13616.153070</td>\n",
       "      <td>1230</td>\n",
       "      <td>...</td>\n",
       "      <td>7663.742309</td>\n",
       "      <td>616.0</td>\n",
       "      <td>12.441140</td>\n",
       "      <td>8.778489</td>\n",
       "      <td>0.000000</td>\n",
       "      <td>0.032473</td>\n",
       "      <td>-4</td>\n",
       "      <td>+4</td>\n",
       "      <td>-1</td>\n",
       "      <td>+1</td>\n",
       "    </tr>\n",
       "    <tr>\n",
       "      <th>8</th>\n",
       "      <td>2019-02-01T08:00:00.0000000Z</td>\n",
       "      <td>2019-02-01T09:00:00.0000000Z</td>\n",
       "      <td>2019-02-01T08:00:00.0000000Z</td>\n",
       "      <td>2019-02-01T08:59:34.0000000Z</td>\n",
       "      <td>31.575</td>\n",
       "      <td>34.067559</td>\n",
       "      <td>30.041782</td>\n",
       "      <td>31.230</td>\n",
       "      <td>40162.595770</td>\n",
       "      <td>1834</td>\n",
       "      <td>...</td>\n",
       "      <td>13616.153070</td>\n",
       "      <td>1230.0</td>\n",
       "      <td>11.070043</td>\n",
       "      <td>-8.940958</td>\n",
       "      <td>8.778489</td>\n",
       "      <td>0.000000</td>\n",
       "      <td>+1</td>\n",
       "      <td>-4</td>\n",
       "      <td>+4</td>\n",
       "      <td>-1</td>\n",
       "    </tr>\n",
       "  </tbody>\n",
       "</table>\n",
       "<p>5 rows × 25 columns</p>\n",
       "</div>"
      ],
      "text/plain": [
       "              time_period_start               time_period_end  \\\n",
       "4  2019-02-01T04:00:00.0000000Z  2019-02-01T05:00:00.0000000Z   \n",
       "5  2019-02-01T05:00:00.0000000Z  2019-02-01T06:00:00.0000000Z   \n",
       "6  2019-02-01T06:00:00.0000000Z  2019-02-01T07:00:00.0000000Z   \n",
       "7  2019-02-01T07:00:00.0000000Z  2019-02-01T08:00:00.0000000Z   \n",
       "8  2019-02-01T08:00:00.0000000Z  2019-02-01T09:00:00.0000000Z   \n",
       "\n",
       "                      time_open                    time_close  price_open  \\\n",
       "4  2019-02-01T04:00:00.0000000Z  2019-02-01T04:59:57.5170000Z      30.780   \n",
       "5  2019-02-01T05:00:22.3400000Z  2019-02-01T05:59:55.0000000Z      30.800   \n",
       "6  2019-02-01T06:00:30.7000000Z  2019-02-01T06:59:44.0000000Z      30.810   \n",
       "7  2019-02-01T07:00:12.3660000Z  2019-02-01T07:59:58.0000000Z      30.900   \n",
       "8  2019-02-01T08:00:00.0000000Z  2019-02-01T08:59:34.0000000Z      31.575   \n",
       "\n",
       "   price_high  price_low  price_close  volume_traded  trades_count    ...     \\\n",
       "4   33.915000  29.927740       30.800    6848.357303           721    ...      \n",
       "5   33.932000  30.580000       30.800   12514.174980           861    ...      \n",
       "6   33.813000  30.094184       33.626    7663.742309           616    ...      \n",
       "7   33.560000  30.048215       30.750   13616.153070          1230    ...      \n",
       "8   34.067559  30.041782       31.230   40162.595770          1834    ...      \n",
       "\n",
       "   volume_traded_lag1  trades_count_lag1  vol_per_count_lag1  roi_lag1  \\\n",
       "4        11725.014970              967.0           12.125145 -2.644173   \n",
       "5         6848.357303              721.0            9.498415  0.032473   \n",
       "6        12514.174980              861.0           14.534466  0.000000   \n",
       "7         7663.742309              616.0           12.441140  8.778489   \n",
       "8        13616.153070             1230.0           11.070043 -8.940958   \n",
       "\n",
       "   roi_lag2  roi_lag3  cut  cut_lag1  cut_lag2  cut_lag3  \n",
       "4  3.099903 -4.659713   +1        -2        +2        -3  \n",
       "5 -2.644173  3.099903   -1        +1        -2        +2  \n",
       "6  0.032473 -2.644173   +4        -1        +1        -2  \n",
       "7  0.000000  0.032473   -4        +4        -1        +1  \n",
       "8  8.778489  0.000000   +1        -4        +4        -1  \n",
       "\n",
       "[5 rows x 25 columns]"
      ]
     },
     "execution_count": 9,
     "metadata": {},
     "output_type": "execute_result"
    }
   ],
   "source": [
    "data_ = data.dropna()\n",
    "data_.head()"
   ]
  },
  {
   "cell_type": "code",
   "execution_count": 10,
   "metadata": {},
   "outputs": [],
   "source": [
    "y = data_['price_close']\n",
    "X = data_[['price_close_lag1', 'price_close_lag2', 'price_close_lag3', \n",
    "           'roi_lag1', \n",
    "           'volume_traded_lag1', 'trades_count_lag1', 'vol_per_count_lag1']]"
   ]
  },
  {
   "cell_type": "code",
   "execution_count": 11,
   "metadata": {},
   "outputs": [],
   "source": [
    "X_train, X_test, y_train, y_test = train_test_split(X, y, test_size=0.2, shuffle=False)"
   ]
  },
  {
   "cell_type": "code",
   "execution_count": 12,
   "metadata": {},
   "outputs": [],
   "source": [
    "mod_linear = LinearRegression()\n",
    "mod_linear.fit(X_train, y_train);"
   ]
  },
  {
   "cell_type": "code",
   "execution_count": 13,
   "metadata": {},
   "outputs": [
    {
     "name": "stdout",
     "output_type": "stream",
     "text": [
      "coefficients:\n",
      "price_close_lag1: 1.0285745180166912\n",
      "price_close_lag2: -0.20661345441085327\n",
      "price_close_lag3: 0.1767308899766726\n",
      "roi_lag1: -0.2429167074424031\n",
      "volume_traded_lag1: 4.684494559296752e-06\n",
      "trades_count_lag1: -8.19301267652164e-05\n",
      "vol_per_count_lag1: -0.006153773891308004\n"
     ]
    }
   ],
   "source": [
    "print('coefficients:')\n",
    "for i in range(len(X.columns)):\n",
    "    print('{}: {}'.format(X.columns[i], mod_linear.coef_[i]))"
   ]
  },
  {
   "cell_type": "code",
   "execution_count": 14,
   "metadata": {},
   "outputs": [
    {
     "name": "stdout",
     "output_type": "stream",
     "text": [
      "mse:\n",
      "1.8487064058350648\n"
     ]
    }
   ],
   "source": [
    "y_predicted = mod_linear.predict(X_test)\n",
    "print('mse:')\n",
    "print(mean_squared_error(y_test, y_predicted))"
   ]
  },
  {
   "cell_type": "code",
   "execution_count": 15,
   "metadata": {},
   "outputs": [
    {
     "name": "stdout",
     "output_type": "stream",
     "text": [
      "accuracy:\n",
      "0.9135586888745447\n"
     ]
    }
   ],
   "source": [
    "print('accuracy:')\n",
    "print(mod_linear.score(X_test, y_test))"
   ]
  },
  {
   "cell_type": "markdown",
   "metadata": {},
   "source": [
    "### clf"
   ]
  },
  {
   "cell_type": "code",
   "execution_count": 16,
   "metadata": {},
   "outputs": [],
   "source": [
    "# y_clf = data_['cut']\n",
    "# X_clf = data_[['roi_lag1', 'roi_lag2', 'roi_lag3', \n",
    "#                'price_close_lag1', \n",
    "#                'volume_traded_lag1', 'trades_count_lag1', 'vol_per_count_lag1']]"
   ]
  },
  {
   "cell_type": "code",
   "execution_count": 17,
   "metadata": {},
   "outputs": [],
   "source": [
    "y_clf = data_['cut']\n",
    "X_clf = data_[['roi_lag1',  \n",
    "               'price_close_lag1', \n",
    "               'volume_traded_lag1', 'trades_count_lag1', 'vol_per_count_lag1']]"
   ]
  },
  {
   "cell_type": "code",
   "execution_count": 18,
   "metadata": {},
   "outputs": [],
   "source": [
    "X_clf_train, X_clf_test, y_clf_train, y_clf_test = train_test_split(X_clf, y_clf, test_size=0.2, random_state=0)"
   ]
  },
  {
   "cell_type": "code",
   "execution_count": 19,
   "metadata": {},
   "outputs": [],
   "source": [
    "# random forest"
   ]
  },
  {
   "cell_type": "code",
   "execution_count": 20,
   "metadata": {},
   "outputs": [
    {
     "data": {
      "text/plain": [
       "RandomForestClassifier(bootstrap=True, class_weight=None, criterion='gini',\n",
       "            max_depth=5, max_features='auto', max_leaf_nodes=None,\n",
       "            min_impurity_decrease=0.0, min_impurity_split=None,\n",
       "            min_samples_leaf=1, min_samples_split=2,\n",
       "            min_weight_fraction_leaf=0.0, n_estimators=1000, n_jobs=1,\n",
       "            oob_score=False, random_state=0, verbose=0, warm_start=False)"
      ]
     },
     "execution_count": 20,
     "metadata": {},
     "output_type": "execute_result"
    }
   ],
   "source": [
    "clf_rf = RandomForestClassifier(n_estimators=1000, max_depth=5, bootstrap=True, random_state=0)\n",
    "clf_rf.fit(X_clf_train, y_clf_train)"
   ]
  },
  {
   "cell_type": "code",
   "execution_count": 21,
   "metadata": {},
   "outputs": [
    {
     "name": "stdout",
     "output_type": "stream",
     "text": [
      "accuracy:\n",
      "0.4238875878220141\n"
     ]
    }
   ],
   "source": [
    "print('accuracy:')\n",
    "print(clf_rf.score(X_clf_test, y_clf_test))"
   ]
  },
  {
   "cell_type": "code",
   "execution_count": 22,
   "metadata": {},
   "outputs": [
    {
     "data": {
      "text/html": [
       "<div>\n",
       "<style scoped>\n",
       "    .dataframe tbody tr th:only-of-type {\n",
       "        vertical-align: middle;\n",
       "    }\n",
       "\n",
       "    .dataframe tbody tr th {\n",
       "        vertical-align: top;\n",
       "    }\n",
       "\n",
       "    .dataframe thead th {\n",
       "        text-align: right;\n",
       "    }\n",
       "</style>\n",
       "<table border=\"1\" class=\"dataframe\">\n",
       "  <thead>\n",
       "    <tr style=\"text-align: right;\">\n",
       "      <th></th>\n",
       "      <th>Pred -4</th>\n",
       "      <th>Pred -3</th>\n",
       "      <th>Pred -2</th>\n",
       "      <th>Pred -1</th>\n",
       "      <th>Pred +1</th>\n",
       "      <th>Pred +2</th>\n",
       "      <th>Pred +3</th>\n",
       "      <th>Pred +4</th>\n",
       "    </tr>\n",
       "  </thead>\n",
       "  <tbody>\n",
       "    <tr>\n",
       "      <th>Actual -4</th>\n",
       "      <td>106</td>\n",
       "      <td>0</td>\n",
       "      <td>0</td>\n",
       "      <td>0</td>\n",
       "      <td>53</td>\n",
       "      <td>3</td>\n",
       "      <td>1</td>\n",
       "      <td>0</td>\n",
       "    </tr>\n",
       "    <tr>\n",
       "      <th>Actual -3</th>\n",
       "      <td>28</td>\n",
       "      <td>0</td>\n",
       "      <td>0</td>\n",
       "      <td>0</td>\n",
       "      <td>7</td>\n",
       "      <td>1</td>\n",
       "      <td>0</td>\n",
       "      <td>0</td>\n",
       "    </tr>\n",
       "    <tr>\n",
       "      <th>Actual -2</th>\n",
       "      <td>2</td>\n",
       "      <td>0</td>\n",
       "      <td>0</td>\n",
       "      <td>0</td>\n",
       "      <td>1</td>\n",
       "      <td>0</td>\n",
       "      <td>0</td>\n",
       "      <td>0</td>\n",
       "    </tr>\n",
       "    <tr>\n",
       "      <th>Actual -1</th>\n",
       "      <td>0</td>\n",
       "      <td>0</td>\n",
       "      <td>0</td>\n",
       "      <td>0</td>\n",
       "      <td>2</td>\n",
       "      <td>0</td>\n",
       "      <td>0</td>\n",
       "      <td>0</td>\n",
       "    </tr>\n",
       "    <tr>\n",
       "      <th>Actual +1</th>\n",
       "      <td>103</td>\n",
       "      <td>0</td>\n",
       "      <td>0</td>\n",
       "      <td>0</td>\n",
       "      <td>64</td>\n",
       "      <td>7</td>\n",
       "      <td>0</td>\n",
       "      <td>1</td>\n",
       "    </tr>\n",
       "    <tr>\n",
       "      <th>Actual +2</th>\n",
       "      <td>10</td>\n",
       "      <td>0</td>\n",
       "      <td>0</td>\n",
       "      <td>0</td>\n",
       "      <td>17</td>\n",
       "      <td>8</td>\n",
       "      <td>0</td>\n",
       "      <td>0</td>\n",
       "    </tr>\n",
       "    <tr>\n",
       "      <th>Actual +3</th>\n",
       "      <td>0</td>\n",
       "      <td>0</td>\n",
       "      <td>0</td>\n",
       "      <td>0</td>\n",
       "      <td>5</td>\n",
       "      <td>1</td>\n",
       "      <td>0</td>\n",
       "      <td>0</td>\n",
       "    </tr>\n",
       "    <tr>\n",
       "      <th>Actual +4</th>\n",
       "      <td>1</td>\n",
       "      <td>0</td>\n",
       "      <td>0</td>\n",
       "      <td>0</td>\n",
       "      <td>1</td>\n",
       "      <td>2</td>\n",
       "      <td>0</td>\n",
       "      <td>3</td>\n",
       "    </tr>\n",
       "  </tbody>\n",
       "</table>\n",
       "</div>"
      ],
      "text/plain": [
       "           Pred -4  Pred -3  Pred -2  Pred -1  Pred +1  Pred +2  Pred +3  \\\n",
       "Actual -4      106        0        0        0       53        3        1   \n",
       "Actual -3       28        0        0        0        7        1        0   \n",
       "Actual -2        2        0        0        0        1        0        0   \n",
       "Actual -1        0        0        0        0        2        0        0   \n",
       "Actual +1      103        0        0        0       64        7        0   \n",
       "Actual +2       10        0        0        0       17        8        0   \n",
       "Actual +3        0        0        0        0        5        1        0   \n",
       "Actual +4        1        0        0        0        1        2        0   \n",
       "\n",
       "           Pred +4  \n",
       "Actual -4        0  \n",
       "Actual -3        0  \n",
       "Actual -2        0  \n",
       "Actual -1        0  \n",
       "Actual +1        1  \n",
       "Actual +2        0  \n",
       "Actual +3        0  \n",
       "Actual +4        3  "
      ]
     },
     "execution_count": 22,
     "metadata": {},
     "output_type": "execute_result"
    }
   ],
   "source": [
    "y_clf_predicted = clf_rf.predict(X_clf_test)\n",
    "confusionmatrix = pd.DataFrame(confusion_matrix(y_clf_test, y_clf_predicted), columns\n",
    "=['Pred -4', 'Pred -3', 'Pred -2', 'Pred -1', 'Pred +1', 'Pred +2', 'Pred +3', 'Pred +4'],\n",
    "index=['Actual -4', 'Actual -3', 'Actual -2', 'Actual -1', 'Actual +1', 'Actual +2', 'Actual +3', 'Actual +4'])\n",
    "confusionmatrix"
   ]
  },
  {
   "cell_type": "code",
   "execution_count": 23,
   "metadata": {},
   "outputs": [
    {
     "name": "stdout",
     "output_type": "stream",
     "text": [
      "Average precision for the 8 intervals is -  [0.424      0.         0.         0.         0.42666667 0.36363636\n",
      " 0.         0.75      ]\n"
     ]
    }
   ],
   "source": [
    "print(\"Average precision for the 8 intervals is - \", precision_score(y_clf_test, y_clf_predicted, average = None))"
   ]
  },
  {
   "cell_type": "code",
   "execution_count": 24,
   "metadata": {},
   "outputs": [
    {
     "name": "stdout",
     "output_type": "stream",
     "text": [
      "Average recall for the 8 intervals is -  [0.65030675 0.         0.         0.         0.36571429 0.22857143\n",
      " 0.         0.42857143]\n"
     ]
    }
   ],
   "source": [
    "print(\"Average recall for the 8 intervals is - \", recall_score(y_clf_test, y_clf_predicted, average = None))"
   ]
  },
  {
   "cell_type": "code",
   "execution_count": 25,
   "metadata": {},
   "outputs": [],
   "source": [
    "# boosting"
   ]
  },
  {
   "cell_type": "code",
   "execution_count": 26,
   "metadata": {},
   "outputs": [
    {
     "data": {
      "text/plain": [
       "GradientBoostingRegressor(alpha=0.9, criterion='friedman_mse', init=None,\n",
       "             learning_rate=0.01, loss='ls', max_depth=1, max_features=None,\n",
       "             max_leaf_nodes=None, min_impurity_decrease=0.0,\n",
       "             min_impurity_split=None, min_samples_leaf=1,\n",
       "             min_samples_split=2, min_weight_fraction_leaf=0.0,\n",
       "             n_estimators=1000, presort='auto', random_state=0,\n",
       "             subsample=1.0, verbose=0, warm_start=False)"
      ]
     },
     "execution_count": 26,
     "metadata": {},
     "output_type": "execute_result"
    }
   ],
   "source": [
    "clf_gb = GradientBoostingRegressor(n_estimators=1000, learning_rate=0.01, \n",
    "                                            max_depth=1, random_state=0)\n",
    "clf_gb.fit(X_clf_train, y_clf_train)"
   ]
  },
  {
   "cell_type": "code",
   "execution_count": 27,
   "metadata": {},
   "outputs": [
    {
     "name": "stdout",
     "output_type": "stream",
     "text": [
      "accuracy:\n",
      "0.09860973043597676\n"
     ]
    }
   ],
   "source": [
    "print('accuracy:')\n",
    "print(clf_gb.score(X_clf_test, y_clf_test))"
   ]
  },
  {
   "cell_type": "code",
   "execution_count": 28,
   "metadata": {},
   "outputs": [],
   "source": [
    "y_clf_predicted = clf_gb.predict(X_clf_test)\n",
    "y_clf_predicted = pd.DataFrame(y_clf_predicted)\n",
    "y_clf_predicted['cut'] = pd.cut(y_clf_predicted[0], \n",
    "                     bins=[-100, -3*std, -2*std, -std, 0, std, 2*std, 3*std, 100], \n",
    "                    labels=['-4', '-3', '-2', '-1', '+1', '+2', '+3', '+4'])"
   ]
  },
  {
   "cell_type": "code",
   "execution_count": 29,
   "metadata": {},
   "outputs": [
    {
     "data": {
      "text/html": [
       "<div>\n",
       "<style scoped>\n",
       "    .dataframe tbody tr th:only-of-type {\n",
       "        vertical-align: middle;\n",
       "    }\n",
       "\n",
       "    .dataframe tbody tr th {\n",
       "        vertical-align: top;\n",
       "    }\n",
       "\n",
       "    .dataframe thead th {\n",
       "        text-align: right;\n",
       "    }\n",
       "</style>\n",
       "<table border=\"1\" class=\"dataframe\">\n",
       "  <thead>\n",
       "    <tr style=\"text-align: right;\">\n",
       "      <th></th>\n",
       "      <th>Pred -4</th>\n",
       "      <th>Pred -3</th>\n",
       "      <th>Pred -2</th>\n",
       "      <th>Pred -1</th>\n",
       "      <th>Pred +1</th>\n",
       "      <th>Pred +2</th>\n",
       "      <th>Pred +3</th>\n",
       "      <th>Pred +4</th>\n",
       "    </tr>\n",
       "  </thead>\n",
       "  <tbody>\n",
       "    <tr>\n",
       "      <th>Actual -4</th>\n",
       "      <td>135</td>\n",
       "      <td>0</td>\n",
       "      <td>0</td>\n",
       "      <td>0</td>\n",
       "      <td>28</td>\n",
       "      <td>0</td>\n",
       "      <td>0</td>\n",
       "      <td>0</td>\n",
       "    </tr>\n",
       "    <tr>\n",
       "      <th>Actual -3</th>\n",
       "      <td>30</td>\n",
       "      <td>0</td>\n",
       "      <td>0</td>\n",
       "      <td>0</td>\n",
       "      <td>6</td>\n",
       "      <td>0</td>\n",
       "      <td>0</td>\n",
       "      <td>0</td>\n",
       "    </tr>\n",
       "    <tr>\n",
       "      <th>Actual -2</th>\n",
       "      <td>2</td>\n",
       "      <td>0</td>\n",
       "      <td>0</td>\n",
       "      <td>0</td>\n",
       "      <td>1</td>\n",
       "      <td>0</td>\n",
       "      <td>0</td>\n",
       "      <td>0</td>\n",
       "    </tr>\n",
       "    <tr>\n",
       "      <th>Actual -1</th>\n",
       "      <td>1</td>\n",
       "      <td>0</td>\n",
       "      <td>0</td>\n",
       "      <td>0</td>\n",
       "      <td>1</td>\n",
       "      <td>0</td>\n",
       "      <td>0</td>\n",
       "      <td>0</td>\n",
       "    </tr>\n",
       "    <tr>\n",
       "      <th>Actual +1</th>\n",
       "      <td>125</td>\n",
       "      <td>1</td>\n",
       "      <td>0</td>\n",
       "      <td>0</td>\n",
       "      <td>48</td>\n",
       "      <td>1</td>\n",
       "      <td>0</td>\n",
       "      <td>0</td>\n",
       "    </tr>\n",
       "    <tr>\n",
       "      <th>Actual +2</th>\n",
       "      <td>13</td>\n",
       "      <td>0</td>\n",
       "      <td>0</td>\n",
       "      <td>0</td>\n",
       "      <td>22</td>\n",
       "      <td>0</td>\n",
       "      <td>0</td>\n",
       "      <td>0</td>\n",
       "    </tr>\n",
       "    <tr>\n",
       "      <th>Actual +3</th>\n",
       "      <td>1</td>\n",
       "      <td>0</td>\n",
       "      <td>0</td>\n",
       "      <td>0</td>\n",
       "      <td>4</td>\n",
       "      <td>1</td>\n",
       "      <td>0</td>\n",
       "      <td>0</td>\n",
       "    </tr>\n",
       "    <tr>\n",
       "      <th>Actual +4</th>\n",
       "      <td>1</td>\n",
       "      <td>0</td>\n",
       "      <td>0</td>\n",
       "      <td>0</td>\n",
       "      <td>3</td>\n",
       "      <td>3</td>\n",
       "      <td>0</td>\n",
       "      <td>0</td>\n",
       "    </tr>\n",
       "  </tbody>\n",
       "</table>\n",
       "</div>"
      ],
      "text/plain": [
       "           Pred -4  Pred -3  Pred -2  Pred -1  Pred +1  Pred +2  Pred +3  \\\n",
       "Actual -4      135        0        0        0       28        0        0   \n",
       "Actual -3       30        0        0        0        6        0        0   \n",
       "Actual -2        2        0        0        0        1        0        0   \n",
       "Actual -1        1        0        0        0        1        0        0   \n",
       "Actual +1      125        1        0        0       48        1        0   \n",
       "Actual +2       13        0        0        0       22        0        0   \n",
       "Actual +3        1        0        0        0        4        1        0   \n",
       "Actual +4        1        0        0        0        3        3        0   \n",
       "\n",
       "           Pred +4  \n",
       "Actual -4        0  \n",
       "Actual -3        0  \n",
       "Actual -2        0  \n",
       "Actual -1        0  \n",
       "Actual +1        0  \n",
       "Actual +2        0  \n",
       "Actual +3        0  \n",
       "Actual +4        0  "
      ]
     },
     "execution_count": 29,
     "metadata": {},
     "output_type": "execute_result"
    }
   ],
   "source": [
    "confusionmatrix = pd.DataFrame(confusion_matrix(y_clf_test, y_clf_predicted['cut']), columns\n",
    "=['Pred -4', 'Pred -3', 'Pred -2', 'Pred -1', 'Pred +1', 'Pred +2', 'Pred +3', 'Pred +4'],\n",
    "index=['Actual -4', 'Actual -3', 'Actual -2', 'Actual -1', 'Actual +1', 'Actual +2', 'Actual +3', 'Actual +4'])\n",
    "confusionmatrix"
   ]
  },
  {
   "cell_type": "code",
   "execution_count": 30,
   "metadata": {},
   "outputs": [
    {
     "name": "stdout",
     "output_type": "stream",
     "text": [
      "Average precision for the 8 intervals is -  [0.43831169 0.         0.         0.         0.42477876 0.\n",
      " 0.         0.        ]\n"
     ]
    }
   ],
   "source": [
    "print(\"Average precision for the 8 intervals is - \", precision_score(y_clf_test, y_clf_predicted['cut'], average = None))"
   ]
  },
  {
   "cell_type": "code",
   "execution_count": 31,
   "metadata": {},
   "outputs": [
    {
     "name": "stdout",
     "output_type": "stream",
     "text": [
      "Average recall for the 8 intervals is -  [0.82822086 0.         0.         0.         0.27428571 0.\n",
      " 0.         0.        ]\n"
     ]
    }
   ],
   "source": [
    "print(\"Average recall for the 8 intervals is - \", recall_score(y_clf_test, y_clf_predicted['cut'], average = None))"
   ]
  },
  {
   "cell_type": "code",
   "execution_count": 32,
   "metadata": {},
   "outputs": [],
   "source": [
    "# Adaboosting"
   ]
  },
  {
   "cell_type": "code",
   "execution_count": 33,
   "metadata": {},
   "outputs": [
    {
     "data": {
      "text/plain": [
       "AdaBoostClassifier(algorithm='SAMME', base_estimator=None, learning_rate=1,\n",
       "          n_estimators=1000, random_state=None)"
      ]
     },
     "execution_count": 33,
     "metadata": {},
     "output_type": "execute_result"
    }
   ],
   "source": [
    "clf_adab = AdaBoostClassifier(n_estimators=1000, learning_rate=1, algorithm='SAMME')\n",
    "clf_adab.fit(X_clf_train,y_clf_train)"
   ]
  },
  {
   "cell_type": "code",
   "execution_count": 34,
   "metadata": {},
   "outputs": [
    {
     "name": "stdout",
     "output_type": "stream",
     "text": [
      "accuracy:\n",
      "0.4028103044496487\n"
     ]
    }
   ],
   "source": [
    "print('accuracy:')\n",
    "print(clf_adab.score(X_clf_test, y_clf_test))"
   ]
  },
  {
   "cell_type": "code",
   "execution_count": 35,
   "metadata": {},
   "outputs": [
    {
     "data": {
      "text/html": [
       "<div>\n",
       "<style scoped>\n",
       "    .dataframe tbody tr th:only-of-type {\n",
       "        vertical-align: middle;\n",
       "    }\n",
       "\n",
       "    .dataframe tbody tr th {\n",
       "        vertical-align: top;\n",
       "    }\n",
       "\n",
       "    .dataframe thead th {\n",
       "        text-align: right;\n",
       "    }\n",
       "</style>\n",
       "<table border=\"1\" class=\"dataframe\">\n",
       "  <thead>\n",
       "    <tr style=\"text-align: right;\">\n",
       "      <th></th>\n",
       "      <th>Pred -4</th>\n",
       "      <th>Pred -3</th>\n",
       "      <th>Pred -2</th>\n",
       "      <th>Pred -1</th>\n",
       "      <th>Pred +1</th>\n",
       "      <th>Pred +2</th>\n",
       "      <th>Pred +3</th>\n",
       "      <th>Pred +4</th>\n",
       "    </tr>\n",
       "  </thead>\n",
       "  <tbody>\n",
       "    <tr>\n",
       "      <th>Actual -4</th>\n",
       "      <td>91</td>\n",
       "      <td>1</td>\n",
       "      <td>6</td>\n",
       "      <td>1</td>\n",
       "      <td>53</td>\n",
       "      <td>3</td>\n",
       "      <td>8</td>\n",
       "      <td>0</td>\n",
       "    </tr>\n",
       "    <tr>\n",
       "      <th>Actual -3</th>\n",
       "      <td>20</td>\n",
       "      <td>1</td>\n",
       "      <td>4</td>\n",
       "      <td>1</td>\n",
       "      <td>7</td>\n",
       "      <td>2</td>\n",
       "      <td>1</td>\n",
       "      <td>0</td>\n",
       "    </tr>\n",
       "    <tr>\n",
       "      <th>Actual -2</th>\n",
       "      <td>2</td>\n",
       "      <td>0</td>\n",
       "      <td>0</td>\n",
       "      <td>0</td>\n",
       "      <td>0</td>\n",
       "      <td>0</td>\n",
       "      <td>1</td>\n",
       "      <td>0</td>\n",
       "    </tr>\n",
       "    <tr>\n",
       "      <th>Actual -1</th>\n",
       "      <td>0</td>\n",
       "      <td>0</td>\n",
       "      <td>0</td>\n",
       "      <td>0</td>\n",
       "      <td>2</td>\n",
       "      <td>0</td>\n",
       "      <td>0</td>\n",
       "      <td>0</td>\n",
       "    </tr>\n",
       "    <tr>\n",
       "      <th>Actual +1</th>\n",
       "      <td>78</td>\n",
       "      <td>0</td>\n",
       "      <td>7</td>\n",
       "      <td>3</td>\n",
       "      <td>72</td>\n",
       "      <td>6</td>\n",
       "      <td>9</td>\n",
       "      <td>0</td>\n",
       "    </tr>\n",
       "    <tr>\n",
       "      <th>Actual +2</th>\n",
       "      <td>11</td>\n",
       "      <td>0</td>\n",
       "      <td>0</td>\n",
       "      <td>0</td>\n",
       "      <td>14</td>\n",
       "      <td>7</td>\n",
       "      <td>3</td>\n",
       "      <td>0</td>\n",
       "    </tr>\n",
       "    <tr>\n",
       "      <th>Actual +3</th>\n",
       "      <td>1</td>\n",
       "      <td>0</td>\n",
       "      <td>0</td>\n",
       "      <td>1</td>\n",
       "      <td>0</td>\n",
       "      <td>2</td>\n",
       "      <td>1</td>\n",
       "      <td>1</td>\n",
       "    </tr>\n",
       "    <tr>\n",
       "      <th>Actual +4</th>\n",
       "      <td>1</td>\n",
       "      <td>0</td>\n",
       "      <td>0</td>\n",
       "      <td>0</td>\n",
       "      <td>3</td>\n",
       "      <td>3</td>\n",
       "      <td>0</td>\n",
       "      <td>0</td>\n",
       "    </tr>\n",
       "  </tbody>\n",
       "</table>\n",
       "</div>"
      ],
      "text/plain": [
       "           Pred -4  Pred -3  Pred -2  Pred -1  Pred +1  Pred +2  Pred +3  \\\n",
       "Actual -4       91        1        6        1       53        3        8   \n",
       "Actual -3       20        1        4        1        7        2        1   \n",
       "Actual -2        2        0        0        0        0        0        1   \n",
       "Actual -1        0        0        0        0        2        0        0   \n",
       "Actual +1       78        0        7        3       72        6        9   \n",
       "Actual +2       11        0        0        0       14        7        3   \n",
       "Actual +3        1        0        0        1        0        2        1   \n",
       "Actual +4        1        0        0        0        3        3        0   \n",
       "\n",
       "           Pred +4  \n",
       "Actual -4        0  \n",
       "Actual -3        0  \n",
       "Actual -2        0  \n",
       "Actual -1        0  \n",
       "Actual +1        0  \n",
       "Actual +2        0  \n",
       "Actual +3        1  \n",
       "Actual +4        0  "
      ]
     },
     "execution_count": 35,
     "metadata": {},
     "output_type": "execute_result"
    }
   ],
   "source": [
    "y_clf_predicted = clf_adab.predict(X_clf_test)\n",
    "confusionmatrix = pd.DataFrame(confusion_matrix(y_clf_test, y_clf_predicted), columns\n",
    "=['Pred -4', 'Pred -3', 'Pred -2', 'Pred -1', 'Pred +1', 'Pred +2', 'Pred +3', 'Pred +4'],\n",
    "index=['Actual -4', 'Actual -3', 'Actual -2', 'Actual -1', 'Actual +1', 'Actual +2', 'Actual +3', 'Actual +4'])\n",
    "confusionmatrix"
   ]
  },
  {
   "cell_type": "code",
   "execution_count": 36,
   "metadata": {},
   "outputs": [
    {
     "name": "stdout",
     "output_type": "stream",
     "text": [
      "Average precision for the 8 intervals is -  [0.44607843 0.5        0.         0.         0.47682119 0.30434783\n",
      " 0.04347826 0.        ]\n"
     ]
    }
   ],
   "source": [
    "print(\"Average precision for the 8 intervals is - \", precision_score(y_clf_test, y_clf_predicted, average = None))"
   ]
  },
  {
   "cell_type": "code",
   "execution_count": 37,
   "metadata": {},
   "outputs": [
    {
     "name": "stdout",
     "output_type": "stream",
     "text": [
      "Average recall for the 8 intervals is -  [0.55828221 0.02777778 0.         0.         0.41142857 0.2\n",
      " 0.16666667 0.        ]\n"
     ]
    }
   ],
   "source": [
    "print(\"Average recall for the 8 intervals is - \", recall_score(y_clf_test, y_clf_predicted, average = None))"
   ]
  },
  {
   "cell_type": "code",
   "execution_count": null,
   "metadata": {},
   "outputs": [],
   "source": []
  }
 ],
 "metadata": {
  "kernelspec": {
   "display_name": "Python 3",
   "language": "python",
   "name": "python3"
  },
  "language_info": {
   "codemirror_mode": {
    "name": "ipython",
    "version": 3
   },
   "file_extension": ".py",
   "mimetype": "text/x-python",
   "name": "python",
   "nbconvert_exporter": "python",
   "pygments_lexer": "ipython3",
   "version": "3.6.5"
  }
 },
 "nbformat": 4,
 "nbformat_minor": 2
}
