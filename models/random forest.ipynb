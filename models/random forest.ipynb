{
 "cells": [
  {
   "cell_type": "markdown",
   "metadata": {},
   "source": [
    "### The random forest in btc_aggregate outperforms this one"
   ]
  },
  {
   "cell_type": "code",
   "execution_count": 1,
   "metadata": {},
   "outputs": [
    {
     "name": "stdout",
     "output_type": "stream",
     "text": [
      "Interactive namespace is empty.\n"
     ]
    }
   ],
   "source": [
    "%who"
   ]
  },
  {
   "cell_type": "code",
   "execution_count": 2,
   "metadata": {},
   "outputs": [
    {
     "name": "stderr",
     "output_type": "stream",
     "text": [
      "/Users/hanlinzhuang/anaconda3/lib/python3.6/site-packages/sklearn/ensemble/weight_boosting.py:29: DeprecationWarning: numpy.core.umath_tests is an internal NumPy module and should not be imported. It will be removed in a future NumPy release.\n",
      "  from numpy.core.umath_tests import inner1d\n"
     ]
    }
   ],
   "source": [
    "import pandas as pd\n",
    "import numpy as np\n",
    "from sklearn.linear_model import LinearRegression\n",
    "from sklearn.model_selection import cross_val_score\n",
    "from sklearn.model_selection import train_test_split\n",
    "from sklearn.metrics import mean_squared_error\n",
    "from sklearn.ensemble import RandomForestClassifier\n",
    "from sklearn.metrics import confusion_matrix\n",
    "from sklearn.ensemble import GradientBoostingRegressor\n",
    "from sklearn.ensemble import AdaBoostClassifier\n",
    "from sklearn.metrics import precision_score\n",
    "from sklearn.metrics import recall_score\n",
    "import warnings\n",
    "warnings.filterwarnings(\"ignore\")"
   ]
  },
  {
   "cell_type": "code",
   "execution_count": 3,
   "metadata": {},
   "outputs": [],
   "source": [
    "data = pd.read_csv('../raw data/new/btc_hourly_ma.csv')"
   ]
  },
  {
   "cell_type": "code",
   "execution_count": 4,
   "metadata": {},
   "outputs": [],
   "source": [
    "data['vol_per_count'] = data['volume_traded']/data['trades_count']"
   ]
  },
  {
   "cell_type": "code",
   "execution_count": 5,
   "metadata": {},
   "outputs": [],
   "source": [
    "data['roi'] = np.log(data['price_close']/data['price_close'].shift(1))\n",
    "data['roi_lag1'] = data['roi'].shift(1)"
   ]
  },
  {
   "cell_type": "code",
   "execution_count": 6,
   "metadata": {},
   "outputs": [],
   "source": [
    "data['price_close_lag1'] = data['price_close'].shift(1)"
   ]
  },
  {
   "cell_type": "code",
   "execution_count": 7,
   "metadata": {},
   "outputs": [],
   "source": [
    "data['volume_traded_lag1'] = data['volume_traded'].shift(1)\n",
    "data['trades_count_lag1'] = data['trades_count'].shift(1)\n",
    "data['vol_per_count_lag1'] = data['vol_per_count'].shift(1)"
   ]
  },
  {
   "cell_type": "code",
   "execution_count": 8,
   "metadata": {},
   "outputs": [],
   "source": [
    "data['Label MA_lag1'] = data['Label MA'].shift(1)\n",
    "data['Label MA_lag2'] = data['Label MA'].shift(2)\n",
    "data['Label MA_lag3'] = data['Label MA'].shift(3)"
   ]
  },
  {
   "cell_type": "code",
   "execution_count": 9,
   "metadata": {},
   "outputs": [],
   "source": [
    "label = ['-4', '-3', '-2', '-1', '+1', '+2', '+3', '+4']\n",
    "std = data['roi'].std()\n",
    "mean = np.mean(data['roi'])\n",
    "data['cut'] = pd.cut(data['roi'], \n",
    "                     bins=[-100, -3*std, -2*std, -std, mean, std, 2*std, 3*std, 100], \n",
    "                    labels=label)\n",
    "data['cut_lag1'] = data['cut'].shift(1)\n",
    "data['cut_lag2'] = data['cut'].shift(2)\n",
    "data['cut_lag3'] = data['cut'].shift(3)"
   ]
  },
  {
   "cell_type": "code",
   "execution_count": 10,
   "metadata": {},
   "outputs": [
    {
     "data": {
      "text/plain": [
       "Index(['Unnamed: 0', 'time_period_start', 'time_period_end', 'time_open',\n",
       "       'time_close', 'price_open', 'price_high', 'price_low', 'price_close',\n",
       "       'volume_traded', 'trades_count', 'Interval', 'Label MA',\n",
       "       'vol_per_count', 'roi', 'roi_lag1', 'price_close_lag1',\n",
       "       'volume_traded_lag1', 'trades_count_lag1', 'vol_per_count_lag1',\n",
       "       'Label MA_lag1', 'Label MA_lag2', 'Label MA_lag3', 'cut', 'cut_lag1',\n",
       "       'cut_lag2', 'cut_lag3'],\n",
       "      dtype='object')"
      ]
     },
     "execution_count": 10,
     "metadata": {},
     "output_type": "execute_result"
    }
   ],
   "source": [
    "data.columns"
   ]
  },
  {
   "cell_type": "code",
   "execution_count": 11,
   "metadata": {},
   "outputs": [
    {
     "data": {
      "text/html": [
       "<div>\n",
       "<style scoped>\n",
       "    .dataframe tbody tr th:only-of-type {\n",
       "        vertical-align: middle;\n",
       "    }\n",
       "\n",
       "    .dataframe tbody tr th {\n",
       "        vertical-align: top;\n",
       "    }\n",
       "\n",
       "    .dataframe thead th {\n",
       "        text-align: right;\n",
       "    }\n",
       "</style>\n",
       "<table border=\"1\" class=\"dataframe\">\n",
       "  <thead>\n",
       "    <tr style=\"text-align: right;\">\n",
       "      <th></th>\n",
       "      <th>Unnamed: 0</th>\n",
       "      <th>time_period_start</th>\n",
       "      <th>time_period_end</th>\n",
       "      <th>time_open</th>\n",
       "      <th>time_close</th>\n",
       "      <th>price_open</th>\n",
       "      <th>price_high</th>\n",
       "      <th>price_low</th>\n",
       "      <th>price_close</th>\n",
       "      <th>volume_traded</th>\n",
       "      <th>...</th>\n",
       "      <th>volume_traded_lag1</th>\n",
       "      <th>trades_count_lag1</th>\n",
       "      <th>vol_per_count_lag1</th>\n",
       "      <th>Label MA_lag1</th>\n",
       "      <th>Label MA_lag2</th>\n",
       "      <th>Label MA_lag3</th>\n",
       "      <th>cut</th>\n",
       "      <th>cut_lag1</th>\n",
       "      <th>cut_lag2</th>\n",
       "      <th>cut_lag3</th>\n",
       "    </tr>\n",
       "  </thead>\n",
       "  <tbody>\n",
       "    <tr>\n",
       "      <th>147</th>\n",
       "      <td>147</td>\n",
       "      <td>2019-04-07 03:00:00.000</td>\n",
       "      <td>2019-04-07 04:00:00.000</td>\n",
       "      <td>2019-04-07 03:00:00.000</td>\n",
       "      <td>2019-04-07 03:59:59.984</td>\n",
       "      <td>5180.80</td>\n",
       "      <td>5748.51</td>\n",
       "      <td>5055.740696</td>\n",
       "      <td>5127.250000</td>\n",
       "      <td>4051.892976</td>\n",
       "      <td>...</td>\n",
       "      <td>3509.715085</td>\n",
       "      <td>7052.0</td>\n",
       "      <td>0.497691</td>\n",
       "      <td>3.750000</td>\n",
       "      <td>3.500000</td>\n",
       "      <td>4.000</td>\n",
       "      <td>-1</td>\n",
       "      <td>+2</td>\n",
       "      <td>-1</td>\n",
       "      <td>+1</td>\n",
       "    </tr>\n",
       "    <tr>\n",
       "      <th>148</th>\n",
       "      <td>148</td>\n",
       "      <td>2019-04-07 04:00:00.000</td>\n",
       "      <td>2019-04-07 05:00:00.000</td>\n",
       "      <td>2019-04-07 04:00:00.000</td>\n",
       "      <td>2019-04-07 04:59:59.979</td>\n",
       "      <td>5191.40</td>\n",
       "      <td>5742.23</td>\n",
       "      <td>5070.435963</td>\n",
       "      <td>5140.010000</td>\n",
       "      <td>2599.910887</td>\n",
       "      <td>...</td>\n",
       "      <td>4051.892976</td>\n",
       "      <td>8414.0</td>\n",
       "      <td>0.481566</td>\n",
       "      <td>3.400000</td>\n",
       "      <td>3.750000</td>\n",
       "      <td>3.500</td>\n",
       "      <td>+1</td>\n",
       "      <td>-1</td>\n",
       "      <td>+2</td>\n",
       "      <td>-1</td>\n",
       "    </tr>\n",
       "    <tr>\n",
       "      <th>149</th>\n",
       "      <td>149</td>\n",
       "      <td>2019-04-07 05:00:00.000</td>\n",
       "      <td>2019-04-07 06:00:00.000</td>\n",
       "      <td>2019-04-07 05:00:00.000</td>\n",
       "      <td>2019-04-07 05:59:59.000</td>\n",
       "      <td>5132.38</td>\n",
       "      <td>5726.97</td>\n",
       "      <td>4979.000000</td>\n",
       "      <td>5159.333672</td>\n",
       "      <td>2242.920435</td>\n",
       "      <td>...</td>\n",
       "      <td>2599.910887</td>\n",
       "      <td>6791.0</td>\n",
       "      <td>0.382847</td>\n",
       "      <td>3.375000</td>\n",
       "      <td>3.400000</td>\n",
       "      <td>3.750</td>\n",
       "      <td>+1</td>\n",
       "      <td>+1</td>\n",
       "      <td>-1</td>\n",
       "      <td>+2</td>\n",
       "    </tr>\n",
       "    <tr>\n",
       "      <th>150</th>\n",
       "      <td>150</td>\n",
       "      <td>2019-04-07 06:00:00.000</td>\n",
       "      <td>2019-04-07 07:00:00.000</td>\n",
       "      <td>2019-04-07 06:00:01.000</td>\n",
       "      <td>2019-04-07 06:59:59.000</td>\n",
       "      <td>5097.71</td>\n",
       "      <td>5714.68</td>\n",
       "      <td>5062.200010</td>\n",
       "      <td>5206.900000</td>\n",
       "      <td>1960.501063</td>\n",
       "      <td>...</td>\n",
       "      <td>2242.920435</td>\n",
       "      <td>7327.0</td>\n",
       "      <td>0.306117</td>\n",
       "      <td>3.454545</td>\n",
       "      <td>3.375000</td>\n",
       "      <td>3.400</td>\n",
       "      <td>+1</td>\n",
       "      <td>+1</td>\n",
       "      <td>+1</td>\n",
       "      <td>-1</td>\n",
       "    </tr>\n",
       "    <tr>\n",
       "      <th>151</th>\n",
       "      <td>151</td>\n",
       "      <td>2019-04-07 07:00:00.000</td>\n",
       "      <td>2019-04-07 08:00:00.000</td>\n",
       "      <td>2019-04-07 07:00:00.495</td>\n",
       "      <td>2019-04-07 07:59:59.000</td>\n",
       "      <td>5131.24</td>\n",
       "      <td>5736.16</td>\n",
       "      <td>5068.740000</td>\n",
       "      <td>5365.645307</td>\n",
       "      <td>2379.030114</td>\n",
       "      <td>...</td>\n",
       "      <td>1960.501063</td>\n",
       "      <td>5733.0</td>\n",
       "      <td>0.341968</td>\n",
       "      <td>3.416667</td>\n",
       "      <td>3.454545</td>\n",
       "      <td>3.375</td>\n",
       "      <td>+2</td>\n",
       "      <td>+1</td>\n",
       "      <td>+1</td>\n",
       "      <td>+1</td>\n",
       "    </tr>\n",
       "  </tbody>\n",
       "</table>\n",
       "<p>5 rows × 27 columns</p>\n",
       "</div>"
      ],
      "text/plain": [
       "     Unnamed: 0        time_period_start          time_period_end  \\\n",
       "147         147  2019-04-07 03:00:00.000  2019-04-07 04:00:00.000   \n",
       "148         148  2019-04-07 04:00:00.000  2019-04-07 05:00:00.000   \n",
       "149         149  2019-04-07 05:00:00.000  2019-04-07 06:00:00.000   \n",
       "150         150  2019-04-07 06:00:00.000  2019-04-07 07:00:00.000   \n",
       "151         151  2019-04-07 07:00:00.000  2019-04-07 08:00:00.000   \n",
       "\n",
       "                   time_open               time_close  price_open  price_high  \\\n",
       "147  2019-04-07 03:00:00.000  2019-04-07 03:59:59.984     5180.80     5748.51   \n",
       "148  2019-04-07 04:00:00.000  2019-04-07 04:59:59.979     5191.40     5742.23   \n",
       "149  2019-04-07 05:00:00.000  2019-04-07 05:59:59.000     5132.38     5726.97   \n",
       "150  2019-04-07 06:00:01.000  2019-04-07 06:59:59.000     5097.71     5714.68   \n",
       "151  2019-04-07 07:00:00.495  2019-04-07 07:59:59.000     5131.24     5736.16   \n",
       "\n",
       "       price_low  price_close  volume_traded    ...     volume_traded_lag1  \\\n",
       "147  5055.740696  5127.250000    4051.892976    ...            3509.715085   \n",
       "148  5070.435963  5140.010000    2599.910887    ...            4051.892976   \n",
       "149  4979.000000  5159.333672    2242.920435    ...            2599.910887   \n",
       "150  5062.200010  5206.900000    1960.501063    ...            2242.920435   \n",
       "151  5068.740000  5365.645307    2379.030114    ...            1960.501063   \n",
       "\n",
       "     trades_count_lag1  vol_per_count_lag1  Label MA_lag1  Label MA_lag2  \\\n",
       "147             7052.0            0.497691       3.750000       3.500000   \n",
       "148             8414.0            0.481566       3.400000       3.750000   \n",
       "149             6791.0            0.382847       3.375000       3.400000   \n",
       "150             7327.0            0.306117       3.454545       3.375000   \n",
       "151             5733.0            0.341968       3.416667       3.454545   \n",
       "\n",
       "     Label MA_lag3  cut  cut_lag1  cut_lag2  cut_lag3  \n",
       "147          4.000   -1        +2        -1        +1  \n",
       "148          3.500   +1        -1        +2        -1  \n",
       "149          3.750   +1        +1        -1        +2  \n",
       "150          3.400   +1        +1        +1        -1  \n",
       "151          3.375   +2        +1        +1        +1  \n",
       "\n",
       "[5 rows x 27 columns]"
      ]
     },
     "execution_count": 11,
     "metadata": {},
     "output_type": "execute_result"
    }
   ],
   "source": [
    "data_ = data.dropna()\n",
    "data_.head()"
   ]
  },
  {
   "cell_type": "code",
   "execution_count": 12,
   "metadata": {},
   "outputs": [
    {
     "data": {
      "text/plain": [
       "cut\n",
       "-4     13\n",
       "-3     11\n",
       "-2     16\n",
       "-1    243\n",
       "+1    246\n",
       "+2     22\n",
       "+3     10\n",
       "+4     12\n",
       "Name: cut, dtype: int64"
      ]
     },
     "execution_count": 12,
     "metadata": {},
     "output_type": "execute_result"
    }
   ],
   "source": [
    "data_['cut'].groupby(data_['cut']).count()"
   ]
  },
  {
   "cell_type": "code",
   "execution_count": 13,
   "metadata": {},
   "outputs": [
    {
     "data": {
      "text/plain": [
       "(573, 27)"
      ]
     },
     "execution_count": 13,
     "metadata": {},
     "output_type": "execute_result"
    }
   ],
   "source": [
    "data_.shape"
   ]
  },
  {
   "cell_type": "code",
   "execution_count": 14,
   "metadata": {},
   "outputs": [],
   "source": [
    "y = data_['cut']\n",
    "X = data_[['cut_lag1', 'cut_lag2', 'cut_lag3',\n",
    "           'Label MA_lag1', 'Label MA_lag1', 'Label MA_lag1',\n",
    "           'price_close_lag1', \n",
    "           'volume_traded_lag1', 'trades_count_lag1', 'vol_per_count_lag1']]"
   ]
  },
  {
   "cell_type": "code",
   "execution_count": 15,
   "metadata": {},
   "outputs": [],
   "source": [
    "from sklearn.preprocessing import StandardScaler"
   ]
  },
  {
   "cell_type": "code",
   "execution_count": 16,
   "metadata": {},
   "outputs": [],
   "source": [
    "for i in X.columns.tolist()[-4:]:\n",
    "    X[i] = StandardScaler().fit_transform(X[i].values.reshape(-1, 1))"
   ]
  },
  {
   "cell_type": "code",
   "execution_count": null,
   "metadata": {},
   "outputs": [],
   "source": []
  },
  {
   "cell_type": "code",
   "execution_count": 17,
   "metadata": {},
   "outputs": [
    {
     "data": {
      "text/html": [
       "<div>\n",
       "<style scoped>\n",
       "    .dataframe tbody tr th:only-of-type {\n",
       "        vertical-align: middle;\n",
       "    }\n",
       "\n",
       "    .dataframe tbody tr th {\n",
       "        vertical-align: top;\n",
       "    }\n",
       "\n",
       "    .dataframe thead th {\n",
       "        text-align: right;\n",
       "    }\n",
       "</style>\n",
       "<table border=\"1\" class=\"dataframe\">\n",
       "  <thead>\n",
       "    <tr style=\"text-align: right;\">\n",
       "      <th></th>\n",
       "      <th>cut_lag1</th>\n",
       "      <th>cut_lag2</th>\n",
       "      <th>cut_lag3</th>\n",
       "      <th>Label MA_lag1</th>\n",
       "      <th>Label MA_lag1</th>\n",
       "      <th>Label MA_lag1</th>\n",
       "      <th>price_close_lag1</th>\n",
       "      <th>volume_traded_lag1</th>\n",
       "      <th>trades_count_lag1</th>\n",
       "      <th>vol_per_count_lag1</th>\n",
       "    </tr>\n",
       "  </thead>\n",
       "  <tbody>\n",
       "    <tr>\n",
       "      <th>147</th>\n",
       "      <td>+2</td>\n",
       "      <td>-1</td>\n",
       "      <td>+1</td>\n",
       "      <td>3.750000</td>\n",
       "      <td>3.750000</td>\n",
       "      <td>3.750000</td>\n",
       "      <td>-0.464042</td>\n",
       "      <td>-0.145598</td>\n",
       "      <td>-0.140615</td>\n",
       "      <td>-0.083190</td>\n",
       "    </tr>\n",
       "    <tr>\n",
       "      <th>148</th>\n",
       "      <td>-1</td>\n",
       "      <td>+2</td>\n",
       "      <td>-1</td>\n",
       "      <td>3.400000</td>\n",
       "      <td>3.400000</td>\n",
       "      <td>3.400000</td>\n",
       "      <td>-0.789125</td>\n",
       "      <td>0.061142</td>\n",
       "      <td>0.140226</td>\n",
       "      <td>-0.247015</td>\n",
       "    </tr>\n",
       "    <tr>\n",
       "      <th>149</th>\n",
       "      <td>+1</td>\n",
       "      <td>-1</td>\n",
       "      <td>+2</td>\n",
       "      <td>3.375000</td>\n",
       "      <td>3.375000</td>\n",
       "      <td>3.375000</td>\n",
       "      <td>-0.711373</td>\n",
       "      <td>-0.492519</td>\n",
       "      <td>-0.194433</td>\n",
       "      <td>-1.249960</td>\n",
       "    </tr>\n",
       "    <tr>\n",
       "      <th>150</th>\n",
       "      <td>+1</td>\n",
       "      <td>+1</td>\n",
       "      <td>-1</td>\n",
       "      <td>3.454545</td>\n",
       "      <td>3.454545</td>\n",
       "      <td>3.454545</td>\n",
       "      <td>-0.593626</td>\n",
       "      <td>-0.628644</td>\n",
       "      <td>-0.083911</td>\n",
       "      <td>-2.029499</td>\n",
       "    </tr>\n",
       "    <tr>\n",
       "      <th>151</th>\n",
       "      <td>+1</td>\n",
       "      <td>+1</td>\n",
       "      <td>+1</td>\n",
       "      <td>3.416667</td>\n",
       "      <td>3.416667</td>\n",
       "      <td>3.416667</td>\n",
       "      <td>-0.303785</td>\n",
       "      <td>-0.736334</td>\n",
       "      <td>-0.412589</td>\n",
       "      <td>-1.665272</td>\n",
       "    </tr>\n",
       "  </tbody>\n",
       "</table>\n",
       "</div>"
      ],
      "text/plain": [
       "    cut_lag1 cut_lag2 cut_lag3  Label MA_lag1  Label MA_lag1  Label MA_lag1  \\\n",
       "147       +2       -1       +1       3.750000       3.750000       3.750000   \n",
       "148       -1       +2       -1       3.400000       3.400000       3.400000   \n",
       "149       +1       -1       +2       3.375000       3.375000       3.375000   \n",
       "150       +1       +1       -1       3.454545       3.454545       3.454545   \n",
       "151       +1       +1       +1       3.416667       3.416667       3.416667   \n",
       "\n",
       "     price_close_lag1  volume_traded_lag1  trades_count_lag1  \\\n",
       "147         -0.464042           -0.145598          -0.140615   \n",
       "148         -0.789125            0.061142           0.140226   \n",
       "149         -0.711373           -0.492519          -0.194433   \n",
       "150         -0.593626           -0.628644          -0.083911   \n",
       "151         -0.303785           -0.736334          -0.412589   \n",
       "\n",
       "     vol_per_count_lag1  \n",
       "147           -0.083190  \n",
       "148           -0.247015  \n",
       "149           -1.249960  \n",
       "150           -2.029499  \n",
       "151           -1.665272  "
      ]
     },
     "execution_count": 17,
     "metadata": {},
     "output_type": "execute_result"
    }
   ],
   "source": [
    "X.head()"
   ]
  },
  {
   "cell_type": "code",
   "execution_count": 18,
   "metadata": {},
   "outputs": [],
   "source": [
    "X_train, X_test, y_train, y_test = train_test_split(X, y, test_size=0.2, random_state=0)"
   ]
  },
  {
   "cell_type": "code",
   "execution_count": 19,
   "metadata": {},
   "outputs": [],
   "source": [
    "# random forest"
   ]
  },
  {
   "cell_type": "code",
   "execution_count": 20,
   "metadata": {},
   "outputs": [
    {
     "data": {
      "text/plain": [
       "RandomForestClassifier(bootstrap=True, class_weight=None, criterion='gini',\n",
       "            max_depth=4, max_features='auto', max_leaf_nodes=None,\n",
       "            min_impurity_decrease=0.0, min_impurity_split=None,\n",
       "            min_samples_leaf=1, min_samples_split=2,\n",
       "            min_weight_fraction_leaf=0.0, n_estimators=1000, n_jobs=1,\n",
       "            oob_score=False, random_state=0, verbose=0, warm_start=False)"
      ]
     },
     "execution_count": 20,
     "metadata": {},
     "output_type": "execute_result"
    }
   ],
   "source": [
    "clf_rf = RandomForestClassifier(n_estimators=1000, max_depth=4, bootstrap=True, random_state=0)\n",
    "clf_rf.fit(X_train, y_train)"
   ]
  },
  {
   "cell_type": "code",
   "execution_count": 21,
   "metadata": {},
   "outputs": [
    {
     "name": "stdout",
     "output_type": "stream",
     "text": [
      "accuracy:\n",
      "0.5565217391304348\n"
     ]
    }
   ],
   "source": [
    "print('accuracy:')\n",
    "print(clf_rf.score(X_test, y_test))"
   ]
  },
  {
   "cell_type": "code",
   "execution_count": 22,
   "metadata": {},
   "outputs": [
    {
     "data": {
      "text/plain": [
       "array(['+1', '-1', '+1', '-1', '-1', '-1', '+1', '+1', '+1', '+1', '-1',\n",
       "       '+1', '+1', '+1', '-2', '-1', '+1', '+1', '-1', '-2', '+1', '+1',\n",
       "       '+1', '+1', '-1', '+1', '-1', '-1', '-1', '-1', '+1', '-1', '-1',\n",
       "       '+1', '+1', '+1', '+1', '+1', '+1', '+1', '-1', '+1', '-1', '-1',\n",
       "       '+1', '-1', '-1', '+1', '-1', '+1', '+1', '-1', '-1', '+1', '-1',\n",
       "       '+1', '-1', '+1', '-1', '-1', '-1', '-1', '-1', '-1', '-1', '+1',\n",
       "       '-1', '-1', '+1', '-1', '-1', '+1', '-1', '-4', '+1', '+1', '-1',\n",
       "       '-1', '-1', '+1', '-2', '+1', '-1', '-1', '-1', '-1', '+1', '+1',\n",
       "       '+1', '-1', '+1', '+1', '-1', '+1', '-1', '-1', '+1', '+1', '+1',\n",
       "       '-1', '-1', '-1', '+1', '+1', '-2', '-2', '+1', '-1', '-1', '-1',\n",
       "       '+1', '-1', '+1', '-1', '+1'], dtype=object)"
      ]
     },
     "execution_count": 22,
     "metadata": {},
     "output_type": "execute_result"
    }
   ],
   "source": [
    "y_pred = clf_rf.predict(X_test)\n",
    "y_pred"
   ]
  },
  {
   "cell_type": "code",
   "execution_count": 23,
   "metadata": {},
   "outputs": [],
   "source": [
    "cmatrix = confusion_matrix(y_test, y_pred, labels=label)"
   ]
  },
  {
   "cell_type": "code",
   "execution_count": 24,
   "metadata": {},
   "outputs": [
    {
     "data": {
      "text/html": [
       "<div>\n",
       "<style scoped>\n",
       "    .dataframe tbody tr th:only-of-type {\n",
       "        vertical-align: middle;\n",
       "    }\n",
       "\n",
       "    .dataframe tbody tr th {\n",
       "        vertical-align: top;\n",
       "    }\n",
       "\n",
       "    .dataframe thead th {\n",
       "        text-align: right;\n",
       "    }\n",
       "</style>\n",
       "<table border=\"1\" class=\"dataframe\">\n",
       "  <thead>\n",
       "    <tr style=\"text-align: right;\">\n",
       "      <th></th>\n",
       "      <th>Pred -4</th>\n",
       "      <th>Pred -3</th>\n",
       "      <th>Pred -2</th>\n",
       "      <th>Pred -1</th>\n",
       "      <th>Pred +1</th>\n",
       "      <th>Pred +2</th>\n",
       "      <th>Pred +3</th>\n",
       "      <th>Pred +4</th>\n",
       "    </tr>\n",
       "  </thead>\n",
       "  <tbody>\n",
       "    <tr>\n",
       "      <th>Actual -4</th>\n",
       "      <td>1</td>\n",
       "      <td>0</td>\n",
       "      <td>0</td>\n",
       "      <td>0</td>\n",
       "      <td>0</td>\n",
       "      <td>0</td>\n",
       "      <td>0</td>\n",
       "      <td>0</td>\n",
       "    </tr>\n",
       "    <tr>\n",
       "      <th>Actual -3</th>\n",
       "      <td>0</td>\n",
       "      <td>0</td>\n",
       "      <td>1</td>\n",
       "      <td>0</td>\n",
       "      <td>0</td>\n",
       "      <td>0</td>\n",
       "      <td>0</td>\n",
       "      <td>0</td>\n",
       "    </tr>\n",
       "    <tr>\n",
       "      <th>Actual -2</th>\n",
       "      <td>0</td>\n",
       "      <td>0</td>\n",
       "      <td>3</td>\n",
       "      <td>1</td>\n",
       "      <td>0</td>\n",
       "      <td>0</td>\n",
       "      <td>0</td>\n",
       "      <td>0</td>\n",
       "    </tr>\n",
       "    <tr>\n",
       "      <th>Actual -1</th>\n",
       "      <td>0</td>\n",
       "      <td>0</td>\n",
       "      <td>1</td>\n",
       "      <td>30</td>\n",
       "      <td>20</td>\n",
       "      <td>0</td>\n",
       "      <td>0</td>\n",
       "      <td>0</td>\n",
       "    </tr>\n",
       "    <tr>\n",
       "      <th>Actual +1</th>\n",
       "      <td>0</td>\n",
       "      <td>0</td>\n",
       "      <td>0</td>\n",
       "      <td>18</td>\n",
       "      <td>30</td>\n",
       "      <td>0</td>\n",
       "      <td>0</td>\n",
       "      <td>0</td>\n",
       "    </tr>\n",
       "    <tr>\n",
       "      <th>Actual +2</th>\n",
       "      <td>0</td>\n",
       "      <td>0</td>\n",
       "      <td>0</td>\n",
       "      <td>4</td>\n",
       "      <td>1</td>\n",
       "      <td>0</td>\n",
       "      <td>0</td>\n",
       "      <td>0</td>\n",
       "    </tr>\n",
       "    <tr>\n",
       "      <th>Actual +3</th>\n",
       "      <td>0</td>\n",
       "      <td>0</td>\n",
       "      <td>0</td>\n",
       "      <td>0</td>\n",
       "      <td>3</td>\n",
       "      <td>0</td>\n",
       "      <td>0</td>\n",
       "      <td>0</td>\n",
       "    </tr>\n",
       "    <tr>\n",
       "      <th>Actual +4</th>\n",
       "      <td>0</td>\n",
       "      <td>0</td>\n",
       "      <td>0</td>\n",
       "      <td>2</td>\n",
       "      <td>0</td>\n",
       "      <td>0</td>\n",
       "      <td>0</td>\n",
       "      <td>0</td>\n",
       "    </tr>\n",
       "  </tbody>\n",
       "</table>\n",
       "</div>"
      ],
      "text/plain": [
       "           Pred -4  Pred -3  Pred -2  Pred -1  Pred +1  Pred +2  Pred +3  \\\n",
       "Actual -4        1        0        0        0        0        0        0   \n",
       "Actual -3        0        0        1        0        0        0        0   \n",
       "Actual -2        0        0        3        1        0        0        0   \n",
       "Actual -1        0        0        1       30       20        0        0   \n",
       "Actual +1        0        0        0       18       30        0        0   \n",
       "Actual +2        0        0        0        4        1        0        0   \n",
       "Actual +3        0        0        0        0        3        0        0   \n",
       "Actual +4        0        0        0        2        0        0        0   \n",
       "\n",
       "           Pred +4  \n",
       "Actual -4        0  \n",
       "Actual -3        0  \n",
       "Actual -2        0  \n",
       "Actual -1        0  \n",
       "Actual +1        0  \n",
       "Actual +2        0  \n",
       "Actual +3        0  \n",
       "Actual +4        0  "
      ]
     },
     "execution_count": 24,
     "metadata": {},
     "output_type": "execute_result"
    }
   ],
   "source": [
    "confusionmatrix = pd.DataFrame(cmatrix, columns\n",
    "=['Pred -4', 'Pred -3', 'Pred -2', 'Pred -1', 'Pred +1', 'Pred +2', 'Pred +3', 'Pred +4'],\n",
    "index=['Actual -4', 'Actual -3', 'Actual -2', 'Actual -1', 'Actual +1', 'Actual +2', 'Actual +3', 'Actual +4'])\n",
    "confusionmatrix"
   ]
  },
  {
   "cell_type": "code",
   "execution_count": 25,
   "metadata": {},
   "outputs": [
    {
     "name": "stdout",
     "output_type": "stream",
     "text": [
      "Average precision for the 8 intervals is -  [1.         0.         0.6        0.54545455 0.55555556 0.\n",
      " 0.         0.        ]\n"
     ]
    }
   ],
   "source": [
    "print(\"Average precision for the 8 intervals is - \", precision_score(y_test, y_pred, labels=label, average = None))"
   ]
  },
  {
   "cell_type": "code",
   "execution_count": null,
   "metadata": {},
   "outputs": [],
   "source": []
  },
  {
   "cell_type": "code",
   "execution_count": 26,
   "metadata": {},
   "outputs": [
    {
     "data": {
      "text/html": [
       "<div>\n",
       "<style scoped>\n",
       "    .dataframe tbody tr th:only-of-type {\n",
       "        vertical-align: middle;\n",
       "    }\n",
       "\n",
       "    .dataframe tbody tr th {\n",
       "        vertical-align: top;\n",
       "    }\n",
       "\n",
       "    .dataframe thead th {\n",
       "        text-align: right;\n",
       "    }\n",
       "</style>\n",
       "<table border=\"1\" class=\"dataframe\">\n",
       "  <thead>\n",
       "    <tr style=\"text-align: right;\">\n",
       "      <th></th>\n",
       "      <th>cut_lag1</th>\n",
       "      <th>cut_lag2</th>\n",
       "      <th>cut_lag3</th>\n",
       "      <th>Label MA_lag1</th>\n",
       "      <th>Label MA_lag1</th>\n",
       "      <th>Label MA_lag1</th>\n",
       "      <th>price_close_lag1</th>\n",
       "      <th>volume_traded_lag1</th>\n",
       "      <th>trades_count_lag1</th>\n",
       "      <th>vol_per_count_lag1</th>\n",
       "    </tr>\n",
       "  </thead>\n",
       "  <tbody>\n",
       "    <tr>\n",
       "      <th>147</th>\n",
       "      <td>+2</td>\n",
       "      <td>-1</td>\n",
       "      <td>+1</td>\n",
       "      <td>3.750000</td>\n",
       "      <td>3.750000</td>\n",
       "      <td>3.750000</td>\n",
       "      <td>-0.464042</td>\n",
       "      <td>-0.145598</td>\n",
       "      <td>-0.140615</td>\n",
       "      <td>-0.083190</td>\n",
       "    </tr>\n",
       "    <tr>\n",
       "      <th>148</th>\n",
       "      <td>-1</td>\n",
       "      <td>+2</td>\n",
       "      <td>-1</td>\n",
       "      <td>3.400000</td>\n",
       "      <td>3.400000</td>\n",
       "      <td>3.400000</td>\n",
       "      <td>-0.789125</td>\n",
       "      <td>0.061142</td>\n",
       "      <td>0.140226</td>\n",
       "      <td>-0.247015</td>\n",
       "    </tr>\n",
       "    <tr>\n",
       "      <th>149</th>\n",
       "      <td>+1</td>\n",
       "      <td>-1</td>\n",
       "      <td>+2</td>\n",
       "      <td>3.375000</td>\n",
       "      <td>3.375000</td>\n",
       "      <td>3.375000</td>\n",
       "      <td>-0.711373</td>\n",
       "      <td>-0.492519</td>\n",
       "      <td>-0.194433</td>\n",
       "      <td>-1.249960</td>\n",
       "    </tr>\n",
       "    <tr>\n",
       "      <th>150</th>\n",
       "      <td>+1</td>\n",
       "      <td>+1</td>\n",
       "      <td>-1</td>\n",
       "      <td>3.454545</td>\n",
       "      <td>3.454545</td>\n",
       "      <td>3.454545</td>\n",
       "      <td>-0.593626</td>\n",
       "      <td>-0.628644</td>\n",
       "      <td>-0.083911</td>\n",
       "      <td>-2.029499</td>\n",
       "    </tr>\n",
       "    <tr>\n",
       "      <th>151</th>\n",
       "      <td>+1</td>\n",
       "      <td>+1</td>\n",
       "      <td>+1</td>\n",
       "      <td>3.416667</td>\n",
       "      <td>3.416667</td>\n",
       "      <td>3.416667</td>\n",
       "      <td>-0.303785</td>\n",
       "      <td>-0.736334</td>\n",
       "      <td>-0.412589</td>\n",
       "      <td>-1.665272</td>\n",
       "    </tr>\n",
       "  </tbody>\n",
       "</table>\n",
       "</div>"
      ],
      "text/plain": [
       "    cut_lag1 cut_lag2 cut_lag3  Label MA_lag1  Label MA_lag1  Label MA_lag1  \\\n",
       "147       +2       -1       +1       3.750000       3.750000       3.750000   \n",
       "148       -1       +2       -1       3.400000       3.400000       3.400000   \n",
       "149       +1       -1       +2       3.375000       3.375000       3.375000   \n",
       "150       +1       +1       -1       3.454545       3.454545       3.454545   \n",
       "151       +1       +1       +1       3.416667       3.416667       3.416667   \n",
       "\n",
       "     price_close_lag1  volume_traded_lag1  trades_count_lag1  \\\n",
       "147         -0.464042           -0.145598          -0.140615   \n",
       "148         -0.789125            0.061142           0.140226   \n",
       "149         -0.711373           -0.492519          -0.194433   \n",
       "150         -0.593626           -0.628644          -0.083911   \n",
       "151         -0.303785           -0.736334          -0.412589   \n",
       "\n",
       "     vol_per_count_lag1  \n",
       "147           -0.083190  \n",
       "148           -0.247015  \n",
       "149           -1.249960  \n",
       "150           -2.029499  \n",
       "151           -1.665272  "
      ]
     },
     "execution_count": 26,
     "metadata": {},
     "output_type": "execute_result"
    }
   ],
   "source": [
    "X.head()"
   ]
  },
  {
   "cell_type": "code",
   "execution_count": 27,
   "metadata": {},
   "outputs": [
    {
     "data": {
      "text/html": [
       "<div>\n",
       "<style scoped>\n",
       "    .dataframe tbody tr th:only-of-type {\n",
       "        vertical-align: middle;\n",
       "    }\n",
       "\n",
       "    .dataframe tbody tr th {\n",
       "        vertical-align: top;\n",
       "    }\n",
       "\n",
       "    .dataframe thead th {\n",
       "        text-align: right;\n",
       "    }\n",
       "</style>\n",
       "<table border=\"1\" class=\"dataframe\">\n",
       "  <thead>\n",
       "    <tr style=\"text-align: right;\">\n",
       "      <th></th>\n",
       "      <th>cut</th>\n",
       "      <th>cut_lag1</th>\n",
       "      <th>cut_lag2</th>\n",
       "      <th>cut_lag3</th>\n",
       "      <th>Label MA_lag1</th>\n",
       "      <th>Label MA_lag1</th>\n",
       "      <th>Label MA_lag1</th>\n",
       "      <th>price_close_lag1</th>\n",
       "      <th>volume_traded_lag1</th>\n",
       "      <th>trades_count_lag1</th>\n",
       "      <th>vol_per_count_lag1</th>\n",
       "    </tr>\n",
       "  </thead>\n",
       "  <tbody>\n",
       "    <tr>\n",
       "      <th>147</th>\n",
       "      <td>-1</td>\n",
       "      <td>+2</td>\n",
       "      <td>-1</td>\n",
       "      <td>+1</td>\n",
       "      <td>3.750000</td>\n",
       "      <td>3.750000</td>\n",
       "      <td>3.750000</td>\n",
       "      <td>5180.600000</td>\n",
       "      <td>3509.715085</td>\n",
       "      <td>7052.0</td>\n",
       "      <td>0.497691</td>\n",
       "    </tr>\n",
       "    <tr>\n",
       "      <th>148</th>\n",
       "      <td>+1</td>\n",
       "      <td>-1</td>\n",
       "      <td>+2</td>\n",
       "      <td>-1</td>\n",
       "      <td>3.400000</td>\n",
       "      <td>3.400000</td>\n",
       "      <td>3.400000</td>\n",
       "      <td>5127.250000</td>\n",
       "      <td>4051.892976</td>\n",
       "      <td>8414.0</td>\n",
       "      <td>0.481566</td>\n",
       "    </tr>\n",
       "    <tr>\n",
       "      <th>149</th>\n",
       "      <td>+1</td>\n",
       "      <td>+1</td>\n",
       "      <td>-1</td>\n",
       "      <td>+2</td>\n",
       "      <td>3.375000</td>\n",
       "      <td>3.375000</td>\n",
       "      <td>3.375000</td>\n",
       "      <td>5140.010000</td>\n",
       "      <td>2599.910887</td>\n",
       "      <td>6791.0</td>\n",
       "      <td>0.382847</td>\n",
       "    </tr>\n",
       "    <tr>\n",
       "      <th>150</th>\n",
       "      <td>+1</td>\n",
       "      <td>+1</td>\n",
       "      <td>+1</td>\n",
       "      <td>-1</td>\n",
       "      <td>3.454545</td>\n",
       "      <td>3.454545</td>\n",
       "      <td>3.454545</td>\n",
       "      <td>5159.333672</td>\n",
       "      <td>2242.920435</td>\n",
       "      <td>7327.0</td>\n",
       "      <td>0.306117</td>\n",
       "    </tr>\n",
       "    <tr>\n",
       "      <th>151</th>\n",
       "      <td>+2</td>\n",
       "      <td>+1</td>\n",
       "      <td>+1</td>\n",
       "      <td>+1</td>\n",
       "      <td>3.416667</td>\n",
       "      <td>3.416667</td>\n",
       "      <td>3.416667</td>\n",
       "      <td>5206.900000</td>\n",
       "      <td>1960.501063</td>\n",
       "      <td>5733.0</td>\n",
       "      <td>0.341968</td>\n",
       "    </tr>\n",
       "  </tbody>\n",
       "</table>\n",
       "</div>"
      ],
      "text/plain": [
       "    cut cut_lag1 cut_lag2 cut_lag3  Label MA_lag1  Label MA_lag1  \\\n",
       "147  -1       +2       -1       +1       3.750000       3.750000   \n",
       "148  +1       -1       +2       -1       3.400000       3.400000   \n",
       "149  +1       +1       -1       +2       3.375000       3.375000   \n",
       "150  +1       +1       +1       -1       3.454545       3.454545   \n",
       "151  +2       +1       +1       +1       3.416667       3.416667   \n",
       "\n",
       "     Label MA_lag1  price_close_lag1  volume_traded_lag1  trades_count_lag1  \\\n",
       "147       3.750000       5180.600000         3509.715085             7052.0   \n",
       "148       3.400000       5127.250000         4051.892976             8414.0   \n",
       "149       3.375000       5140.010000         2599.910887             6791.0   \n",
       "150       3.454545       5159.333672         2242.920435             7327.0   \n",
       "151       3.416667       5206.900000         1960.501063             5733.0   \n",
       "\n",
       "     vol_per_count_lag1  \n",
       "147            0.497691  \n",
       "148            0.481566  \n",
       "149            0.382847  \n",
       "150            0.306117  \n",
       "151            0.341968  "
      ]
     },
     "execution_count": 27,
     "metadata": {},
     "output_type": "execute_result"
    }
   ],
   "source": [
    "data_[['cut', 'cut_lag1', 'cut_lag2', 'cut_lag3',\n",
    "           'Label MA_lag1', 'Label MA_lag1', 'Label MA_lag1',\n",
    "           'price_close_lag1', \n",
    "           'volume_traded_lag1', 'trades_count_lag1', 'vol_per_count_lag1']].head()"
   ]
  },
  {
   "cell_type": "code",
   "execution_count": null,
   "metadata": {},
   "outputs": [],
   "source": []
  }
 ],
 "metadata": {
  "kernelspec": {
   "display_name": "Python 3",
   "language": "python",
   "name": "python3"
  },
  "language_info": {
   "codemirror_mode": {
    "name": "ipython",
    "version": 3
   },
   "file_extension": ".py",
   "mimetype": "text/x-python",
   "name": "python",
   "nbconvert_exporter": "python",
   "pygments_lexer": "ipython3",
   "version": "3.6.5"
  }
 },
 "nbformat": 4,
 "nbformat_minor": 2
}
